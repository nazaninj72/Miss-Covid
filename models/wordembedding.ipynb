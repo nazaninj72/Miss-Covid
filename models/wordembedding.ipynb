{
 "cells": [
  {
   "cell_type": "code",
   "execution_count": 1,
   "metadata": {},
   "outputs": [],
   "source": [
    "import matplotlib.pyplot as plt\n",
    "%matplotlib inline\n",
    "import seaborn as sns\n",
    "import itertools\n",
    "from dt import *\n",
    "from rfc import *\n",
    "from svm import *\n",
    "from lr import *"
   ]
  },
  {
   "cell_type": "code",
   "execution_count": 2,
   "metadata": {},
   "outputs": [],
   "source": [
    "import pandas as pd \n",
    "import csv\n",
    "import numpy as np\n",
    "from sklearn.svm import LinearSVC\n",
    "from sklearn.preprocessing import StandardScaler\n",
    "from sklearn.model_selection import cross_val_score\n",
    "\n",
    "import matplotlib.pyplot as plt\n",
    "%matplotlib inline\n",
    "import seaborn as sns\n",
    "\n",
    "from collections import Counter, defaultdict\n",
    "\n",
    "from sklearn.feature_extraction.text import TfidfVectorizer\n",
    "\n",
    "# col_list=['screen_name','tweet','hashtag','url','#retweets','#favorites','label']\n",
    "col_list=['screen_name','tweet','label']\n",
    "df=pd.read_csv('C:/ds4cg2020/data/labeledtweets-flu.csv', usecols =col_list) \n",
    "df2=pd.read_csv('C:/ds4cg2020/data/january_flu_tweets.csv', usecols =col_list)\n",
    "# df['burl'] = df['url'].apply(lambda x: 1 if not pd.isnull(x) else 0)\n",
    "# df['bhashtag'] = df['hashtag'].apply(lambda x: 1 if len(x) > 4 else 0)\n",
    "forbidden_keys=\"kung flu\"\n",
    "for i,v in enumerate(df['tweet']):\n",
    "    if forbidden_keys in df.at[i,'tweet'].lower():\n",
    "        df.at[i,'label']=np.nan"
   ]
  },
  {
   "cell_type": "code",
   "execution_count": 3,
   "metadata": {},
   "outputs": [],
   "source": [
    "def clean_df(df):\n",
    "    df=df.dropna(subset=['label'])\n",
    "    df=df[df.label != '?']\n",
    "    df=df[df.label != 'no content']\n",
    "    df=df.sort_values(by=['label'])\n",
    "    df=df.dropna(subset=['tweet'])\n",
    "    return df"
   ]
  },
  {
   "cell_type": "code",
   "execution_count": 4,
   "metadata": {},
   "outputs": [],
   "source": [
    "df=clean_df(df)\n",
    "df2=clean_df(df2)\n",
    "df=df.append(df2)"
   ]
  },
  {
   "cell_type": "code",
   "execution_count": 5,
   "metadata": {},
   "outputs": [
    {
     "data": {
      "text/plain": [
       "TRUE    226\n",
       "Fake    192\n",
       "Name: label, dtype: int64"
      ]
     },
     "execution_count": 5,
     "metadata": {},
     "output_type": "execute_result"
    }
   ],
   "source": [
    "df.label.value_counts()"
   ]
  },
  {
   "cell_type": "code",
   "execution_count": 6,
   "metadata": {},
   "outputs": [],
   "source": [
    "import re, nltk\n",
    "from nltk.stem import WordNetLemmatizer\n",
    "from nltk.corpus import stopwords\n",
    "# nltk.download('wordnet')\n",
    "stop_words = set(stopwords.words('english'))\n",
    "wordnet_lemmatizer = WordNetLemmatizer()\n",
    "\n",
    "def normalizer(tweet):\n",
    "    tweet = re.sub(r\"http\\S+\", \"\", tweet)\n",
    "    only_letters = re.sub(\"[^a-zA-Z]\", \" \",tweet) \n",
    "    tokens = nltk.word_tokenize(only_letters)[2:]\n",
    "    lower_case = [l.lower() for l in tokens]\n",
    "    filtered_result = list(filter(lambda l: l not in stop_words, lower_case))\n",
    "    lemmas = [wordnet_lemmatizer.lemmatize(t) for t in filtered_result]\n",
    "    return lemmas"
   ]
  },
  {
   "cell_type": "code",
   "execution_count": 7,
   "metadata": {},
   "outputs": [
    {
     "name": "stderr",
     "output_type": "stream",
     "text": [
      "C:\\Users\\nazan\\anaconda3\\lib\\site-packages\\ipykernel_launcher.py:1: FutureWarning: Passing a negative integer is deprecated in version 1.0 and will not be supported in future version. Instead, use None to not limit the column width.\n",
      "  \"\"\"Entry point for launching an IPython kernel.\n"
     ]
    },
    {
     "data": {
      "text/html": [
       "<div>\n",
       "<style scoped>\n",
       "    .dataframe tbody tr th:only-of-type {\n",
       "        vertical-align: middle;\n",
       "    }\n",
       "\n",
       "    .dataframe tbody tr th {\n",
       "        vertical-align: top;\n",
       "    }\n",
       "\n",
       "    .dataframe thead th {\n",
       "        text-align: right;\n",
       "    }\n",
       "</style>\n",
       "<table border=\"1\" class=\"dataframe\">\n",
       "  <thead>\n",
       "    <tr style=\"text-align: right;\">\n",
       "      <th></th>\n",
       "      <th>tweet</th>\n",
       "      <th>normalized_tweet</th>\n",
       "    </tr>\n",
       "  </thead>\n",
       "  <tbody>\n",
       "    <tr>\n",
       "      <th>633</th>\n",
       "      <td>0.01% death rate, lower than the seasonal flu! #CoronaVirusHOAX #OPENAMERICANOW  https://t.co/nDNgTy6HY7</td>\n",
       "      <td>[lower, seasonal, flu, coronavirushoax, openamericanow]</td>\n",
       "    </tr>\n",
       "    <tr>\n",
       "      <th>198</th>\n",
       "      <td>@JuliansRum 100,000 coronavirus cases or 100,000 influenza cases? \\nSymptoms used to diagnose coronavirus same as the flu.\\n\\nInfluenza positive cases in week 10, 12 and 14 same time as COVID19 cases rise. https://t.co/eNVg5SrehN</td>\n",
       "      <td>[case, influenza, case, symptom, used, diagnose, coronavirus, flu, influenza, positive, case, week, time, covid, case, rise]</td>\n",
       "    </tr>\n",
       "    <tr>\n",
       "      <th>467</th>\n",
       "      <td>@KLFY It’s all a Hoax and a farce. Not any worse than the seasonal flu. All the hype is politically motivated. Almost all of Flu cases have been claimed as Covid19. All China based Virus is a Coronavirus. Covid19 is a different strain of the Seasonal Flu. KLFY research that..</td>\n",
       "      <td>[hoax, farce, worse, seasonal, flu, hype, politically, motivated, almost, flu, case, claimed, covid, china, based, virus, coronavirus, covid, different, strain, seasonal, flu, klfy, research]</td>\n",
       "    </tr>\n",
       "    <tr>\n",
       "      <th>205</th>\n",
       "      <td>OUTRAGE as NEW YORK medical community moved 8,000 deaths in 1 Month from #HeartDisease, #Cancer, #Accidents, #Stroke, #Alzheimer's, #Homicide, etc. into #Covid19 Column #CoronaVirus #ChinaVirus #FauciFraud #FireFauci #FireBirx #DefundCDC #NYC #GovCoumo #NewYorkFraud #Flu #Fraud https://t.co/HwFFT2fEQV</td>\n",
       "      <td>[new, york, medical, community, moved, death, month, heartdisease, cancer, accident, stroke, alzheimer, homicide, etc, covid, column, coronavirus, chinavirus, faucifraud, firefauci, firebirx, defundcdc, nyc, govcoumo, newyorkfraud, flu, fraud]</td>\n",
       "    </tr>\n",
       "    <tr>\n",
       "      <th>209</th>\n",
       "      <td>@dikell3 @GovMikeDeWine Dianne, 2016/2017 flu season had 29,000,000 infections. Covid19 is world's 7th coronavirus. Did you wear 😷 past seasons? Why now?</td>\n",
       "      <td>[dianne, flu, season, infection, covid, world, th, coronavirus, wear, past, season]</td>\n",
       "    </tr>\n",
       "  </tbody>\n",
       "</table>\n",
       "</div>"
      ],
      "text/plain": [
       "                                                                                                                                                                                                                                                                                                              tweet  \\\n",
       "633  0.01% death rate, lower than the seasonal flu! #CoronaVirusHOAX #OPENAMERICANOW  https://t.co/nDNgTy6HY7                                                                                                                                                                                                         \n",
       "198  @JuliansRum 100,000 coronavirus cases or 100,000 influenza cases? \\nSymptoms used to diagnose coronavirus same as the flu.\\n\\nInfluenza positive cases in week 10, 12 and 14 same time as COVID19 cases rise. https://t.co/eNVg5SrehN                                                                            \n",
       "467  @KLFY It’s all a Hoax and a farce. Not any worse than the seasonal flu. All the hype is politically motivated. Almost all of Flu cases have been claimed as Covid19. All China based Virus is a Coronavirus. Covid19 is a different strain of the Seasonal Flu. KLFY research that..                             \n",
       "205  OUTRAGE as NEW YORK medical community moved 8,000 deaths in 1 Month from #HeartDisease, #Cancer, #Accidents, #Stroke, #Alzheimer's, #Homicide, etc. into #Covid19 Column #CoronaVirus #ChinaVirus #FauciFraud #FireFauci #FireBirx #DefundCDC #NYC #GovCoumo #NewYorkFraud #Flu #Fraud https://t.co/HwFFT2fEQV   \n",
       "209  @dikell3 @GovMikeDeWine Dianne, 2016/2017 flu season had 29,000,000 infections. Covid19 is world's 7th coronavirus. Did you wear 😷 past seasons? Why now?                                                                                                                                                        \n",
       "\n",
       "                                                                                                                                                                                                                                        normalized_tweet  \n",
       "633  [lower, seasonal, flu, coronavirushoax, openamericanow]                                                                                                                                                                                              \n",
       "198  [case, influenza, case, symptom, used, diagnose, coronavirus, flu, influenza, positive, case, week, time, covid, case, rise]                                                                                                                         \n",
       "467  [hoax, farce, worse, seasonal, flu, hype, politically, motivated, almost, flu, case, claimed, covid, china, based, virus, coronavirus, covid, different, strain, seasonal, flu, klfy, research]                                                      \n",
       "205  [new, york, medical, community, moved, death, month, heartdisease, cancer, accident, stroke, alzheimer, homicide, etc, covid, column, coronavirus, chinavirus, faucifraud, firefauci, firebirx, defundcdc, nyc, govcoumo, newyorkfraud, flu, fraud]  \n",
       "209  [dianne, flu, season, infection, covid, world, th, coronavirus, wear, past, season]                                                                                                                                                                  "
      ]
     },
     "execution_count": 7,
     "metadata": {},
     "output_type": "execute_result"
    }
   ],
   "source": [
    "pd.set_option('display.max_colwidth', -1) # Setting this so we can see the full content of cells\n",
    "df['normalized_tweet'] = df.tweet.apply(normalizer)\n",
    "df[['tweet','normalized_tweet']].head()"
   ]
  },
  {
   "cell_type": "code",
   "execution_count": 8,
   "metadata": {},
   "outputs": [],
   "source": [
    "df2=df[df.astype(str)['normalized_tweet'] != '[]']"
   ]
  },
  {
   "cell_type": "code",
   "execution_count": 9,
   "metadata": {},
   "outputs": [
    {
     "data": {
      "text/html": [
       "<div>\n",
       "<style scoped>\n",
       "    .dataframe tbody tr th:only-of-type {\n",
       "        vertical-align: middle;\n",
       "    }\n",
       "\n",
       "    .dataframe tbody tr th {\n",
       "        vertical-align: top;\n",
       "    }\n",
       "\n",
       "    .dataframe thead th {\n",
       "        text-align: right;\n",
       "    }\n",
       "</style>\n",
       "<table border=\"1\" class=\"dataframe\">\n",
       "  <thead>\n",
       "    <tr style=\"text-align: right;\">\n",
       "      <th></th>\n",
       "      <th>screen_name</th>\n",
       "      <th>tweet</th>\n",
       "      <th>label</th>\n",
       "      <th>normalized_tweet</th>\n",
       "    </tr>\n",
       "  </thead>\n",
       "  <tbody>\n",
       "    <tr>\n",
       "      <th>633</th>\n",
       "      <td>MAGAGramie</td>\n",
       "      <td>0.01% death rate, lower than the seasonal flu! #CoronaVirusHOAX #OPENAMERICANOW  https://t.co/nDNgTy6HY7</td>\n",
       "      <td>Fake</td>\n",
       "      <td>[lower, seasonal, flu, coronavirushoax, openamericanow]</td>\n",
       "    </tr>\n",
       "    <tr>\n",
       "      <th>198</th>\n",
       "      <td>PatriotAust</td>\n",
       "      <td>@JuliansRum 100,000 coronavirus cases or 100,000 influenza cases? \\nSymptoms used to diagnose coronavirus same as the flu.\\n\\nInfluenza positive cases in week 10, 12 and 14 same time as COVID19 cases rise. https://t.co/eNVg5SrehN</td>\n",
       "      <td>Fake</td>\n",
       "      <td>[case, influenza, case, symptom, used, diagnose, coronavirus, flu, influenza, positive, case, week, time, covid, case, rise]</td>\n",
       "    </tr>\n",
       "    <tr>\n",
       "      <th>467</th>\n",
       "      <td>LegerDouglas</td>\n",
       "      <td>@KLFY It’s all a Hoax and a farce. Not any worse than the seasonal flu. All the hype is politically motivated. Almost all of Flu cases have been claimed as Covid19. All China based Virus is a Coronavirus. Covid19 is a different strain of the Seasonal Flu. KLFY research that..</td>\n",
       "      <td>Fake</td>\n",
       "      <td>[hoax, farce, worse, seasonal, flu, hype, politically, motivated, almost, flu, case, claimed, covid, china, based, virus, coronavirus, covid, different, strain, seasonal, flu, klfy, research]</td>\n",
       "    </tr>\n",
       "    <tr>\n",
       "      <th>205</th>\n",
       "      <td>PRNPool</td>\n",
       "      <td>OUTRAGE as NEW YORK medical community moved 8,000 deaths in 1 Month from #HeartDisease, #Cancer, #Accidents, #Stroke, #Alzheimer's, #Homicide, etc. into #Covid19 Column #CoronaVirus #ChinaVirus #FauciFraud #FireFauci #FireBirx #DefundCDC #NYC #GovCoumo #NewYorkFraud #Flu #Fraud https://t.co/HwFFT2fEQV</td>\n",
       "      <td>Fake</td>\n",
       "      <td>[new, york, medical, community, moved, death, month, heartdisease, cancer, accident, stroke, alzheimer, homicide, etc, covid, column, coronavirus, chinavirus, faucifraud, firefauci, firebirx, defundcdc, nyc, govcoumo, newyorkfraud, flu, fraud]</td>\n",
       "    </tr>\n",
       "    <tr>\n",
       "      <th>209</th>\n",
       "      <td>jmr568ccc</td>\n",
       "      <td>@dikell3 @GovMikeDeWine Dianne, 2016/2017 flu season had 29,000,000 infections. Covid19 is world's 7th coronavirus. Did you wear 😷 past seasons? Why now?</td>\n",
       "      <td>Fake</td>\n",
       "      <td>[dianne, flu, season, infection, covid, world, th, coronavirus, wear, past, season]</td>\n",
       "    </tr>\n",
       "    <tr>\n",
       "      <th>...</th>\n",
       "      <td>...</td>\n",
       "      <td>...</td>\n",
       "      <td>...</td>\n",
       "      <td>...</td>\n",
       "    </tr>\n",
       "    <tr>\n",
       "      <th>48</th>\n",
       "      <td>Nanyingih</td>\n",
       "      <td>FLU VIRUSES JUMPING INTO PANDEMICS\\n\\nEpidemiologic shifts, virus mutations and vaccinology showcased as the world is wakes up to  2019 2019-nCoV a relative of SARS or MERSCOV, the number of nCoV cases &amp;gt;300, 9 deaths in 🇨🇳 1 case confirmed in 🇺🇸 \\n\\nhttps://t.co/4J3li4tPSB</td>\n",
       "      <td>TRUE</td>\n",
       "      <td>[jumping, pandemic, epidemiologic, shift, virus, mutation, vaccinology, showcased, world, wake, ncov, relative, sars, merscov, number, ncov, case, gt, death, case, confirmed]</td>\n",
       "    </tr>\n",
       "    <tr>\n",
       "      <th>3</th>\n",
       "      <td>Wolf_InTheWilds</td>\n",
       "      <td>@rebelfd @MackayIM The ones who died already had serious illness. And the estimated amount last week was over 2000. The mortality rate is below 0.5pct. Understand the statistics of infection. Many mild cases do not get reported. CDC estimates of flu deaths are also based on statistical sampling</td>\n",
       "      <td>TRUE</td>\n",
       "      <td>[one, died, already, serious, illness, estimated, amount, last, week, mortality, rate, pct, understand, statistic, infection, many, mild, case, get, reported, cdc, estimate, flu, death, also, based, statistical, sampling]</td>\n",
       "    </tr>\n",
       "    <tr>\n",
       "      <th>438</th>\n",
       "      <td>semfyc_int</td>\n",
       "      <td>\"It is not easy to detect and count cases, since we are in the annual flu epidemic and that symptoms are very similar. On the other hand, the Wuhan council health website has been publishing live the numbers of affected people. This seems unthinkable in Europe\"\\n\\n⛑️ \\n(4a/8)\\n👇 https://t.co/HVsT1gNfcX</td>\n",
       "      <td>TRUE</td>\n",
       "      <td>[easy, detect, count, case, since, annual, flu, epidemic, symptom, similar, hand, wuhan, council, health, website, publishing, live, number, affected, people, seems, unthinkable, europe]</td>\n",
       "    </tr>\n",
       "    <tr>\n",
       "      <th>26</th>\n",
       "      <td>umkcIM</td>\n",
       "      <td>Subjective flu like symptoms is common presentation\\nWhen should you suspect #2019-nCoV? If in the 14 days before symptom onset, patient had a history of travel from Wuhan City, China or close contact with a person who is under investigation for 2019-nCoV while that person was ill https://t.co/yXSSwxuZBU</td>\n",
       "      <td>TRUE</td>\n",
       "      <td>[like, symptom, common, presentation, suspect, ncov, day, symptom, onset, patient, history, travel, wuhan, city, china, close, contact, person, investigation, ncov, person, ill]</td>\n",
       "    </tr>\n",
       "    <tr>\n",
       "      <th>23</th>\n",
       "      <td>eatscentric</td>\n",
       "      <td>Yow aren't you all scare of the novel coronavirus or the 2019-nCov?? Plus Dinagyang is fast approaching and u can just imagine the influx of tourists. Don't want to cause panic but pls practice frequent handwashing and proper cough etiquette !!</td>\n",
       "      <td>TRUE</td>\n",
       "      <td>[scare, novel, coronavirus, ncov, plus, dinagyang, fast, approaching, u, imagine, influx, tourist, want, cause, panic, pls, practice, frequent, handwashing, proper, cough, etiquette]</td>\n",
       "    </tr>\n",
       "  </tbody>\n",
       "</table>\n",
       "<p>417 rows × 4 columns</p>\n",
       "</div>"
      ],
      "text/plain": [
       "         screen_name  \\\n",
       "633  MAGAGramie        \n",
       "198  PatriotAust       \n",
       "467  LegerDouglas      \n",
       "205  PRNPool           \n",
       "209  jmr568ccc         \n",
       "..         ...         \n",
       "48   Nanyingih         \n",
       "3    Wolf_InTheWilds   \n",
       "438  semfyc_int        \n",
       "26   umkcIM            \n",
       "23   eatscentric       \n",
       "\n",
       "                                                                                                                                                                                                                                                                                                                 tweet  \\\n",
       "633  0.01% death rate, lower than the seasonal flu! #CoronaVirusHOAX #OPENAMERICANOW  https://t.co/nDNgTy6HY7                                                                                                                                                                                                            \n",
       "198  @JuliansRum 100,000 coronavirus cases or 100,000 influenza cases? \\nSymptoms used to diagnose coronavirus same as the flu.\\n\\nInfluenza positive cases in week 10, 12 and 14 same time as COVID19 cases rise. https://t.co/eNVg5SrehN                                                                               \n",
       "467  @KLFY It’s all a Hoax and a farce. Not any worse than the seasonal flu. All the hype is politically motivated. Almost all of Flu cases have been claimed as Covid19. All China based Virus is a Coronavirus. Covid19 is a different strain of the Seasonal Flu. KLFY research that..                                \n",
       "205  OUTRAGE as NEW YORK medical community moved 8,000 deaths in 1 Month from #HeartDisease, #Cancer, #Accidents, #Stroke, #Alzheimer's, #Homicide, etc. into #Covid19 Column #CoronaVirus #ChinaVirus #FauciFraud #FireFauci #FireBirx #DefundCDC #NYC #GovCoumo #NewYorkFraud #Flu #Fraud https://t.co/HwFFT2fEQV      \n",
       "209  @dikell3 @GovMikeDeWine Dianne, 2016/2017 flu season had 29,000,000 infections. Covid19 is world's 7th coronavirus. Did you wear 😷 past seasons? Why now?                                                                                                                                                           \n",
       "..                                                                                                                                                         ...                                                                                                                                                           \n",
       "48   FLU VIRUSES JUMPING INTO PANDEMICS\\n\\nEpidemiologic shifts, virus mutations and vaccinology showcased as the world is wakes up to  2019 2019-nCoV a relative of SARS or MERSCOV, the number of nCoV cases &gt;300, 9 deaths in 🇨🇳 1 case confirmed in 🇺🇸 \\n\\nhttps://t.co/4J3li4tPSB                                \n",
       "3    @rebelfd @MackayIM The ones who died already had serious illness. And the estimated amount last week was over 2000. The mortality rate is below 0.5pct. Understand the statistics of infection. Many mild cases do not get reported. CDC estimates of flu deaths are also based on statistical sampling             \n",
       "438  \"It is not easy to detect and count cases, since we are in the annual flu epidemic and that symptoms are very similar. On the other hand, the Wuhan council health website has been publishing live the numbers of affected people. This seems unthinkable in Europe\"\\n\\n⛑️ \\n(4a/8)\\n👇 https://t.co/HVsT1gNfcX     \n",
       "26   Subjective flu like symptoms is common presentation\\nWhen should you suspect #2019-nCoV? If in the 14 days before symptom onset, patient had a history of travel from Wuhan City, China or close contact with a person who is under investigation for 2019-nCoV while that person was ill https://t.co/yXSSwxuZBU   \n",
       "23   Yow aren't you all scare of the novel coronavirus or the 2019-nCov?? Plus Dinagyang is fast approaching and u can just imagine the influx of tourists. Don't want to cause panic but pls practice frequent handwashing and proper cough etiquette !!                                                                \n",
       "\n",
       "    label  \\\n",
       "633  Fake   \n",
       "198  Fake   \n",
       "467  Fake   \n",
       "205  Fake   \n",
       "209  Fake   \n",
       "..    ...   \n",
       "48   TRUE   \n",
       "3    TRUE   \n",
       "438  TRUE   \n",
       "26   TRUE   \n",
       "23   TRUE   \n",
       "\n",
       "                                                                                                                                                                                                                                        normalized_tweet  \n",
       "633  [lower, seasonal, flu, coronavirushoax, openamericanow]                                                                                                                                                                                              \n",
       "198  [case, influenza, case, symptom, used, diagnose, coronavirus, flu, influenza, positive, case, week, time, covid, case, rise]                                                                                                                         \n",
       "467  [hoax, farce, worse, seasonal, flu, hype, politically, motivated, almost, flu, case, claimed, covid, china, based, virus, coronavirus, covid, different, strain, seasonal, flu, klfy, research]                                                      \n",
       "205  [new, york, medical, community, moved, death, month, heartdisease, cancer, accident, stroke, alzheimer, homicide, etc, covid, column, coronavirus, chinavirus, faucifraud, firefauci, firebirx, defundcdc, nyc, govcoumo, newyorkfraud, flu, fraud]  \n",
       "209  [dianne, flu, season, infection, covid, world, th, coronavirus, wear, past, season]                                                                                                                                                                  \n",
       "..                                                                                   ...                                                                                                                                                                  \n",
       "48   [jumping, pandemic, epidemiologic, shift, virus, mutation, vaccinology, showcased, world, wake, ncov, relative, sars, merscov, number, ncov, case, gt, death, case, confirmed]                                                                       \n",
       "3    [one, died, already, serious, illness, estimated, amount, last, week, mortality, rate, pct, understand, statistic, infection, many, mild, case, get, reported, cdc, estimate, flu, death, also, based, statistical, sampling]                        \n",
       "438  [easy, detect, count, case, since, annual, flu, epidemic, symptom, similar, hand, wuhan, council, health, website, publishing, live, number, affected, people, seems, unthinkable, europe]                                                           \n",
       "26   [like, symptom, common, presentation, suspect, ncov, day, symptom, onset, patient, history, travel, wuhan, city, china, close, contact, person, investigation, ncov, person, ill]                                                                    \n",
       "23   [scare, novel, coronavirus, ncov, plus, dinagyang, fast, approaching, u, imagine, influx, tourist, want, cause, panic, pls, practice, frequent, handwashing, proper, cough, etiquette]                                                               \n",
       "\n",
       "[417 rows x 4 columns]"
      ]
     },
     "execution_count": 9,
     "metadata": {},
     "output_type": "execute_result"
    }
   ],
   "source": [
    "df2"
   ]
  },
  {
   "cell_type": "code",
   "execution_count": 10,
   "metadata": {},
   "outputs": [],
   "source": [
    "X=df2.normalized_tweet.values\n"
   ]
  },
  {
   "cell_type": "code",
   "execution_count": 11,
   "metadata": {},
   "outputs": [
    {
     "data": {
      "text/plain": [
       "(417,)"
      ]
     },
     "execution_count": 11,
     "metadata": {},
     "output_type": "execute_result"
    }
   ],
   "source": [
    "X.shape"
   ]
  },
  {
   "cell_type": "code",
   "execution_count": 12,
   "metadata": {},
   "outputs": [],
   "source": [
    "from gensim.models.word2vec import Word2Vec"
   ]
  },
  {
   "cell_type": "code",
   "execution_count": 30,
   "metadata": {},
   "outputs": [
    {
     "name": "stderr",
     "output_type": "stream",
     "text": [
      "C:\\Users\\nazan\\anaconda3\\lib\\site-packages\\ipykernel_launcher.py:2: DeprecationWarning: Call to deprecated `syn0` (Attribute will be removed in 4.0.0, use self.vectors instead).\n",
      "  \n"
     ]
    }
   ],
   "source": [
    "model = Word2Vec(X, size=100, window=5, min_count=5, workers=2)\n",
    "w2v = {w: vec for w, vec in zip(model.wv.index2word, model.wv.syn0)}"
   ]
  },
  {
   "cell_type": "code",
   "execution_count": 31,
   "metadata": {},
   "outputs": [
    {
     "data": {
      "text/plain": [
       "310"
      ]
     },
     "execution_count": 31,
     "metadata": {},
     "output_type": "execute_result"
    }
   ],
   "source": [
    "len(w2v.values())"
   ]
  },
  {
   "cell_type": "code",
   "execution_count": 32,
   "metadata": {},
   "outputs": [],
   "source": [
    "class MeanEmbeddingVectorizer(object):\n",
    "    def __init__(self, word2vec):\n",
    "        self.word2vec = word2vec\n",
    "        # if a text is empty we should return a vector of zeros\n",
    "        # with the same dimensionality as all the other vectors\n",
    "        self.dim = len(word2vec.values())\n",
    "\n",
    "    def fit(self, X, y):\n",
    "        return self\n",
    "\n",
    "    def transform(self, X):\n",
    "        return np.array([\n",
    "            np.mean([self.word2vec[w] for w in words if w in self.word2vec]\n",
    "                    or [np.zeros(self.dim)], axis=0)\n",
    "            for words in X\n",
    "        ])\n",
    "\n",
    "    \n",
    "# and a tf-idf version of the same\n",
    "class TfidfEmbeddingVectorizer(object):\n",
    "    def __init__(self, word2vec):\n",
    "        self.word2vec = word2vec\n",
    "        self.word2weight = None\n",
    "        print(len(word2vec.values()))\n",
    "        if len(word2vec)>0:\n",
    "            self.dim= len(word2vec.values())\n",
    "        else:\n",
    "            self.dim=0\n",
    "        \n",
    "    def fit(self, X, y):\n",
    "        tfidf = TfidfVectorizer(analyzer=lambda x: x)\n",
    "        tfidf.fit(X)\n",
    "        # if a word was never seen - it must be at least as infrequent\n",
    "        # as any of the known words - so the default idf is the max of \n",
    "        # known idf's\n",
    "        max_idf = max(tfidf.idf_)\n",
    "        self.word2weight = defaultdict(\n",
    "            lambda: max_idf, \n",
    "            [(w, tfidf.idf_[i]) for w, i in tfidf.vocabulary_.items()])\n",
    "    \n",
    "        return self\n",
    "    \n",
    "    def transform(self, X):\n",
    "        return np.array([\n",
    "                np.mean([self.word2vec[w] * self.word2weight[w]\n",
    "                         for w in words if w in self.word2vec] or\n",
    "                        [np.zeros(100)], axis=0)\n",
    "                for words in X\n",
    "            ])"
   ]
  },
  {
   "cell_type": "code",
   "execution_count": 33,
   "metadata": {},
   "outputs": [],
   "source": [
    "y = df2['label'].values"
   ]
  },
  {
   "cell_type": "code",
   "execution_count": null,
   "metadata": {},
   "outputs": [],
   "source": [
    "etree_w2v = Pipeline([(\"word2vec vectorizer\", MeanEmbeddingVectorizer(w2v)), \n",
    "                        (\"extra trees\", ExtraTreesClassifier(n_estimators=200))])\n",
    "etree_w2v_tfidf = Pipeline([(\"word2vec vectorizer\", TfidfEmbeddingVectorizer(w2v)), \n",
    "                        (\"extra trees\", ExtraTreesClassifier(n_estimators=200))])"
   ]
  },
  {
   "cell_type": "code",
   "execution_count": 34,
   "metadata": {},
   "outputs": [
    {
     "name": "stdout",
     "output_type": "stream",
     "text": [
      "310\n"
     ]
    }
   ],
   "source": [
    "tfif= TfidfEmbeddingVectorizer(w2v)\n"
   ]
  },
  {
   "cell_type": "code",
   "execution_count": 35,
   "metadata": {},
   "outputs": [
    {
     "data": {
      "text/plain": [
       "<__main__.TfidfEmbeddingVectorizer at 0x1ea4c97c148>"
      ]
     },
     "execution_count": 35,
     "metadata": {},
     "output_type": "execute_result"
    }
   ],
   "source": [
    "tfif.fit(X,y)"
   ]
  },
  {
   "cell_type": "code",
   "execution_count": 36,
   "metadata": {},
   "outputs": [],
   "source": [
    "tf_vector=tfif.transform(X)"
   ]
  },
  {
   "cell_type": "code",
   "execution_count": 37,
   "metadata": {},
   "outputs": [
    {
     "data": {
      "text/plain": [
       "(417, 100)"
      ]
     },
     "execution_count": 37,
     "metadata": {},
     "output_type": "execute_result"
    }
   ],
   "source": [
    "tf_vector.shape"
   ]
  },
  {
   "cell_type": "code",
   "execution_count": 22,
   "metadata": {},
   "outputs": [],
   "source": [
    "\n",
    "from sklearn.ensemble import RandomForestClassifier\n",
    "from sklearn.metrics import precision_score, recall_score, roc_auc_score, roc_curve\n",
    "\n",
    "from sklearn.model_selection import train_test_split\n",
    "from sklearn.metrics import classification_report\n",
    "from sklearn.metrics import confusion_matrix  \n",
    "from sklearn.metrics import accuracy_score"
   ]
  },
  {
   "cell_type": "code",
   "execution_count": 23,
   "metadata": {},
   "outputs": [],
   "source": [
    "class RandomForest:\n",
    "    def __init__(self,RSEED=50,MAX_DEPTH=20,n_estimators=100):\n",
    "        self.rseed=RSEED \n",
    "        self.max_depth=MAX_DEPTH\n",
    "        self.n_estimators=n_estimators\n",
    "    def train(self,X,y):\n",
    "        model = RandomForestClassifier(n_estimators=self.n_estimators, \n",
    "                               bootstrap = True,\n",
    "                               max_features = 'sqrt')\n",
    "        # Fit on training data\n",
    "        indices = np.arange(len(X))\n",
    "        train_idx, test_idx, y_train, y_test= train_test_split(indices, y,stratify = y, test_size=0.25, random_state=42)\n",
    "        train_X = X[train_idx]\n",
    "        test_X = X[test_idx]\n",
    "        model=model.fit(train_X,y_train)\n",
    "\n",
    "        return model,test_X, y_test,y_train,train_X,train_idx, test_idx\n",
    "\n",
    "    def evaluate(self,model,test_X, y_test,y_train,train_X):\n",
    "        \"\"\"Compare machine learning model to baseline performance.\n",
    "        Computes statistics and shows ROC curve.\"\"\"\n",
    "        results = {}\n",
    "        \n",
    "        print(f'Model Accuracy: {model.score(test_X, y_test)}')\n",
    "        train_probs = model.predict_proba(train_X)[:, 1]\n",
    "        probs = model.predict_proba(test_X)[:, 1]\n",
    "\n",
    "        train_predictions = model.predict(train_X)\n",
    "        predictions = model.predict(test_X)\n",
    "\n",
    "\n",
    "        print(f'Train ROC AUC Score: {roc_auc_score(y_train, train_probs)}')\n",
    "        print(f'Test ROC AUC  Score: {roc_auc_score(y_test, probs)}')\n",
    "        \n",
    "\n",
    "\n",
    "        results['recall'] = recall_score(y_test, predictions, average=\"binary\", pos_label='Fake')\n",
    "        results['precision'] = precision_score(y_test, predictions, average=\"binary\", pos_label='Fake')\n",
    "        results['roc'] = roc_auc_score(y_test, probs)\n",
    "        print(results)\n",
    "        return y_test,predictions"
   ]
  },
  {
   "cell_type": "code",
   "execution_count": null,
   "metadata": {},
   "outputs": [],
   "source": [
    "rf=RandomForest(RSEED=50,MAX_DEPTH=20,n_estimators=100)"
   ]
  },
  {
   "cell_type": "code",
   "execution_count": null,
   "metadata": {},
   "outputs": [],
   "source": [
    "clf,test_X, y_test,y_train,train_X,train_idx, test_idx=rf.train(tf_vector,y)\n",
    "y_test,predictions=rf.evaluate(clf,test_X, y_test,y_train,train_X)\n",
    "cm = confusion_matrix(y_test, predictions)"
   ]
  },
  {
   "cell_type": "code",
   "execution_count": null,
   "metadata": {},
   "outputs": [],
   "source": [
    "from sklearn.metrics import confusion_matrix\n",
    "def plot_confusion_matrix(cm, classes,\n",
    "                            normalize=False,\n",
    "                            title='Confusion matrix',\n",
    "                            cmap=plt.cm.Oranges):\n",
    "        \"\"\"\n",
    "        This function prints and plots the confusion matrix.\n",
    "        Normalization can be applied by setting `normalize=True`.\n",
    "        Source: http://scikit-learn.org/stable/auto_examples/model_selection/plot_confusion_matrix.html\n",
    "        \"\"\"\n",
    "        if normalize:\n",
    "            cm = cm.astype('float') / cm.sum(axis=1)[:, np.newaxis]\n",
    "            print(\"Normalized confusion matrix\")\n",
    "        else:\n",
    "            print('Confusion matrix, without normalization')\n",
    "\n",
    "        print(cm)\n",
    "\n",
    "        plt.figure(figsize = (10, 10))\n",
    "        plt.imshow(cm, interpolation='nearest', cmap=cmap)\n",
    "        plt.title(title, size = 24)\n",
    "        plt.colorbar(aspect=4)\n",
    "        tick_marks = np.arange(len(classes))\n",
    "        plt.xticks(tick_marks, classes, rotation=45, size = 14)\n",
    "        plt.yticks(tick_marks, classes, size = 14)\n",
    "\n",
    "        fmt = '.2f' if normalize else 'd'\n",
    "        thresh = cm.max() / 2.\n",
    "        \n",
    "        # Labeling the plot\n",
    "        for i, j in itertools.product(range(cm.shape[0]), range(cm.shape[1])):\n",
    "            plt.text(j, i, format(cm[i, j], fmt), fontsize = 20,\n",
    "                    horizontalalignment=\"center\",\n",
    "                    color=\"white\" if cm[i, j] > thresh else \"black\")\n",
    "            \n",
    "        plt.grid(None)\n",
    "        plt.tight_layout()\n",
    "        plt.ylabel('Real label', size = 18)\n",
    "        plt.xlabel('Predicted label', size = 18)"
   ]
  },
  {
   "cell_type": "code",
   "execution_count": null,
   "metadata": {},
   "outputs": [],
   "source": [
    "import itertools\n",
    "plot_confusion_matrix(cm, classes = ['Fake', 'True'],\n",
    "                                    title = 'Misinformation Confusion Matrix')"
   ]
  },
  {
   "cell_type": "code",
   "execution_count": null,
   "metadata": {},
   "outputs": [],
   "source": [
    "df['predicted'] = None"
   ]
  },
  {
   "cell_type": "code",
   "execution_count": null,
   "metadata": {},
   "outputs": [],
   "source": [
    "indices = np.arange(len(X))\n",
    "train_idx, test_idx, y_train, y_test= train_test_split(indices, y,stratify = y, test_size=0.25, random_state=42)"
   ]
  },
  {
   "cell_type": "code",
   "execution_count": null,
   "metadata": {},
   "outputs": [],
   "source": [
    "df.iloc[test_idx, df.columns.get_loc('predicted')] = predictions"
   ]
  },
  {
   "cell_type": "code",
   "execution_count": null,
   "metadata": {},
   "outputs": [],
   "source": [
    "df.loc[df['predicted'] == \"TRUE\"]"
   ]
  },
  {
   "cell_type": "code",
   "execution_count": null,
   "metadata": {},
   "outputs": [],
   "source": [
    "df.to_csv(\"results.txt\")"
   ]
  },
  {
   "cell_type": "code",
   "execution_count": null,
   "metadata": {},
   "outputs": [],
   "source": [
    "lrc=LRegression()"
   ]
  },
  {
   "cell_type": "code",
   "execution_count": null,
   "metadata": {},
   "outputs": [],
   "source": [
    "clf,test_X, y_test,y_train,train_X=lrc.train(tf_vector,y)\n",
    "y_test,predictions=lrc.evaluate(clf,test_X, y_test,y_train,train_X)\n",
    "cm = confusion_matrix(y_test, predictions)\n",
    "\n",
    "print()\n",
    "print()\n",
    "plot_confusion_matrix(cm, classes = ['Fake', 'True'],\n",
    "                            title = 'Misinformation Confusion Matrix')"
   ]
  },
  {
   "cell_type": "code",
   "execution_count": null,
   "metadata": {},
   "outputs": [],
   "source": [
    "svm=SVM()"
   ]
  },
  {
   "cell_type": "code",
   "execution_count": null,
   "metadata": {},
   "outputs": [],
   "source": [
    "svm.train(tf_vector,y)"
   ]
  },
  {
   "cell_type": "code",
   "execution_count": 18,
   "metadata": {},
   "outputs": [
    {
     "name": "stderr",
     "output_type": "stream",
     "text": [
      "C:\\Users\\nazan\\anaconda3\\lib\\site-packages\\ipykernel_launcher.py:2: DeprecationWarning: Call to deprecated `__getitem__` (Method will be removed in 4.0.0, use self.wv.__getitem__() instead).\n",
      "  \n"
     ]
    }
   ],
   "source": [
    "vocab = list(model.wv.vocab)\n",
    "Xt = model[vocab]"
   ]
  },
  {
   "cell_type": "code",
   "execution_count": 19,
   "metadata": {},
   "outputs": [],
   "source": [
    "from sklearn.manifold import TSNE\n",
    "tsne = TSNE(n_components=2)\n",
    "X_tsne = tsne.fit_transform(Xt)"
   ]
  },
  {
   "cell_type": "code",
   "execution_count": 20,
   "metadata": {},
   "outputs": [
    {
     "data": {
      "text/plain": [
       "array([[ -0.16378416,   1.3636419 ],\n",
       "       [  8.913923  , -10.028654  ],\n",
       "       [  6.9123874 ,  -6.872857  ],\n",
       "       [  7.8067994 ,  -8.869995  ],\n",
       "       [  7.071391  ,  -7.389308  ],\n",
       "       [  8.643183  ,  -9.774607  ],\n",
       "       [  1.1442677 ,  -0.56996006],\n",
       "       [  5.8786855 ,  -6.3152833 ],\n",
       "       [  8.578865  ,  -9.71084   ],\n",
       "       [ -3.250232  ,   5.586277  ],\n",
       "       [  0.45674643,   0.0518472 ],\n",
       "       [  7.8256173 ,  -8.891072  ],\n",
       "       [  0.93648034,   0.75364715],\n",
       "       [ -1.680239  ,   3.0889099 ],\n",
       "       [  3.0595589 ,  -2.702644  ],\n",
       "       [  7.2625823 ,  -7.9730024 ],\n",
       "       [  2.0892982 ,  -1.5280457 ],\n",
       "       [  4.9728203 ,  -5.2200766 ],\n",
       "       [  0.7539224 ,   0.4208314 ],\n",
       "       [  4.969815  ,  -4.772765  ],\n",
       "       [  5.1371956 ,  -5.1097746 ],\n",
       "       [  1.1887388 ,  -0.18752852],\n",
       "       [  6.2235894 ,  -6.1724987 ],\n",
       "       [ -2.5525675 ,   3.8679698 ],\n",
       "       [ -0.43289852,   1.7166139 ],\n",
       "       [  4.1524773 ,  -3.774415  ],\n",
       "       [  8.226835  ,  -9.348315  ],\n",
       "       [  0.9083255 ,   0.15278605],\n",
       "       [ -3.0738604 ,   4.358869  ],\n",
       "       [  4.3588514 ,  -3.948375  ],\n",
       "       [ -2.7559223 ,   4.2873225 ],\n",
       "       [  0.7755667 ,   0.52430004],\n",
       "       [  0.04707794,   0.6312741 ],\n",
       "       [  1.1891729 ,  -0.17293566],\n",
       "       [  3.4649122 ,  -3.196609  ],\n",
       "       [ -3.825725  ,   6.099516  ],\n",
       "       [  1.566706  ,  -0.8691198 ],\n",
       "       [  6.71155   ,  -6.6827054 ],\n",
       "       [  2.267281  ,  -1.7105352 ],\n",
       "       [ -2.3144674 ,   4.2745404 ],\n",
       "       [  0.4070574 ,   0.20377281],\n",
       "       [ -3.8593879 ,   6.0541615 ],\n",
       "       [  3.9161897 ,  -3.6902966 ],\n",
       "       [ -3.3266978 ,   4.7225156 ],\n",
       "       [  8.424469  ,  -9.554765  ],\n",
       "       [  2.6404295 ,  -2.1806545 ],\n",
       "       [ -0.03410773,   0.55073124],\n",
       "       [  6.650326  ,  -6.4940777 ],\n",
       "       [  6.3918877 ,  -6.9485235 ],\n",
       "       [  0.31167746,   1.0512614 ],\n",
       "       [  5.1241994 ,  -4.8243117 ],\n",
       "       [ -3.4915493 ,   5.0987015 ],\n",
       "       [  0.34960225,   0.85583264],\n",
       "       [ -3.0074487 ,   5.464897  ],\n",
       "       [ -3.4044857 ,   4.979695  ],\n",
       "       [  0.230763  ,   1.3610388 ],\n",
       "       [  8.089025  ,  -9.20541   ],\n",
       "       [  5.560936  ,  -5.793314  ],\n",
       "       [  5.5040874 ,  -5.6714845 ],\n",
       "       [  6.2472973 ,  -7.041408  ],\n",
       "       [  4.8085747 ,  -5.0769043 ],\n",
       "       [  6.697272  ,  -7.4708495 ],\n",
       "       [  7.5633597 ,  -8.490608  ],\n",
       "       [  7.6476808 ,  -8.625489  ],\n",
       "       [  8.0505905 ,  -9.159865  ],\n",
       "       [  5.2433805 ,  -5.421286  ],\n",
       "       [  5.878269  ,  -6.0800567 ],\n",
       "       [  6.2632437 ,  -6.3160295 ],\n",
       "       [  3.0366    ,  -2.655735  ],\n",
       "       [  0.7924942 ,   0.96908605],\n",
       "       [ -1.8622122 ,   3.1235635 ],\n",
       "       [  2.2329705 ,  -1.7019233 ],\n",
       "       [  1.7172954 ,  -1.0604954 ],\n",
       "       [  4.5369415 ,  -4.715341  ],\n",
       "       [  4.168783  ,  -4.241909  ],\n",
       "       [ -3.6308777 ,   5.790135  ],\n",
       "       [  0.2508606 ,   0.11012125],\n",
       "       [ -2.1726005 ,   3.7144558 ],\n",
       "       [ -0.05237292,   0.8469314 ],\n",
       "       [  6.316489  ,  -6.9208913 ],\n",
       "       [ -1.6652468 ,   3.0660868 ],\n",
       "       [  5.4944196 ,  -5.3666916 ],\n",
       "       [  7.1441665 ,  -7.5046024 ],\n",
       "       [ -2.8852723 ,   5.1265774 ],\n",
       "       [  3.967662  ,  -4.2094145 ],\n",
       "       [ -2.806684  ,   4.165163  ],\n",
       "       [  6.075341  ,  -6.8138223 ],\n",
       "       [  6.7801385 ,  -6.806654  ],\n",
       "       [ -0.3963307 ,   1.3087971 ],\n",
       "       [  7.2173176 ,  -7.8571844 ],\n",
       "       [  1.7463527 ,  -1.0537817 ],\n",
       "       [ -2.444147  ,   4.6465955 ],\n",
       "       [ -1.7078942 ,   3.282008  ],\n",
       "       [  6.7108207 ,  -7.4197235 ],\n",
       "       [ -0.41092098,   1.5455639 ],\n",
       "       [ -2.7135732 ,   5.0837784 ],\n",
       "       [  2.514014  ,  -2.0421152 ],\n",
       "       [ -1.6592369 ,   3.4076629 ],\n",
       "       [ -2.5123024 ,   4.6902666 ],\n",
       "       [ -1.5940448 ,   3.2155886 ],\n",
       "       [  0.79507685,  -0.29804298],\n",
       "       [  2.4056213 ,  -1.9042898 ],\n",
       "       [ -1.3337557 ,   2.7556713 ],\n",
       "       [ -3.217186  ,   5.199719  ],\n",
       "       [  2.8566098 ,  -2.4405844 ],\n",
       "       [  3.4661164 ,  -3.197446  ],\n",
       "       [  3.7773416 ,  -3.5447009 ],\n",
       "       [ -2.3034627 ,   3.9490056 ],\n",
       "       [  4.338726  ,  -3.971524  ],\n",
       "       [ -3.6725972 ,   5.497413  ],\n",
       "       [  3.7788548 ,  -3.782003  ],\n",
       "       [ -3.2492373 ,   4.569874  ],\n",
       "       [ -2.2000034 ,   4.0310736 ],\n",
       "       [  4.560013  ,  -4.363399  ]], dtype=float32)"
      ]
     },
     "execution_count": 20,
     "metadata": {},
     "output_type": "execute_result"
    }
   ],
   "source": [
    "X_tsne"
   ]
  },
  {
   "cell_type": "code",
   "execution_count": 22,
   "metadata": {},
   "outputs": [],
   "source": [
    "df3 = pd.DataFrame(X_tsne, index=vocab, columns=['x', 'y'])"
   ]
  },
  {
   "cell_type": "code",
   "execution_count": 28,
   "metadata": {},
   "outputs": [
    {
     "name": "stderr",
     "output_type": "stream",
     "text": [
      "'c' argument looks like a single numeric RGB or RGBA sequence, which should be avoided as value-mapping will have precedence in case its length matches with 'x' & 'y'.  Please use a 2-D array with a single row if you really want to specify the same RGB or RGBA value for all points.\n",
      "'c' argument looks like a single numeric RGB or RGBA sequence, which should be avoided as value-mapping will have precedence in case its length matches with 'x' & 'y'.  Please use a 2-D array with a single row if you really want to specify the same RGB or RGBA value for all points.\n"
     ]
    },
    {
     "data": {
      "image/png": "[encoded data removed]",
      "text/plain": [
       "<Figure size 1152x1152 with 1 Axes>"
      ]
     },
     "metadata": {
      "needs_background": "light"
     },
     "output_type": "display_data"
    }
   ],
   "source": [
    "import matplotlib.pyplot as plt\n",
    "import matplotlib.cm as cm\n",
    "fig = plt.figure(figsize=(16,16))\n",
    "ax = fig.add_subplot(1, 1, 1)\n",
    "colors = cm.rainbow(np.linspace(0, 1, 2))\n",
    "for color in colors:\n",
    "    ax.scatter(df3['x'], df3['y'],c=color,alpha=0.5)\n",
    "    for word, pos in df3.iterrows():\n",
    "        ax.annotate(word, pos)"
   ]
  },
  {
   "cell_type": "code",
   "execution_count": null,
   "metadata": {},
   "outputs": [],
   "source": [
    "vocab = list(model.wv.vocab)\n",
    "X = model[vocab]"
   ]
  },
  {
   "cell_type": "code",
   "execution_count": null,
   "metadata": {},
   "outputs": [],
   "source": [
    "from sklearn.manifold import TSNE\n",
    "tsne = TSNE(n_components=2)\n",
    "X_tsne = tsne.fit_transform(X)"
   ]
  },
  {
   "cell_type": "code",
   "execution_count": null,
   "metadata": {},
   "outputs": [],
   "source": [
    "df3 = pd.DataFrame(X_tsne, index=vocab, columns=['x', 'y'])"
   ]
  },
  {
   "cell_type": "code",
   "execution_count": null,
   "metadata": {},
   "outputs": [],
   "source": [
    "fig = plt.figure(figsize=(16,16) )\n",
    "ax = fig.add_subplot(1, 1, 1)\n",
    "\n",
    "ax.scatter(df3['x'], df3['y'])\n",
    "for word, pos in df3.iterrows():\n",
    "    ax.annotate(word, pos)"
   ]
  },
  {
   "cell_type": "code",
   "execution_count": null,
   "metadata": {},
   "outputs": [],
   "source": [
    "df4 = pd.DataFrame(X_tsne, index=vocab, columns=['x', 'y'])"
   ]
  },
  {
   "cell_type": "code",
   "execution_count": null,
   "metadata": {},
   "outputs": [],
   "source": [
    "fakes=df.loc[df['label'] == \"Fake\"]"
   ]
  },
  {
   "cell_type": "code",
   "execution_count": null,
   "metadata": {},
   "outputs": [],
   "source": [
    "fakes"
   ]
  },
  {
   "cell_type": "code",
   "execution_count": null,
   "metadata": {},
   "outputs": [],
   "source": [
    "X=fakes.normalized_tweet.values\n",
    "model = Word2Vec(X, size=500, window=5, min_count=12, workers=2)\n",
    "w2v = {w: vec for w, vec in zip(model.wv.index2word, model.wv.syn0)}"
   ]
  },
  {
   "cell_type": "code",
   "execution_count": null,
   "metadata": {},
   "outputs": [],
   "source": [
    "vocab = list(model.wv.vocab)\n",
    "Xt = model[vocab]"
   ]
  },
  {
   "cell_type": "code",
   "execution_count": null,
   "metadata": {},
   "outputs": [],
   "source": [
    "from sklearn.manifold import TSNE\n",
    "tsne = TSNE(n_components=2)\n",
    "X_tsne = tsne.fit_transform(Xt)"
   ]
  },
  {
   "cell_type": "code",
   "execution_count": null,
   "metadata": {},
   "outputs": [],
   "source": [
    "df3 = pd.DataFrame(X_tsne, index=vocab, columns=['x', 'y'])"
   ]
  },
  {
   "cell_type": "code",
   "execution_count": null,
   "metadata": {},
   "outputs": [],
   "source": [
    "fig = plt.figure(figsize=(8,8) )\n",
    "ax = fig.add_subplot(1, 1, 1)\n",
    "\n",
    "ax.scatter(df3['x'], df3['y'])\n",
    "for word, pos in df3.iterrows():\n",
    "    ax.annotate(word, pos)"
   ]
  },
  {
   "cell_type": "code",
   "execution_count": null,
   "metadata": {},
   "outputs": [],
   "source": [
    "reals=df.loc[df['label'] == \"TRUE\"]"
   ]
  },
  {
   "cell_type": "code",
   "execution_count": null,
   "metadata": {},
   "outputs": [],
   "source": [
    "X=reals.normalized_tweet.values\n",
    "model = Word2Vec(X, size=500, window=5, min_count=12, workers=2)\n",
    "w2v = {w: vec for w, vec in zip(model.wv.index2word, model.wv.syn0)}"
   ]
  },
  {
   "cell_type": "code",
   "execution_count": null,
   "metadata": {},
   "outputs": [],
   "source": [
    "vocab = list(model.wv.vocab)\n",
    "Xt = model[vocab]"
   ]
  },
  {
   "cell_type": "code",
   "execution_count": null,
   "metadata": {},
   "outputs": [],
   "source": [
    "from sklearn.manifold import TSNE\n",
    "tsne = TSNE(n_components=2)\n",
    "X_tsne = tsne.fit_transform(Xt)"
   ]
  },
  {
   "cell_type": "code",
   "execution_count": null,
   "metadata": {},
   "outputs": [],
   "source": [
    "df3 = pd.DataFrame(X_tsne, index=vocab, columns=['x', 'y'])"
   ]
  },
  {
   "cell_type": "code",
   "execution_count": null,
   "metadata": {},
   "outputs": [],
   "source": [
    "fig = plt.figure(figsize=(8,8) )\n",
    "ax = fig.add_subplot(1, 1, 1)\n",
    "\n",
    "ax.scatter(df3['x'], df3['y'])\n",
    "for word, pos in df3.iterrows():\n",
    "    ax.annotate(word, pos)"
   ]
  },
  {
   "cell_type": "code",
   "execution_count": null,
   "metadata": {},
   "outputs": [],
   "source": [
    "corpus.data"
   ]
  },
  {
   "cell_type": "code",
   "execution_count": null,
   "metadata": {},
   "outputs": [],
   "source": []
  },
  {
   "cell_type": "code",
   "execution_count": 29,
   "metadata": {},
   "outputs": [],
   "source": [
    "keys=['True','Fake']"
   ]
  },
  {
   "cell_type": "code",
   "execution_count": 32,
   "metadata": {},
   "outputs": [
    {
     "name": "stdout",
     "output_type": "stream",
     "text": [
      "(417,) (417,)\n"
     ]
    }
   ],
   "source": [
    "X=df2.normalized_tweet.values\n",
    "y = df2['label'].values\n",
    "print(X.shape, y.shape)\n"
   ]
  },
  {
   "cell_type": "code",
   "execution_count": 70,
   "metadata": {},
   "outputs": [
    {
     "data": {
      "text/plain": [
       "array([[ 0.30725178,  0.09551901, -0.07842194, ...,  0.03401113,\n",
       "         0.00910061, -0.05739677],\n",
       "       [ 0.41617322,  0.11588043, -0.1129678 , ...,  0.06015785,\n",
       "         0.01052153, -0.08107335],\n",
       "       [ 0.32362252,  0.09279203, -0.08231982, ...,  0.03880509,\n",
       "         0.00851664, -0.06254401],\n",
       "       ...,\n",
       "       [ 0.37846828,  0.10422931, -0.09963069, ...,  0.05185277,\n",
       "         0.0142329 , -0.07119855],\n",
       "       [ 0.40741697,  0.11146869, -0.10398274, ...,  0.05427407,\n",
       "         0.01505874, -0.06945471],\n",
       "       [ 0.37017912,  0.10285263, -0.10029713, ...,  0.04513464,\n",
       "         0.01269081, -0.07612699]])"
      ]
     },
     "execution_count": 70,
     "metadata": {},
     "output_type": "execute_result"
    }
   ],
   "source": [
    "tf_vector"
   ]
  },
  {
   "cell_type": "code",
   "execution_count": 38,
   "metadata": {},
   "outputs": [],
   "source": [
    "from sklearn.manifold import TSNE\n",
    "tsne = TSNE(n_components=2)\n",
    "X_tsne = tsne.fit_transform(tf_vector)"
   ]
  },
  {
   "cell_type": "code",
   "execution_count": 39,
   "metadata": {},
   "outputs": [],
   "source": [
    "df3 = pd.DataFrame(X_tsne, columns=['x', 'y'])"
   ]
  },
  {
   "cell_type": "code",
   "execution_count": 40,
   "metadata": {},
   "outputs": [],
   "source": [
    "df3['labels'] = y"
   ]
  },
  {
   "cell_type": "code",
   "execution_count": 78,
   "metadata": {},
   "outputs": [
    {
     "data": {
      "text/html": [
       "<div>\n",
       "<style scoped>\n",
       "    .dataframe tbody tr th:only-of-type {\n",
       "        vertical-align: middle;\n",
       "    }\n",
       "\n",
       "    .dataframe tbody tr th {\n",
       "        vertical-align: top;\n",
       "    }\n",
       "\n",
       "    .dataframe thead th {\n",
       "        text-align: right;\n",
       "    }\n",
       "</style>\n",
       "<table border=\"1\" class=\"dataframe\">\n",
       "  <thead>\n",
       "    <tr style=\"text-align: right;\">\n",
       "      <th></th>\n",
       "      <th>x</th>\n",
       "      <th>y</th>\n",
       "      <th>labels</th>\n",
       "    </tr>\n",
       "  </thead>\n",
       "  <tbody>\n",
       "    <tr>\n",
       "      <th>0</th>\n",
       "      <td>-28.317736</td>\n",
       "      <td>7.629925</td>\n",
       "      <td>Fake</td>\n",
       "    </tr>\n",
       "    <tr>\n",
       "      <th>1</th>\n",
       "      <td>28.351513</td>\n",
       "      <td>13.320222</td>\n",
       "      <td>Fake</td>\n",
       "    </tr>\n",
       "    <tr>\n",
       "      <th>2</th>\n",
       "      <td>-21.077238</td>\n",
       "      <td>1.555582</td>\n",
       "      <td>Fake</td>\n",
       "    </tr>\n",
       "    <tr>\n",
       "      <th>3</th>\n",
       "      <td>-14.133156</td>\n",
       "      <td>-3.319730</td>\n",
       "      <td>Fake</td>\n",
       "    </tr>\n",
       "    <tr>\n",
       "      <th>4</th>\n",
       "      <td>-16.904192</td>\n",
       "      <td>-5.431395</td>\n",
       "      <td>Fake</td>\n",
       "    </tr>\n",
       "    <tr>\n",
       "      <th>...</th>\n",
       "      <td>...</td>\n",
       "      <td>...</td>\n",
       "      <td>...</td>\n",
       "    </tr>\n",
       "    <tr>\n",
       "      <th>412</th>\n",
       "      <td>29.954775</td>\n",
       "      <td>14.984796</td>\n",
       "      <td>TRUE</td>\n",
       "    </tr>\n",
       "    <tr>\n",
       "      <th>413</th>\n",
       "      <td>30.194902</td>\n",
       "      <td>16.225471</td>\n",
       "      <td>TRUE</td>\n",
       "    </tr>\n",
       "    <tr>\n",
       "      <th>414</th>\n",
       "      <td>16.972694</td>\n",
       "      <td>-2.366544</td>\n",
       "      <td>TRUE</td>\n",
       "    </tr>\n",
       "    <tr>\n",
       "      <th>415</th>\n",
       "      <td>27.741514</td>\n",
       "      <td>10.872111</td>\n",
       "      <td>TRUE</td>\n",
       "    </tr>\n",
       "    <tr>\n",
       "      <th>416</th>\n",
       "      <td>15.534962</td>\n",
       "      <td>-1.816563</td>\n",
       "      <td>TRUE</td>\n",
       "    </tr>\n",
       "  </tbody>\n",
       "</table>\n",
       "<p>417 rows × 3 columns</p>\n",
       "</div>"
      ],
      "text/plain": [
       "             x          y labels\n",
       "0   -28.317736  7.629925   Fake \n",
       "1    28.351513  13.320222  Fake \n",
       "2   -21.077238  1.555582   Fake \n",
       "3   -14.133156 -3.319730   Fake \n",
       "4   -16.904192 -5.431395   Fake \n",
       "..         ...       ...    ... \n",
       "412  29.954775  14.984796  TRUE \n",
       "413  30.194902  16.225471  TRUE \n",
       "414  16.972694 -2.366544   TRUE \n",
       "415  27.741514  10.872111  TRUE \n",
       "416  15.534962 -1.816563   TRUE \n",
       "\n",
       "[417 rows x 3 columns]"
      ]
     },
     "execution_count": 78,
     "metadata": {},
     "output_type": "execute_result"
    }
   ],
   "source": []
  },
  {
   "cell_type": "code",
   "execution_count": 44,
   "metadata": {},
   "outputs": [],
   "source": [
    "d = {'Fake': 0, 'TRUE': 1}\n",
    "colors = [d[x] for x in df3['labels'].values]"
   ]
  },
  {
   "cell_type": "code",
   "execution_count": 28,
   "metadata": {},
   "outputs": [
    {
     "data": {
      "text/plain": [
       "[0,\n",
       " 0,\n",
       " 0,\n",
       " 0,\n",
       " 0,\n",
       " 0,\n",
       " 0,\n",
       " 0,\n",
       " 0,\n",
       " 0,\n",
       " 0,\n",
       " 0,\n",
       " 0,\n",
       " 0,\n",
       " 0,\n",
       " 0,\n",
       " 0,\n",
       " 0,\n",
       " 0,\n",
       " 0,\n",
       " 0,\n",
       " 0,\n",
       " 0,\n",
       " 0,\n",
       " 0,\n",
       " 0,\n",
       " 0,\n",
       " 0,\n",
       " 0,\n",
       " 0,\n",
       " 0,\n",
       " 0,\n",
       " 0,\n",
       " 0,\n",
       " 0,\n",
       " 0,\n",
       " 0,\n",
       " 0,\n",
       " 0,\n",
       " 0,\n",
       " 0,\n",
       " 0,\n",
       " 0,\n",
       " 0,\n",
       " 0,\n",
       " 0,\n",
       " 0,\n",
       " 0,\n",
       " 0,\n",
       " 0,\n",
       " 0,\n",
       " 0,\n",
       " 0,\n",
       " 0,\n",
       " 0,\n",
       " 0,\n",
       " 0,\n",
       " 0,\n",
       " 0,\n",
       " 0,\n",
       " 0,\n",
       " 0,\n",
       " 0,\n",
       " 0,\n",
       " 0,\n",
       " 0,\n",
       " 0,\n",
       " 0,\n",
       " 0,\n",
       " 0,\n",
       " 0,\n",
       " 0,\n",
       " 0,\n",
       " 0,\n",
       " 0,\n",
       " 0,\n",
       " 0,\n",
       " 0,\n",
       " 0,\n",
       " 0,\n",
       " 0,\n",
       " 0,\n",
       " 0,\n",
       " 0,\n",
       " 0,\n",
       " 0,\n",
       " 0,\n",
       " 0,\n",
       " 0,\n",
       " 0,\n",
       " 0,\n",
       " 0,\n",
       " 0,\n",
       " 0,\n",
       " 0,\n",
       " 0,\n",
       " 0,\n",
       " 0,\n",
       " 0,\n",
       " 0,\n",
       " 0,\n",
       " 0,\n",
       " 0,\n",
       " 0,\n",
       " 0,\n",
       " 0,\n",
       " 0,\n",
       " 0,\n",
       " 0,\n",
       " 0,\n",
       " 0,\n",
       " 0,\n",
       " 0,\n",
       " 0,\n",
       " 0,\n",
       " 0,\n",
       " 0,\n",
       " 0,\n",
       " 0,\n",
       " 0,\n",
       " 0,\n",
       " 0,\n",
       " 0,\n",
       " 0,\n",
       " 0,\n",
       " 0,\n",
       " 0,\n",
       " 0,\n",
       " 0,\n",
       " 0,\n",
       " 0,\n",
       " 0,\n",
       " 0,\n",
       " 0,\n",
       " 0,\n",
       " 0,\n",
       " 0,\n",
       " 0,\n",
       " 0,\n",
       " 0,\n",
       " 0,\n",
       " 0,\n",
       " 0,\n",
       " 0,\n",
       " 0,\n",
       " 0,\n",
       " 0,\n",
       " 0,\n",
       " 0,\n",
       " 0,\n",
       " 0,\n",
       " 0,\n",
       " 0,\n",
       " 0,\n",
       " 0,\n",
       " 0,\n",
       " 0,\n",
       " 0,\n",
       " 0,\n",
       " 0,\n",
       " 0,\n",
       " 0,\n",
       " 1,\n",
       " 1,\n",
       " 1,\n",
       " 1,\n",
       " 1,\n",
       " 1,\n",
       " 1,\n",
       " 1,\n",
       " 1,\n",
       " 1,\n",
       " 1,\n",
       " 1,\n",
       " 1,\n",
       " 1,\n",
       " 1,\n",
       " 1,\n",
       " 1,\n",
       " 1,\n",
       " 1,\n",
       " 1,\n",
       " 1,\n",
       " 1,\n",
       " 1,\n",
       " 1,\n",
       " 1,\n",
       " 1,\n",
       " 1,\n",
       " 1,\n",
       " 1,\n",
       " 1,\n",
       " 1,\n",
       " 1,\n",
       " 1,\n",
       " 1,\n",
       " 1,\n",
       " 1,\n",
       " 1,\n",
       " 1,\n",
       " 1,\n",
       " 1,\n",
       " 1,\n",
       " 1,\n",
       " 1,\n",
       " 1,\n",
       " 1,\n",
       " 1,\n",
       " 1,\n",
       " 1,\n",
       " 1,\n",
       " 1,\n",
       " 1,\n",
       " 1,\n",
       " 1,\n",
       " 1,\n",
       " 1,\n",
       " 1,\n",
       " 1,\n",
       " 1,\n",
       " 1,\n",
       " 1,\n",
       " 1,\n",
       " 1,\n",
       " 1,\n",
       " 1,\n",
       " 1,\n",
       " 1,\n",
       " 1,\n",
       " 1,\n",
       " 1,\n",
       " 1,\n",
       " 1,\n",
       " 1,\n",
       " 1,\n",
       " 1,\n",
       " 1,\n",
       " 1,\n",
       " 1,\n",
       " 1,\n",
       " 1,\n",
       " 1,\n",
       " 1,\n",
       " 1,\n",
       " 1,\n",
       " 1,\n",
       " 1,\n",
       " 1,\n",
       " 1,\n",
       " 1,\n",
       " 1,\n",
       " 1,\n",
       " 1,\n",
       " 1,\n",
       " 1,\n",
       " 1,\n",
       " 1,\n",
       " 1,\n",
       " 1,\n",
       " 1,\n",
       " 1,\n",
       " 1,\n",
       " 1,\n",
       " 1,\n",
       " 1,\n",
       " 1,\n",
       " 1,\n",
       " 1,\n",
       " 1,\n",
       " 1,\n",
       " 1,\n",
       " 1,\n",
       " 1,\n",
       " 1,\n",
       " 1,\n",
       " 1,\n",
       " 1,\n",
       " 1,\n",
       " 1,\n",
       " 1,\n",
       " 1,\n",
       " 1,\n",
       " 1,\n",
       " 1,\n",
       " 1,\n",
       " 1,\n",
       " 1,\n",
       " 1,\n",
       " 1,\n",
       " 1,\n",
       " 1,\n",
       " 1,\n",
       " 1,\n",
       " 1,\n",
       " 1,\n",
       " 1,\n",
       " 1,\n",
       " 1,\n",
       " 1,\n",
       " 1,\n",
       " 1,\n",
       " 1,\n",
       " 1,\n",
       " 1,\n",
       " 1,\n",
       " 1,\n",
       " 1,\n",
       " 1,\n",
       " 1,\n",
       " 1,\n",
       " 1,\n",
       " 1,\n",
       " 1,\n",
       " 1,\n",
       " 1,\n",
       " 1,\n",
       " 1,\n",
       " 1,\n",
       " 1,\n",
       " 1,\n",
       " 1,\n",
       " 1,\n",
       " 1,\n",
       " 1,\n",
       " 1,\n",
       " 1,\n",
       " 1,\n",
       " 1,\n",
       " 1,\n",
       " 1,\n",
       " 1,\n",
       " 1,\n",
       " 1,\n",
       " 1,\n",
       " 1,\n",
       " 1,\n",
       " 1,\n",
       " 1,\n",
       " 1,\n",
       " 1,\n",
       " 1,\n",
       " 1,\n",
       " 1,\n",
       " 1,\n",
       " 1,\n",
       " 1,\n",
       " 1,\n",
       " 1,\n",
       " 1,\n",
       " 1,\n",
       " 1,\n",
       " 1,\n",
       " 1,\n",
       " 1,\n",
       " 1,\n",
       " 1,\n",
       " 1,\n",
       " 1,\n",
       " 1,\n",
       " 1,\n",
       " 1,\n",
       " 1,\n",
       " 1,\n",
       " 1,\n",
       " 1,\n",
       " 1,\n",
       " 1,\n",
       " 1,\n",
       " 1,\n",
       " 1,\n",
       " 1,\n",
       " 1,\n",
       " 1,\n",
       " 0,\n",
       " 0,\n",
       " 0,\n",
       " 0,\n",
       " 0,\n",
       " 0,\n",
       " 0,\n",
       " 0,\n",
       " 0,\n",
       " 0,\n",
       " 0,\n",
       " 0,\n",
       " 0,\n",
       " 0,\n",
       " 0,\n",
       " 0,\n",
       " 0,\n",
       " 0,\n",
       " 0,\n",
       " 0,\n",
       " 0,\n",
       " 0,\n",
       " 0,\n",
       " 0,\n",
       " 0,\n",
       " 0,\n",
       " 0,\n",
       " 0,\n",
       " 0,\n",
       " 0,\n",
       " 1,\n",
       " 1,\n",
       " 1,\n",
       " 1,\n",
       " 1,\n",
       " 1,\n",
       " 1,\n",
       " 1,\n",
       " 1,\n",
       " 1,\n",
       " 1,\n",
       " 1,\n",
       " 1,\n",
       " 1]"
      ]
     },
     "execution_count": 28,
     "metadata": {},
     "output_type": "execute_result"
    }
   ],
   "source": [
    "colors"
   ]
  },
  {
   "cell_type": "code",
   "execution_count": 42,
   "metadata": {},
   "outputs": [
    {
     "data": {
      "text/plain": [
       "<matplotlib.legend.Legend at 0x1ea4c914188>"
      ]
     },
     "execution_count": 42,
     "metadata": {},
     "output_type": "execute_result"
    },
    {
     "data": {
      "image/png": "[encoded data removed]",
      "text/plain": [
       "<Figure size 576x576 with 1 Axes>"
      ]
     },
     "metadata": {
      "needs_background": "light"
     },
     "output_type": "display_data"
    }
   ],
   "source": [
    "#import matplotlib\n",
    "lbl=['Fake','TRUE']\n",
    "fig = plt.figure(figsize=(8,8) )\n",
    "ax = fig.add_subplot(1, 1, 1)\n",
    "#cmap = matplotlib.cm.get_cmap('prism')\n",
    "scatter = ax.scatter(df3['x'], df3['y'],c=colors)\n",
    "ax.legend(handles=scatter.legend_elements()[0], labels=lbl)"
   ]
  },
  {
   "cell_type": "code",
   "execution_count": 103,
   "metadata": {},
   "outputs": [
    {
     "ename": "SyntaxError",
     "evalue": "can't use starred expression here (<ipython-input-103-5ee949c8f954>, line 4)",
     "output_type": "error",
     "traceback": [
      "\u001b[1;36m  File \u001b[1;32m\"<ipython-input-103-5ee949c8f954>\"\u001b[1;36m, line \u001b[1;32m4\u001b[0m\n\u001b[1;31mSyntaxError\u001b[0m\u001b[1;31m:\u001b[0m can't use starred expression here\n"
     ]
    }
   ],
   "source": [
    "*scatter.legend_elements()"
   ]
  },
  {
   "cell_type": "code",
   "execution_count": 122,
   "metadata": {},
   "outputs": [
    {
     "data": {
      "text/plain": [
       "array([ 0.35531861,  0.0996886 , -0.09142618, -0.12000217,  0.11213312,\n",
       "        0.0316514 , -0.16979392, -0.11309087,  0.47192341, -0.1333051 ,\n",
       "        0.06628813, -0.18346027,  0.03207881, -0.00504366, -0.09003332,\n",
       "       -0.26733676, -0.288735  ,  0.14103857, -0.10307   ,  0.03138654,\n",
       "       -0.00541786,  0.04042601,  0.09739186, -0.01311762, -0.25776905,\n",
       "        0.22907586, -0.39723364, -0.19027182, -0.11538792, -0.08266868,\n",
       "        0.02380039, -0.03812284, -0.00777156,  0.03512335,  0.15689187,\n",
       "       -0.00223937,  0.12304921,  0.07537371,  0.02561761,  0.33455327,\n",
       "        0.12015202,  0.38118517, -0.25407609,  0.19108726,  0.1074281 ,\n",
       "       -0.19334908, -0.03057144, -0.08011551, -0.50234771, -0.07977592,\n",
       "        0.20356397,  0.67842788, -0.30297223, -0.09687292,  0.06414376,\n",
       "        0.15827712,  0.09461631,  0.06712663, -0.06178067, -0.14659473,\n",
       "       -0.0595863 , -0.03023002, -0.17575182,  0.02750557, -0.0062858 ,\n",
       "        0.09223833, -0.0467323 , -0.26190144, -0.01440515, -0.16388567,\n",
       "       -0.15444721,  0.15801653, -0.34260297,  0.37068963,  0.0444428 ,\n",
       "        0.06683721, -0.13595065,  0.14319032,  0.05544925, -0.29402584,\n",
       "       -0.04866549, -0.13936844, -0.0823849 ,  0.02931166,  0.0788316 ,\n",
       "       -0.27173334, -0.072002  ,  0.26190326,  0.01745798, -0.18101029,\n",
       "       -0.19167753, -0.08098505,  0.12429158,  0.33143625,  0.04166105,\n",
       "       -0.47866067, -0.24707238,  0.04589009,  0.00517081, -0.07208587])"
      ]
     },
     "execution_count": 122,
     "metadata": {},
     "output_type": "execute_result"
    }
   ],
   "source": [
    "tf_vector[102]"
   ]
  },
  {
   "cell_type": "code",
   "execution_count": 142,
   "metadata": {},
   "outputs": [
    {
     "data": {
      "text/plain": [
       "screen_name         NotSoProudYank                                                                                                                                                                                                                                                  \n",
       "tweet               I was reading more about the 1918 Spanish Flu Pandemic and saw that it reappeared twice after the first wave, not just once. \\n\\nExperts have said #coronavirus, #COVID19 will most likely reappear again and I'm wondering if there could also be a third time.\n",
       "label               TRUE                                                                                                                                                                                                                                                            \n",
       "normalized_tweet    [reading, spanish, flu, pandemic, saw, reappeared, twice, first, wave, expert, said, coronavirus, covid, likely, reappear, wondering, could, also, third, time]                                                                                                 \n",
       "Name: 153, dtype: object"
      ]
     },
     "execution_count": 142,
     "metadata": {},
     "output_type": "execute_result"
    }
   ],
   "source": [
    "df2.iloc[250]"
   ]
  },
  {
   "cell_type": "code",
   "execution_count": 140,
   "metadata": {},
   "outputs": [],
   "source": [
    "d = {'Fake': 0, 'TRUE': 1}\n",
    "colors = [d[x] for x in lb]"
   ]
  },
  {
   "cell_type": "code",
   "execution_count": 45,
   "metadata": {},
   "outputs": [
    {
     "ename": "ValueError",
     "evalue": "'c' argument has 417 elements, which is not acceptable for use with 'x' with size 3, 'y' with size 3.",
     "output_type": "error",
     "traceback": [
      "\u001b[1;31m---------------------------------------------------------------------------\u001b[0m",
      "\u001b[1;31mValueError\u001b[0m                                Traceback (most recent call last)",
      "\u001b[1;32m~\\anaconda3\\lib\\site-packages\\matplotlib\\axes\\_axes.py\u001b[0m in \u001b[0;36m_parse_scatter_color_args\u001b[1;34m(c, edgecolors, kwargs, xshape, yshape, get_next_color_func)\u001b[0m\n\u001b[0;32m   4283\u001b[0m             \u001b[1;32mtry\u001b[0m\u001b[1;33m:\u001b[0m  \u001b[1;31m# Then is 'c' acceptable as PathCollection facecolors?\u001b[0m\u001b[1;33m\u001b[0m\u001b[1;33m\u001b[0m\u001b[0m\n\u001b[1;32m-> 4284\u001b[1;33m                 \u001b[0mcolors\u001b[0m \u001b[1;33m=\u001b[0m \u001b[0mmcolors\u001b[0m\u001b[1;33m.\u001b[0m\u001b[0mto_rgba_array\u001b[0m\u001b[1;33m(\u001b[0m\u001b[0mc\u001b[0m\u001b[1;33m)\u001b[0m\u001b[1;33m\u001b[0m\u001b[1;33m\u001b[0m\u001b[0m\n\u001b[0m\u001b[0;32m   4285\u001b[0m                 \u001b[0mn_elem\u001b[0m \u001b[1;33m=\u001b[0m \u001b[0mcolors\u001b[0m\u001b[1;33m.\u001b[0m\u001b[0mshape\u001b[0m\u001b[1;33m[\u001b[0m\u001b[1;36m0\u001b[0m\u001b[1;33m]\u001b[0m\u001b[1;33m\u001b[0m\u001b[1;33m\u001b[0m\u001b[0m\n",
      "\u001b[1;32m~\\anaconda3\\lib\\site-packages\\matplotlib\\colors.py\u001b[0m in \u001b[0;36mto_rgba_array\u001b[1;34m(c, alpha)\u001b[0m\n\u001b[0;32m    293\u001b[0m     \u001b[1;32mfor\u001b[0m \u001b[0mi\u001b[0m\u001b[1;33m,\u001b[0m \u001b[0mcc\u001b[0m \u001b[1;32min\u001b[0m \u001b[0menumerate\u001b[0m\u001b[1;33m(\u001b[0m\u001b[0mc\u001b[0m\u001b[1;33m)\u001b[0m\u001b[1;33m:\u001b[0m\u001b[1;33m\u001b[0m\u001b[1;33m\u001b[0m\u001b[0m\n\u001b[1;32m--> 294\u001b[1;33m         \u001b[0mresult\u001b[0m\u001b[1;33m[\u001b[0m\u001b[0mi\u001b[0m\u001b[1;33m]\u001b[0m \u001b[1;33m=\u001b[0m \u001b[0mto_rgba\u001b[0m\u001b[1;33m(\u001b[0m\u001b[0mcc\u001b[0m\u001b[1;33m,\u001b[0m \u001b[0malpha\u001b[0m\u001b[1;33m)\u001b[0m\u001b[1;33m\u001b[0m\u001b[1;33m\u001b[0m\u001b[0m\n\u001b[0m\u001b[0;32m    295\u001b[0m     \u001b[1;32mreturn\u001b[0m \u001b[0mresult\u001b[0m\u001b[1;33m\u001b[0m\u001b[1;33m\u001b[0m\u001b[0m\n",
      "\u001b[1;32m~\\anaconda3\\lib\\site-packages\\matplotlib\\colors.py\u001b[0m in \u001b[0;36mto_rgba\u001b[1;34m(c, alpha)\u001b[0m\n\u001b[0;32m    176\u001b[0m     \u001b[1;32mif\u001b[0m \u001b[0mrgba\u001b[0m \u001b[1;32mis\u001b[0m \u001b[1;32mNone\u001b[0m\u001b[1;33m:\u001b[0m  \u001b[1;31m# Suppress exception chaining of cache lookup failure.\u001b[0m\u001b[1;33m\u001b[0m\u001b[1;33m\u001b[0m\u001b[0m\n\u001b[1;32m--> 177\u001b[1;33m         \u001b[0mrgba\u001b[0m \u001b[1;33m=\u001b[0m \u001b[0m_to_rgba_no_colorcycle\u001b[0m\u001b[1;33m(\u001b[0m\u001b[0mc\u001b[0m\u001b[1;33m,\u001b[0m \u001b[0malpha\u001b[0m\u001b[1;33m)\u001b[0m\u001b[1;33m\u001b[0m\u001b[1;33m\u001b[0m\u001b[0m\n\u001b[0m\u001b[0;32m    178\u001b[0m         \u001b[1;32mtry\u001b[0m\u001b[1;33m:\u001b[0m\u001b[1;33m\u001b[0m\u001b[1;33m\u001b[0m\u001b[0m\n",
      "\u001b[1;32m~\\anaconda3\\lib\\site-packages\\matplotlib\\colors.py\u001b[0m in \u001b[0;36m_to_rgba_no_colorcycle\u001b[1;34m(c, alpha)\u001b[0m\n\u001b[0;32m    239\u001b[0m         \u001b[1;31m# Test dimensionality to reject single floats.\u001b[0m\u001b[1;33m\u001b[0m\u001b[1;33m\u001b[0m\u001b[1;33m\u001b[0m\u001b[0m\n\u001b[1;32m--> 240\u001b[1;33m         \u001b[1;32mraise\u001b[0m \u001b[0mValueError\u001b[0m\u001b[1;33m(\u001b[0m\u001b[1;34m\"Invalid RGBA argument: {!r}\"\u001b[0m\u001b[1;33m.\u001b[0m\u001b[0mformat\u001b[0m\u001b[1;33m(\u001b[0m\u001b[0morig_c\u001b[0m\u001b[1;33m)\u001b[0m\u001b[1;33m)\u001b[0m\u001b[1;33m\u001b[0m\u001b[1;33m\u001b[0m\u001b[0m\n\u001b[0m\u001b[0;32m    241\u001b[0m     \u001b[1;31m# Return a tuple to prevent the cached value from being modified.\u001b[0m\u001b[1;33m\u001b[0m\u001b[1;33m\u001b[0m\u001b[1;33m\u001b[0m\u001b[0m\n",
      "\u001b[1;31mValueError\u001b[0m: Invalid RGBA argument: 0",
      "\nDuring handling of the above exception, another exception occurred:\n",
      "\u001b[1;31mValueError\u001b[0m                                Traceback (most recent call last)",
      "\u001b[1;32m<ipython-input-45-564d6cf3d6c3>\u001b[0m in \u001b[0;36m<module>\u001b[1;34m\u001b[0m\n\u001b[0;32m      5\u001b[0m \u001b[0mlbl\u001b[0m\u001b[1;33m=\u001b[0m\u001b[1;33m[\u001b[0m\u001b[1;34m'Fake'\u001b[0m\u001b[1;33m,\u001b[0m\u001b[1;34m'TRUE'\u001b[0m\u001b[1;33m]\u001b[0m\u001b[1;33m\u001b[0m\u001b[1;33m\u001b[0m\u001b[0m\n\u001b[0;32m      6\u001b[0m \u001b[0mfig\u001b[0m\u001b[1;33m,\u001b[0m \u001b[0max\u001b[0m \u001b[1;33m=\u001b[0m \u001b[0mplt\u001b[0m\u001b[1;33m.\u001b[0m\u001b[0msubplots\u001b[0m\u001b[1;33m(\u001b[0m\u001b[1;33m)\u001b[0m\u001b[1;33m\u001b[0m\u001b[1;33m\u001b[0m\u001b[0m\n\u001b[1;32m----> 7\u001b[1;33m \u001b[0max\u001b[0m\u001b[1;33m.\u001b[0m\u001b[0mscatter\u001b[0m\u001b[1;33m(\u001b[0m\u001b[0my\u001b[0m\u001b[1;33m,\u001b[0m \u001b[0mz\u001b[0m\u001b[1;33m,\u001b[0m\u001b[0mc\u001b[0m\u001b[1;33m=\u001b[0m\u001b[0mcolors\u001b[0m\u001b[1;33m)\u001b[0m\u001b[1;33m\u001b[0m\u001b[1;33m\u001b[0m\u001b[0m\n\u001b[0m\u001b[0;32m      8\u001b[0m \u001b[1;33m\u001b[0m\u001b[0m\n\u001b[0;32m      9\u001b[0m \u001b[1;32mfor\u001b[0m \u001b[0mi\u001b[0m\u001b[1;33m,\u001b[0m \u001b[0mtxt\u001b[0m \u001b[1;32min\u001b[0m \u001b[0menumerate\u001b[0m\u001b[1;33m(\u001b[0m\u001b[0mn\u001b[0m\u001b[1;33m)\u001b[0m\u001b[1;33m:\u001b[0m\u001b[1;33m\u001b[0m\u001b[1;33m\u001b[0m\u001b[0m\n",
      "\u001b[1;32m~\\anaconda3\\lib\\site-packages\\matplotlib\\__init__.py\u001b[0m in \u001b[0;36minner\u001b[1;34m(ax, data, *args, **kwargs)\u001b[0m\n\u001b[0;32m   1597\u001b[0m     \u001b[1;32mdef\u001b[0m \u001b[0minner\u001b[0m\u001b[1;33m(\u001b[0m\u001b[0max\u001b[0m\u001b[1;33m,\u001b[0m \u001b[1;33m*\u001b[0m\u001b[0margs\u001b[0m\u001b[1;33m,\u001b[0m \u001b[0mdata\u001b[0m\u001b[1;33m=\u001b[0m\u001b[1;32mNone\u001b[0m\u001b[1;33m,\u001b[0m \u001b[1;33m**\u001b[0m\u001b[0mkwargs\u001b[0m\u001b[1;33m)\u001b[0m\u001b[1;33m:\u001b[0m\u001b[1;33m\u001b[0m\u001b[1;33m\u001b[0m\u001b[0m\n\u001b[0;32m   1598\u001b[0m         \u001b[1;32mif\u001b[0m \u001b[0mdata\u001b[0m \u001b[1;32mis\u001b[0m \u001b[1;32mNone\u001b[0m\u001b[1;33m:\u001b[0m\u001b[1;33m\u001b[0m\u001b[1;33m\u001b[0m\u001b[0m\n\u001b[1;32m-> 1599\u001b[1;33m             \u001b[1;32mreturn\u001b[0m \u001b[0mfunc\u001b[0m\u001b[1;33m(\u001b[0m\u001b[0max\u001b[0m\u001b[1;33m,\u001b[0m \u001b[1;33m*\u001b[0m\u001b[0mmap\u001b[0m\u001b[1;33m(\u001b[0m\u001b[0msanitize_sequence\u001b[0m\u001b[1;33m,\u001b[0m \u001b[0margs\u001b[0m\u001b[1;33m)\u001b[0m\u001b[1;33m,\u001b[0m \u001b[1;33m**\u001b[0m\u001b[0mkwargs\u001b[0m\u001b[1;33m)\u001b[0m\u001b[1;33m\u001b[0m\u001b[1;33m\u001b[0m\u001b[0m\n\u001b[0m\u001b[0;32m   1600\u001b[0m \u001b[1;33m\u001b[0m\u001b[0m\n\u001b[0;32m   1601\u001b[0m         \u001b[0mbound\u001b[0m \u001b[1;33m=\u001b[0m \u001b[0mnew_sig\u001b[0m\u001b[1;33m.\u001b[0m\u001b[0mbind\u001b[0m\u001b[1;33m(\u001b[0m\u001b[0max\u001b[0m\u001b[1;33m,\u001b[0m \u001b[1;33m*\u001b[0m\u001b[0margs\u001b[0m\u001b[1;33m,\u001b[0m \u001b[1;33m**\u001b[0m\u001b[0mkwargs\u001b[0m\u001b[1;33m)\u001b[0m\u001b[1;33m\u001b[0m\u001b[1;33m\u001b[0m\u001b[0m\n",
      "\u001b[1;32m~\\anaconda3\\lib\\site-packages\\matplotlib\\axes\\_axes.py\u001b[0m in \u001b[0;36mscatter\u001b[1;34m(self, x, y, s, c, marker, cmap, norm, vmin, vmax, alpha, linewidths, verts, edgecolors, plotnonfinite, **kwargs)\u001b[0m\n\u001b[0;32m   4451\u001b[0m             self._parse_scatter_color_args(\n\u001b[0;32m   4452\u001b[0m                 \u001b[0mc\u001b[0m\u001b[1;33m,\u001b[0m \u001b[0medgecolors\u001b[0m\u001b[1;33m,\u001b[0m \u001b[0mkwargs\u001b[0m\u001b[1;33m,\u001b[0m \u001b[0mxshape\u001b[0m\u001b[1;33m,\u001b[0m \u001b[0myshape\u001b[0m\u001b[1;33m,\u001b[0m\u001b[1;33m\u001b[0m\u001b[1;33m\u001b[0m\u001b[0m\n\u001b[1;32m-> 4453\u001b[1;33m                 get_next_color_func=self._get_patches_for_fill.get_next_color)\n\u001b[0m\u001b[0;32m   4454\u001b[0m \u001b[1;33m\u001b[0m\u001b[0m\n\u001b[0;32m   4455\u001b[0m         \u001b[1;32mif\u001b[0m \u001b[0mplotnonfinite\u001b[0m \u001b[1;32mand\u001b[0m \u001b[0mcolors\u001b[0m \u001b[1;32mis\u001b[0m \u001b[1;32mNone\u001b[0m\u001b[1;33m:\u001b[0m\u001b[1;33m\u001b[0m\u001b[1;33m\u001b[0m\u001b[0m\n",
      "\u001b[1;32m~\\anaconda3\\lib\\site-packages\\matplotlib\\axes\\_axes.py\u001b[0m in \u001b[0;36m_parse_scatter_color_args\u001b[1;34m(c, edgecolors, kwargs, xshape, yshape, get_next_color_func)\u001b[0m\n\u001b[0;32m   4295\u001b[0m                         \u001b[1;34m\"acceptable for use with 'x' with size {xs}, \"\u001b[0m\u001b[1;33m\u001b[0m\u001b[1;33m\u001b[0m\u001b[0m\n\u001b[0;32m   4296\u001b[0m                         \u001b[1;34m\"'y' with size {ys}.\"\u001b[0m\u001b[1;33m\u001b[0m\u001b[1;33m\u001b[0m\u001b[0m\n\u001b[1;32m-> 4297\u001b[1;33m                             \u001b[1;33m.\u001b[0m\u001b[0mformat\u001b[0m\u001b[1;33m(\u001b[0m\u001b[0mnc\u001b[0m\u001b[1;33m=\u001b[0m\u001b[0mn_elem\u001b[0m\u001b[1;33m,\u001b[0m \u001b[0mxs\u001b[0m\u001b[1;33m=\u001b[0m\u001b[0mxsize\u001b[0m\u001b[1;33m,\u001b[0m \u001b[0mys\u001b[0m\u001b[1;33m=\u001b[0m\u001b[0mysize\u001b[0m\u001b[1;33m)\u001b[0m\u001b[1;33m\u001b[0m\u001b[1;33m\u001b[0m\u001b[0m\n\u001b[0m\u001b[0;32m   4298\u001b[0m                     )\n\u001b[0;32m   4299\u001b[0m                 \u001b[1;32melse\u001b[0m\u001b[1;33m:\u001b[0m\u001b[1;33m\u001b[0m\u001b[1;33m\u001b[0m\u001b[0m\n",
      "\u001b[1;31mValueError\u001b[0m: 'c' argument has 417 elements, which is not acceptable for use with 'x' with size 3, 'y' with size 3."
     ]
    },
    {
     "data": {
      "image/png": "[encoded data removed]",
      "text/plain": [
       "<Figure size 432x288 with 1 Axes>"
      ]
     },
     "metadata": {
      "needs_background": "light"
     },
     "output_type": "display_data"
    }
   ],
   "source": [
    "y = [-28.3177, -21.0772, -26.0835]\n",
    "z = [7.62992, 1.55558, 7.90825]\n",
    "lb=['Fake','Fake','TRUE']\n",
    "n = ['0.01% death rate, lower than the seasonal flu! #CoronaVirusHOAX #OPENAMERICANOW', 'It’s all a Hoax and a farce. Not any worse than the seasonal flu. All the hype is politically motivated.\\n Almost all of Flu cases have been claimed as Covid19. All China based Virus is a Coronavirus.\\n Covid19 is a different strain of the Seasonal Flu.', 'Can the flu vaccination stop Covid-19?\\n\\nNo, the flu vaccine will not stop #Coronavirus.. ']\n",
    "lbl=['Fake','TRUE']\n",
    "fig, ax = plt.subplots()\n",
    "ax.scatter(y, z,c=colors)\n",
    "\n",
    "for i, txt in enumerate(n):\n",
    "    ax.annotate(txt, (z[i], y[i]))"
   ]
  },
  {
   "cell_type": "code",
   "execution_count": null,
   "metadata": {},
   "outputs": [],
   "source": []
  }
 ],
 "metadata": {
  "kernelspec": {
   "display_name": "Python 3",
   "language": "python",
   "name": "python3"
  },
  "language_info": {
   "codemirror_mode": {
    "name": "ipython",
    "version": 3
   },
   "file_extension": ".py",
   "mimetype": "text/x-python",
   "name": "python",
   "nbconvert_exporter": "python",
   "pygments_lexer": "ipython3",
   "version": "3.7.6"
  }
 },
 "nbformat": 4,
 "nbformat_minor": 4
}
