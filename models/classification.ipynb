{
 "cells": [
  {
   "cell_type": "markdown",
   "metadata": {},
   "source": [
    "# Loading data:"
   ]
  },
  {
   "cell_type": "code",
   "execution_count": 1,
   "metadata": {},
   "outputs": [],
   "source": [
    "import matplotlib.pyplot as plt\n",
    "%matplotlib inline\n",
    "import seaborn as sns\n",
    "import itertools\n",
    "from dt import *\n",
    "from rfc import *\n",
    "from svm import *\n",
    "from lr import *"
   ]
  },
  {
   "cell_type": "code",
   "execution_count": 2,
   "metadata": {},
   "outputs": [],
   "source": [
    "import pandas as pd \n",
    "import csv\n",
    "\n",
    "from sklearn.svm import LinearSVC\n",
    "from sklearn.preprocessing import StandardScaler\n",
    "from sklearn.model_selection import cross_val_score\n",
    "\n",
    "# col_list=['screen_name','tweet','hashtag','url','#retweets','#favorites','label']\n",
    "col_list=['screen_name','tweet','label']\n",
    "df=pd.read_csv('C:/ds4cg2020/data/labeledtweets-flu.csv', usecols =col_list) \n",
    "df2=pd.read_csv('C:/ds4cg2020/data/january_flu_tweets.csv', usecols =col_list)\n",
    "# df['burl'] = df['url'].apply(lambda x: 1 if not pd.isnull(x) else 0)\n",
    "# df['bhashtag'] = df['hashtag'].apply(lambda x: 1 if len(x) > 4 else 0)\n",
    "\n",
    "\n"
   ]
  },
  {
   "cell_type": "code",
   "execution_count": 3,
   "metadata": {},
   "outputs": [],
   "source": [
    "def clean_df(df):\n",
    "    forbidden_keys=\"kung flu\"\n",
    "    for i,v in enumerate(df['tweet']):\n",
    "    if forbidden_keys in df.at[i,'tweet'].lower():\n",
    "        df.at[i,'label']=np.nan\n",
    "    df=df.dropna(subset=['label'])\n",
    "    df=df[df.label != '?']\n",
    "    df=df[df.label != 'no content']\n",
    "    df=df.sort_values(by=['label'])\n",
    "    return df\n",
    "\n",
    "# df=df.drop(df.index[170:255])\n",
    "# df=df.drop(df['#retweets'],axis=1)"
   ]
  },
  {
   "cell_type": "code",
   "execution_count": 4,
   "metadata": {},
   "outputs": [],
   "source": [
    "df=clean_df(df)"
   ]
  },
  {
   "cell_type": "code",
   "execution_count": 5,
   "metadata": {},
   "outputs": [
    {
     "data": {
      "text/plain": [
       "TRUE    212\n",
       "Fake    162\n",
       "Name: label, dtype: int64"
      ]
     },
     "execution_count": 5,
     "metadata": {},
     "output_type": "execute_result"
    }
   ],
   "source": [
    "df.label.value_counts()"
   ]
  },
  {
   "cell_type": "code",
   "execution_count": 6,
   "metadata": {},
   "outputs": [],
   "source": [
    "df2=clean_df(df2)"
   ]
  },
  {
   "cell_type": "code",
   "execution_count": 7,
   "metadata": {},
   "outputs": [
    {
     "data": {
      "text/plain": [
       "Fake    30\n",
       "TRUE    14\n",
       "Name: label, dtype: int64"
      ]
     },
     "execution_count": 7,
     "metadata": {},
     "output_type": "execute_result"
    }
   ],
   "source": [
    "df2.label.value_counts()"
   ]
  },
  {
   "cell_type": "code",
   "execution_count": 8,
   "metadata": {},
   "outputs": [],
   "source": [
    "df=df.append(df2)"
   ]
  },
  {
   "cell_type": "code",
   "execution_count": 9,
   "metadata": {},
   "outputs": [
    {
     "data": {
      "text/plain": [
       "TRUE    226\n",
       "Fake    192\n",
       "Name: label, dtype: int64"
      ]
     },
     "execution_count": 9,
     "metadata": {},
     "output_type": "execute_result"
    }
   ],
   "source": [
    "df.label.value_counts()"
   ]
  },
  {
   "cell_type": "code",
   "execution_count": 27,
   "metadata": {},
   "outputs": [
    {
     "name": "stderr",
     "output_type": "stream",
     "text": [
      "[nltk_data] Downloading package punkt to\n",
      "[nltk_data]     C:\\Users\\nazan\\AppData\\Roaming\\nltk_data...\n",
      "[nltk_data]   Package punkt is already up-to-date!\n",
      "[nltk_data] Downloading package stopwords to\n",
      "[nltk_data]     C:\\Users\\nazan\\AppData\\Roaming\\nltk_data...\n",
      "[nltk_data]   Package stopwords is already up-to-date!\n"
     ]
    }
   ],
   "source": [
    "import nltk\n",
    "nltk.download('punkt')\n",
    "nltk.download('stopwords')\n",
    "from nltk.corpus import stopwords\n",
    "import re\n",
    "REPLACE_BY_SPACE_RE = re.compile('[/(){}\\[\\]\\|@,;]')\n",
    "BAD_SYMBOLS_RE = re.compile('[^0-9a-z #+_]')\n",
    "STOPWORDS = set(stopwords.words('english'))\n",
    "\n",
    "def preprocess(text):\n",
    "    text = re.sub(r\"http\\S+\", \"\", text)\n",
    "    text = re.sub(\"[^a-zA-Z]\", \" \",text)\n",
    "    text = text.lower()# lowercase text\n",
    "    text = REPLACE_BY_SPACE_RE.sub(\" \",text)# replace REPLACE_BY_SPACE_RE symbols by space in text\n",
    "    text = BAD_SYMBOLS_RE.sub(\"\",text)# delete symbols which are in BAD_SYMBOLS_RE from text\n",
    "    text = \" \".join([word for word in text.split() if word not in STOPWORDS])# delete stopwords from text\n",
    "    text=text.replace(\"#\",\"\")\n",
    "    \n",
    "    return text"
   ]
  },
  {
   "cell_type": "code",
   "execution_count": 28,
   "metadata": {},
   "outputs": [],
   "source": [
    "tweets=df['tweet'].values \n",
    "preprocessed_tweets=[]\n",
    "for t in tweets:\n",
    "    preprocessed_tweets.append(preprocess(t))"
   ]
  },
  {
   "cell_type": "code",
   "execution_count": 29,
   "metadata": {},
   "outputs": [
    {
     "data": {
      "text/plain": [
       "['death rate lower seasonal flu coronavirushoax openamericanow',\n",
       " 'juliansrum coronavirus cases influenza cases symptoms used diagnose coronavirus flu influenza positive cases week time covid cases rise',\n",
       " 'klfy hoax farce worse seasonal flu hype politically motivated almost flu cases claimed covid china based virus coronavirus covid different strain seasonal flu klfy research',\n",
       " 'outrage new york medical community moved deaths month heartdisease cancer accidents stroke alzheimer homicide etc covid column coronavirus chinavirus faucifraud firefauci firebirx defundcdc nyc govcoumo newyorkfraud flu fraud',\n",
       " 'dikell govmikedewine dianne flu season infections covid world th coronavirus wear past seasons',\n",
       " 'corona covid coronakrise coronsvirus covid',\n",
       " 'well gone million die coronavirus may less deadly flu new study found sars cov virus linked covid maybe five times widespread previously thought therefore five times less deadly',\n",
       " 'paulnuki st century sham mismanagement hardly worse flu amp surprise surprise died month amp sunshine hundreds scientists amp politicians sacked fired amp shamed coronavirus covid',\n",
       " 'pardesseleh drawandstrike media insists covid called virus rather flu words mean different connotations swine flu versus coronavirus see difference',\n",
       " 'go see maybe wearing masks dopes every months different strain flu covid different even get flu shot catch flu strain fall catch another strain spring covid coronavirus',\n",
       " 'osterholm covid even new cases begin fade summer might indicator new coronavirus following seasonal pattern similar flu lukeedwards kevinnbass drdeborahmd',\n",
       " 'anyone ever flu vaccine test positive covid test shows hiv aids virus added covid north carolina lab lawyer attorney tennis bts xbox prosecutor notary bc judgejeanine',\n",
       " 'skynews bbcnews covid deadlier flu short coronavirus x deadlier flu science suggests may anything slightly worse noticeably better',\n",
       " 'covid call bullshit beginning whitehouse regular flu go',\n",
       " 'read flu coronaviruses tests differentiate whether covid coronavirus',\n",
       " 'elonmusk filter coronavirus could tesla make home air cleaners filter viruses virus antivirus covid coronavirus flu influenze illness disease innovation',\n",
       " 'realdonaldtrump covid cases az ages leader protests riots phoenix coronavirus amp warning others protests get tested young people get bad flu generally die deaths still predominantly age',\n",
       " 'introducing long term antimicrobial solutions thermal corrosion solutions llc antimicrobial cleaner microbial sanitizer janitorial solutions covid mrsa flu coronavirus pandemic',\n",
       " 'covid cases az ages leader protests riots phoenix coronavirus amp warning others protests get tested young people get bad flu generally die deaths still predominantly age',\n",
       " 'biggest daily increases coronavirus cases recorded weekend via mailonline fooled deaths worldwide recorded months covid deaths occur worldwide every year flu season every months folks',\n",
       " 'riots protests nothing call bullshit covid coronavirus flu people die flu years years moveon',\n",
       " 'gregmannarino media fear narrative evil required vaccine narrative get covid live amp covid deaths caused coronavirus preexisting ailments making covid threat seasonal flu virus vaccine required',\n",
       " 'pentagon study flu shot raises risk catching coronavirus superhappydragonlucky episode x recap easy fourth july recipes part southern style bbq ribs',\n",
       " 'joebiden pretty comical longer covid coronavirus also found flu strain might cases past week talks cases rising death bed taking regular flu plandemic',\n",
       " 'scared flu coronavirus covid',\n",
       " 'realdonaldtrump swine flu infected americans weaker course covid see bad obama handled imagine president got coronavirus would dead supposed die trump responded great',\n",
       " 'ignorantego mckavitys covid covid coronavirus vaccines billgates cdc nih lockdown thetruthaboutvaccines vaxxer spanishflu influenza flu hcq hydroxychlorquine qanon maga kag scamdemic pandemic virus usconstitution obamagate exposebillgates',\n",
       " 'tozer kbeaver reliable test wuhan covid many test false positive false negative flu shots vaccinations test test virus traces may wuhan cv common cold coronavirus alleged coronaviruses recorded',\n",
       " 'neighbour corners anneconnollyabc suzannedredge l day thousands die every year flu coronavirus flu vaccine check self stop ignorance amp cover people die vaccine fauci even sad corners auspol covid vic covid',\n",
       " 'democrat governors mayors sanctuary cities guilty third degree murder sent china flu covid positive people nursing homes deliberate criminal act',\n",
       " 'apparently new drug found kill covid mean found drug kill flu correct wrong covid flu virus pretty sure kill virus covid uk coronavirus',\n",
       " 'coronavirus mortality study continues confirm overall mortality much different bad seasonal flu covid',\n",
       " 'epidemiologists getting called still denial death count due covid completely skewed reality worse severe flu deepstate fearcontrol billgatesvirus coronavirus fakenews flu wwg wga maga kag',\n",
       " 'plandemic coronavirus flu brought us bill gates decade vaccines staring fauci birx event nih cdc entangled web deceit securing lockdown saw inflated numbers doctors sign every death cert w covid staged control saynotobillgates donoharm blm mindful',\n",
       " 'catturd crazycrnbllbrd trust fauci covid coronavirus vaccines billgates cdc nih lockdown thetruthaboutvaccines vaxxer spanishflu influenza flu hcq hydroxychlorquine qanon maga kag scamdemic pandemic virus usconstitution obamagate exposebillgates',\n",
       " 'mcenany defends trump using racist term refer coronavirus called spanish flu wrongly still call rightly call current virus chinese virus corona covid covid pandemic chinesevirus realdonaldtrump',\n",
       " 'cjtruth wuhan china virus outbreak crock crap basically covid nothing flu human coronavirus around decades check lysol clorox labels read kills something covid fake',\n",
       " 'covid mean terms vaccine development drsanjaygupta vaccine potentially effective like typical flu vaccine',\n",
       " 'seasonal flu news college football covid',\n",
       " 'government never introduce measure meaningful impact covid flu walking back damage leaders caused cinemas allowed reopen pm takes axe two metre distancing rule',\n",
       " 'know asianamericans offended presidenttrump noting nicknames given coronavirus covid among list kungflu media relentlessly pounding story though nuked china',\n",
       " 'ingrahamangle trust fauci fauci asshoe covid coronavirus vaccines billgates cdc nih lockdown thetruthaboutvaccines vaxxer spanishflu influenza flu hcq hydroxychlorquine qanon maga kag scamdemic pandemic virus usconstitution obamagate exposebillgates',\n",
       " 'neurologic sequelae covid coronavirus sarscov possible reference flu',\n",
       " 'hold coronavirus covid like flu something',\n",
       " 'beware nd wave may disastrous impact worse st one like spanish flu spanishflu covid coronavirus',\n",
       " 'trust fauci treason covid coronavirus vaccines billgates cdc nih lockdown thetruthaboutvaccines vaxxer spanishflu influenza flu hcq hydroxychlorquine qanon maga kag scamdemic pandemic virus usconstitution obamagate exposebillgates',\n",
       " 'coronavirus covid mortality flu coronavirus mortality study continues confirm overall mortality much different bad seasonal flu',\n",
       " 'afa debbsthe limaab realmattcouch maybe live moron ville population dallas tx million covid dead population texas million covid dead gt yearly flu dead ish heart attack dead ish cancer dead ish',\n",
       " 'whodafuckisemma politicalfarm die covid flu shots coronavirus people would test positive deepstate created pandemic doctors forced call deaths coronavirus hoax bill gates amp anthony fauci exec ted',\n",
       " 'start texas sept new medical research flu cases says covid may spreading state early sept ut galveston shared research w lab wuhan amp ut also studied coronavirus wuhan lab visited tx least x covid texas',\n",
       " 'ever common cold coronavirus recall common colds seem recur every cold flu season often see repeat covid also recall never vaccine developed common cold seasonal mutations',\n",
       " 'covid tests done course going cases detected cases equal deaths plus survival rate like bad flu compliance control amp attempt terrorize us coronavirus covid masks',\n",
       " 'golfweek even show symptoms mild symptoms death rate fallen according cdc numbers sc death rate less half seasonal flu justinthomas acceleratesc reopenamericanow coronavirus covid',\n",
       " 'dog cell lines super contaminated coronavirus amp year changed dog cell line flu shots military showed flu shots deliberately contaminated course cdc fauci knows way cases pos covid',\n",
       " 'shemp dog cell lines super contaminated coronavirus amp year changed dog cell line flu shots military showed flu shots deliberately contaminated course cdc fauci knows way cases pos covid',\n",
       " 'international fyi toxins weaken human immune system ands weaken system common cold requires body bags every year yearly flu season fraudlent fauci said covid would allowing hazmat asking',\n",
       " 'let explain distinction coronavirus family natural cold viruses around since covid weaponized virus meant destroy iranian chinese economies',\n",
       " 'test positive coronavirus bcuz weve exposed colds regular flu called human coronavirus look clorox disinfectant wipes playing term u b tested specifically covid like u r typea flu',\n",
       " 'coronavirus killed number people worldwide seasonal flu via youtube covid covid us maga kag',\n",
       " 'fucking world evidence covid last august known cases china oct nov nothing',\n",
       " 'word flu since outbreak coronavirus covid',\n",
       " 'could f ing flu die without vaccine coronavirus covid coronavirus downgraded tiger wild cat could die without vaccine',\n",
       " 'like flu bad cold beat malaria cause death world know made disease covid coronavirus',\n",
       " 'johnrobertsfox cozy remember told guy potus covid press conference take mask coronavirus bad flu fakenews facemasks',\n",
       " 'ap cares flu shot last two years carrying form coronavirus yes test positive covid duh',\n",
       " 'new england journal medicine coronavirus could worse flu covid via breitbartnews',\n",
       " 'plandemic coronavirus flu brought us bill gates decade vaccines staring fauci birx event nih cdc entangled web grants securing mouth pieces saw inflatednumbers doctors sign every death cert w covid staged control exposebillgates donoharm blm mindful',\n",
       " 'covid facts month period death rates covid flu diahorrea million conned folks shut nothing coronavirus truthmatters',\n",
       " 'certificate vaccination id trust gates gates asshoe covid coronavirus vaccines billgates cdc nih lockdown thetruthaboutvaccines vaxxer flu hcq hydroxychlorquine qanon maga kag scamdemic pandemic obamagate exposebillgates',\n",
       " 'aslavitt realize counting cases death state flu death based fact counted every single death covid including hospice patients filled nursing homes coronavirus people caused rate soar facts matter',\n",
       " 'monozetta wrong cnn march flu right far deadlier coronavirus fakenews trump responsible covid china bunch whiners stupid video proves everything said wrong',\n",
       " 'need masks prevent covid ever gt sad us citizens taken coronavirus pandemic lies see cdc mortality stats truth review studies masks flu prevention transmission show masks work gt',\n",
       " 'rebeccaballhaus need masks prevent covid ever gt sad us citizens taken coronavirus pandemic lies see cdc mortality stats truth review studies masks flu prevention transmission show masks work gt',\n",
       " 'simondolan im lost think amount times ive spelt covid scandal reiterate china world economic forum big corporates big pharmas elitists bill gates involved afraid flu afraid coronavirus otherwise afraid lot',\n",
       " 'collapse flu amp pneumonia deaths amp flawed tests render common cold labelled covid obvious ever coronavirus fiasco medical fraud people accepting radical changes society based lies amp propaganda uk',\n",
       " 'blmindc padron santiagomayer potus ever wonder happen flu epidemic cdc spoke back dec false coronavirus deaths werent actually heart attacks murders natural causes hospitals could make money coded covid',\n",
       " 'covid thread eu numbers show correlation flu vaccine coronavirus deaths via wodarg coronavirus pandemic covid',\n",
       " 'believe coronavirus virus think happening first really pandemic levels people getting sick whatever going numbers far less typical flu season covid covid covidiots',\n",
       " 'moderncortes aaronblake minimum take covid deaths reality count far looser flu thus flu dead could reasonably seen equal worse death count covid',\n",
       " 'markandrewdarc wiqidbritt fishstix maximilian sure contract covid fine put high risk next mutation either seasonal flu next mutation coronavirus comes point likely significantly worse',\n",
       " 'jeremyswallace covid falls title coronavirus opinion anyone cold common flu rhinoviruses test positive human coronavirus look clorox disinfectant wipes around years u need testing covid',\n",
       " 'martianveronica smadpist linda b rips stop drinking kool aid global cult works cdc controlled agencies pcr test test covid never design infectious diseases also vast amount people already coronavirus especially ever flu vaccine',\n",
       " 'covid like common flu along surprised coronavirus',\n",
       " 'coronavirus us long awareness covid variant flu like h n still around amp still cure amp many years ago mysterious deaths raise questions early coronavirus hit ca',\n",
       " 'amykosari right death rate covid per cdc death rate senior flu shot senior flu shot dangerous coronavirus',\n",
       " 'read sign doctors inform reception coronavirus includes flu cold saying covid think stupid',\n",
       " 'jeanette viegas eddy tt ndd psfnyc brian alford disneyfamjam merry hippie angel atumpkins k mac corinne locher chrisg ubc gpoopon ziggystardad darthmo digivorr robertdobbs mtnboyinmidw niceprinter realthomaspain slimjimjohn grandma boom rocket notmattrellen renay ca rickysi thedemorats kent nye ladyoftheocean mikeada ging nancy politicspot pompano pete f u rpcovit kurtimushamhall vickie pissedoffdr jimrobe topleveltroll tomdoubting flippindbird miracleonice donnnie jones charlene mongo jay see see laylow lou bruette rose covid closely related cold flu coronavirus nd leading cause common cold',\n",
       " 'whites forcing doctors report coronavirus deaths report covid deaths heart attacks strokes flu pneumatic decease everything else coronavirus america donald trump',\n",
       " 'mpsmithnews peddling bs amp fear testing coronavirus covid coronavirus around probably forever medical books coronavirus common cold animals coronavirus flu vaccines coronavirus many people coronavirus hidden agendas',\n",
       " 'steventdennis bencjacobs sure arent coronavirus tests everyone probably positive coronavirus regular yearly flu common cold infection coronavirus covid falls coronavirus many types flu',\n",
       " 'un stop listening msm un want misinformation plandemic pandemic people die flu people tested covid coronavirus changed definition pandemic',\n",
       " 'guykawasaki coronavirus jan known common cold amp seasonal flu coronavirus aka covid different ccp dr fauci bill gates says need vaccine wuhanvirus ccpvirus',\n",
       " 'nygovcuomo lying virus dangerous harsh flu season facts lie governments covid',\n",
       " 'farhatullahb nabijans adherent said coronavirus like flu true statement see similarities link also cdc us recommends testing flu covid simultaneously due similarities symptoms see ss',\n",
       " 'us death rate coronavirus times higher flu covid influenza usa maskitorcasket',\n",
       " 'another republican taking masks seriously coronavirus wife child also called wuhan flu well evidently gop days means bigot people zero covid spreading',\n",
       " 'wester sou bergeonline lumidek roypentland seriously make garbage called every flu season moving forward influenza kills people ages australia year covid deaths measure enact martial law every flu season',\n",
       " 'starmistriel jokes elements truth coronavirus jan known common cold amp seasonal flu coronavirus aka covid different ccp dr fauci bill gates says need vaccine wuhanvirus ccpvirus',\n",
       " 'way stop covid provide hydroxycloroquine z pac amp zinc take first sign cold flu coronavirus covid risk damned',\n",
       " 'look know hydroxycloroquine prevent covid amp prevent coronavirus flu democrats fighting hard got private supply',\n",
       " 'speakerforthed trust fauci covid coronavirus vaccines billgates cdc nih lockdown thetruthaboutvaccines vaxxer spanishflu influenza flu hcq hydroxychlorquine qanon maga kag scamdemic pandemic virus usconstitution obamagate exposebillgates',\n",
       " 'perfect storm sars cov flu season minimize double whammy infections maximizing influenza vaccine uptake covid pandemic super important covid year dumptrump trumppandemicfailure bluewave votebymail',\n",
       " 'coronavirus cold flu covid cases different real danger fakenews',\n",
       " 'adams chriscuomo sidrosenberg foxnews brithume benshapiro timrunshismouth gov desantis reporting covid deaths use fl comparison cases like comparing apples oranges two relationship actual data check spike pneumonia deaths successfully prove ignorance bliss',\n",
       " 'tinaforte mike mzman breathe covid coronavirus vaccines billgates cdc nih lockdown thetruthaboutvaccines vaxxer spanishflu influenza flu hcq hydroxychlorquine qanon maga kag scamdemic pandemic virus usconstitution obamagate exposebillgates',\n",
       " 'hecht burghgirl congressmangt gopoversight know cdc said half deaths cv look chart flu pneumonia added covid deaths hmmm',\n",
       " 'business lawsuits come back usa government negligence usa said coronavirus hoax like flu covid disappear miraculously masks ineffective test trace invasive shelter place lockdown unconstitutional cdc prepare ppe',\n",
       " 'godfamilyjesus quarantine covid coronavirus vaccines billgates cdc nih lockdown thetruthaboutvaccines vaxxer spanishflu influenza flu hcq hydroxychlorquine qanon maga kag scamdemic pandemic virus usconstitution obamagate exposebillgates',\n",
       " 'netz melb covid hoax coronavirus truth medical association wants promote idea covid real give new name seasonal flu worries tests meant point time tell time proactively got tested flu virus',\n",
       " 'realdonaldtrump getting extreme care covid worse inept response stoking racism response blm refusal use expert accepted terms everyone country less safe',\n",
       " 'mailonline call freedom like psychological prison nonsense virus strong seasonal flu coronavirus covid newnormal scamdemic',\n",
       " 'magamuscleman maryamhenein post licensure efficacy trial recorded death rate seniors took fluzone quad high dose seniors per cdc covid death rate flu shot dangerous coronavirus',\n",
       " 'nope keep holding world hostage statistically run mill flu virus totally unsustainable everyone must keep working roll coronavirus covid',\n",
       " 'massimassian davidpittelli indeed asked wear masks prior flu seasons influenza spread times higher covid spread covid infected people us people infected annually influenza yr',\n",
       " 'susanstjames get covid deadly thousands maga patriots could die going trump rallies would democrats care hate us fact coronavirus pure bs flu nothing know trump rallies',\n",
       " 'covid coronavirus flu given bad info china sought damage president trump america wake enjoy life',\n",
       " 'dog cell lines used flu vaccine year military chance test positive one coronavirus types give positive pcr test lie covid total fraud flushot gone cases',\n",
       " 'deanna congress truthse cov id covid coronavirus vaccines billgates cdc nih lockdown thetruthaboutvaccines vaxxer spanishflu influenza flu hcq hydroxychlorquine qanon maga kag scamdemic pandemic virus usconstitution obamagate exposebillgates',\n",
       " 'coronavirus vaccine winter flu vaccine yet every year huge numbers people vaccinated covid',\n",
       " 'beercan cletusabibbit dog cell lines used flu vaccine year military chance test positive one coronavirus types give positive pcr test lie covid total fraud flu vax gone cases',\n",
       " 'bbcradio thejeremyvine think keep everything shut forever know covid coronavirus deadly seasonal flu remember shutting full country seasonal flu take word bigger picture vaccine',\n",
       " 'growsomeovaries nycbumpkin whitehouse actually confirmed absolute strange literally counted flu deaths flu kills k annually hospice patients counted coronavirus deaths fakenews called good reason even birx said counting death covid heard',\n",
       " 'eavesdropann meme joke coronavirus jan known common cold amp seasonal flu coronavirus aka covid different ccp dr fauci bill gates says need vaccine wuhanvirus ccpvirus',\n",
       " 'us death rate coronavirus times higher flu covid coronavirusupdate covid nottheflu trumpliedpeopledied rememberinnovember novemberiscoming',\n",
       " 'thomas paine trust fauci fauci asshoe covid coronavirus vaccines billgates cdc nih lockdown thetruthaboutvaccines vaxxer spanishflu influenza flu hcq hydroxychlorquine qanon maga kag scamdemic pandemic virus usconstitution obamagate exposebillgates',\n",
       " 'canukcookie breathe mask covid coronavirus vaccines billgates cdc nih lockdown thetruthaboutvaccines vaxxer spanishflu influenza flu hcq hydroxychlorquine qanon maga kag scamdemic pandemic virus usconstitution obamagate exposebillgates',\n",
       " 'gatewaypundit covid covid coronavirus vaccines billgates cdc nih lockdown thetruthaboutvaccines vaxxer spanishflu influenza flu hcq hydroxychlorquine qanon maga kag scamdemic pandemic virus usconstitution obamagate exposebillgates',\n",
       " 'hey jim drug needed covid deadly seasonal flu fact jimcramer',\n",
       " 'govabbott covid survival rate face masks actually compromise immune systems especially kids thus making flu season dangerous amp us let us develop herd immunity amp go w lives enough w gov control',\n",
       " 'punishdem covid coronavirus vaccines billgates cdc nih lockdown thetruthaboutvaccines vaxxer spanishflu influenza flu hcq hydroxychlorquine qanon maga kag scamdemic pandemic virus usconstitution obamagate exposebillgates',\n",
       " 'jfrketich thespec crazy way prevent spread learn proper respiratory etiquette cold virus flu spread sneeze cough amazingly works latest coronavirus flattenthefear covid',\n",
       " 'trump lies kids safe covid reopen schools regular flu flus things sars h n young people affected like everybody else whatever reason respect covid numbers low said',\n",
       " 'cernovich benyt risj oxford whether lawsuit recently fox news among fallacies recently sprayed viewers fake information coronavirus pandemic calling among things hoax common flu nothing like covid msnbc',\n",
       " 'ross cappy wire splitting hairs distrustful articles use coronavirus implying covid coronviruses colds flu always transmitted methods',\n",
       " 'stevescalise hold dems accountable nursing home deaths know planned put ppl nursing home covid sole purpose running already inflated cdc death rates cdc put flu amp pneumonia deaths coded coronavirus',\n",
       " 'hey maga peeps might want tell boss boss covid worse regular flu spraying underlings apparently boss boss thinks real democrat hoax right',\n",
       " 'planet zombie copvid think msm says question everything trust one truth freedom facts cure treatment exists covid coronavirus worse seasonal flu sarscov biological weapon',\n",
       " 'coronavirus overblown media scam death rates equivalent flu cnn nytimes guardian rest liberal media outlets stick aljazeera allahuakbar covid fakenews',\n",
       " 'coronavirus jan known common cold amp seasonal flu coronavirus aka covid different ccp dr fauci bill gates says need vaccine',\n",
       " 'aubrey huff magadebwwg wga coronavirus jan known common cold amp seasonal flu coronavirus aka covid different ccp dr fauci bill gates says need vaccine wuhanvirus ccpvirus',\n",
       " 'fionamflanagan even isolated called covid strain coronavirus incidentally causes around colds amp flu every year least population would test positive anyway',\n",
       " 'deaths outside nursing homes might expect typical flu season explain ignored protocols forced covid patients nursing homes covid coronavirus potus qanon reopenamerica',\n",
       " 'media still getting away peddling utterly dishonest death rate using confirmed cases x deadlier flu seriously covidiots covid',\n",
       " 'kimberlyritter almost every person got coronavirus bit covid friends covid pass like flu without medications tea lemons hoax many different reasons sadly bad ones',\n",
       " 'covid coronavirus know common cold common flu sars mers think chance testing positive covid amp many others scamdemic',\n",
       " 'believe word guy says anymore wrong throughout entire pandemic e flu dr fauci warns coronavirus vaccine might take time covid morningjoe maddow rachelmaddow tuesdaythoughts maga trump',\n",
       " 'done seasonal flu virus kills thousands people year covid coronavirus c news',\n",
       " 'nih fauci q amp failures successes developing vaccine flu vaccine effectiveness varies since mutates know coronavirus changes coronavirus covid anthonymace fauci',\n",
       " 'fox vegas unless sick caring someone sick say covid coronavirus vaccines billgates cdc nih lockdown thetruthaboutvaccines vaxxer influenza flu hcq hydroxychlorquine qanon maga kag scamdemic pandemic virus obamagate exposebillgates',\n",
       " 'cdc stats show cases less danger covid even serious us flu gt horowitz cdc confirms remarkably low coronavirus death rate media may covid coronahoax faucifraud',\n",
       " 'covid deadlier flu short coronavirus x deadlier flu science suggests may anything slightly worse noticeably better',\n",
       " 'total estimated flu season deaths last year per cdc total confirmed deaths coronavirus since march pace holds see dead americans roughly year gtfo worse flu covid covidiots',\n",
       " 'cnn dr fauci rightfully claimed covid produces many false positives test flawed triggers remnants coronavirus found body cold many people without symptoms get tested flu covid lockdowns inflated deaths hoax',\n",
       " 'cdcdirector resign cdcdirector politicization annual flu season cost thousands lives reason sars cov antibody testing time wasted fake science manipulation via fear rejected covid coronavirus',\n",
       " 'love fakenews check coronavirus hype covid basically flu fools let daddy govt shut riots cured right fascism plandemic blacklivesmatter georgefloydhoax',\n",
       " 'witsuniversity uniofoxford wits news witshealthfac witsrhi sahpra oxfordmedsci healthza gavi want bile gate foundation vaccines said gonna test killing vaccines virus even called swine flu capsvirus coronavirus covid wits gonna anyone test guineapig saynotowitsvaccin saynotowitsvaccin',\n",
       " 'looks legit covid coronavirus vaccines billgates cdc nih lockdown thetruthaboutvaccines vaxxer spanishflu influenza flu hcq hydroxychlorquine qanon maga kag pandemic exposebillgates',\n",
       " 'scroll link page gt evidence based reasons vaccinate free research pdf download greenmedinfo good info amp esp view rush vax covid coronavirus etc none prev flu vaccines work well',\n",
       " 'coronavirus vaccine trial imperial college london begins miraculous vaccine breaks records herpes flu cold aids many viruses cannot create vaccine years covid less years gullible people say yea',\n",
       " 'coronavirus covid wave inbound hits way flu normally autumn winter going dire also chinese properly lie response time seems quicker amp joined',\n",
       " 'geraldo tested immunities winter flu would test positive even though last november wish would give us numbers testing showing covid cases end last year covid coronavirus',\n",
       " 'got sick coronavirus winter tell anyone treated like flu got better within days please others tellyourstory covid',\n",
       " 'comparative review respiratory diseases caused coronaviruses amp influenza viruses epidemic season next fluseason clinicians may distinguish covid pneumonia kinds viral pneumonia flu covid coronavirus',\n",
       " 'trvrb would covid seasonal like respiratory viruses first wave spanishfu plateaud much worse nd wave hit fall could worse coronavirus occur alongside seasonal flu young people weakend flu could susceptible covid',\n",
       " 'memory loss shortness breath panic attacks gnarled fingers among lingering health issues post covid cold flu',\n",
       " 'upon time flu worst disease winter fall wish catch instead covid must let coronavirus whereas must let bad habits kissing embarrassing hand shaking whatever leadt outbreak',\n",
       " 'spanish flu world war halted growth global trade finance migration took half century recover happen covid trades businesses manufacturing leadership management work futureofwork via wsj',\n",
       " 'fire season covid experts predict dramatic increase october coincides flu season california fire season smoke could exacerbate seriousness virus covid beready beprepared',\n",
       " 'coronavirus vs opioid epidemic idea comparing health crisis issues new opioid epidemic compared several times hiv epidemic flu countless others read addiction rehabilitation covid opioidcrisis',\n",
       " 'spanish flu world war halted growth global trade finance migration took half century recover happen globalization covid via wsj',\n",
       " 'lesarobertson three people died covid one lady daughter building one building one street homeless lady sleeping nearby broadway know died others know sick w flu coronavirus tulsa',\n",
       " 'nytimes nyt angela tulsa city employee refused give last name also said want wear mask healthy young woman said compared coronavirus flu many times covid like flu',\n",
       " 'emilula gf images profkarolsikora covid biggest killer flu still need vaccine stop catching virus compare coronavirus flu',\n",
       " 'gryphonwatcher demetrialesterc new disease many strange effects kidney damage failure often seen much much flu pneumonia health care workers best dangerous difficult situations',\n",
       " 'marketwatch published piece richmondas professor jory brinkerhoff disease ecologist amp expert ticks writes concerns covid amp lyme disease symptoms similar may cause issues diagnosis',\n",
       " 'alarming covid clusters among young people u south linked bars fraternity rush parties especially worrying colleges universities plan bring students back campus fall coronavirus flu virus expected circulate simultaneously',\n",
       " 'another bc someone said bad flu coronavirus covid covid',\n",
       " 'barely half year coronavirus killed people us alone fucking hate ignorant fucks keep saying flu kills way blah blah covid fucking serious take seriously u think entire world stupid',\n",
       " 'people responsible say regrets faced global calamity say covid worst pandemic since spanish flu flu killed million people',\n",
       " 'covid today catastrophe time become flu live today test detect coronavirus minutes approved us via wef',\n",
       " 'fauci prediction would take death toll well past average seasonal flu trump repeatedly cited flu comparatively much higher cost lives playing severity pandemic covid',\n",
       " 'anthony fauci says still first wave covid cases click learn past pandemics',\n",
       " 'flu really remember trump pitched blow away easter sunday deaths us new cases last hrs deaths last hrs covid trumpgenocide bunkerboytrump',\n",
       " 'arockalyps lawrencehughes chuckcallesto huh many people died coronavirus bad flu season seasonal still point small percentage population exposed wait flu covid going around watch death numbers',\n",
       " 'fox news anchors claimed covid less virulent flu plot liberal hyper partisan media get trump fox warned employees stay home reduce staff footprint headquarters new york',\n",
       " 'heard woman tulsa queued trumpus rally equate covid flu wrong people covid coronavirus tulsa trumprallytulsa',\n",
       " 'neeratanden thing terrible covid lasts lasts coronavirus like flu want get sick sick weeks brutal scary staysafe keep people safe wearamask wearadamnmask covid stayhome covid gopgenocide',\n",
       " 'demands responding covid damaging prospects developing effective influenza vaccines reducing chances preventing flu pandemic according world health organization covid coronavirus',\n",
       " 'caffeinatedinaz dildon opticcityoiler tucsonromero want dead people guess wearing mask would help reduce flu nearly medical professionals say arizona start requiring people wear masks stephanieinnes mpolletta covid',\n",
       " 'bestson dorseyisajoke may never realize sick continue spread covid weeks novel coronavirus flu replicated rna hiv flu kills covid kills see months sept canada lost',\n",
       " 'one new local covid case reported active cases fluctuate caitlanmbutler eldorado unioncounty covid coronavirus healthreport arkansas',\n",
       " 'almost like virus flu going around coronavirus covid',\n",
       " 'stay home orders lifted nationwide coronavirus continues spread cdc recommends wearing fabric face mask slow spread virus tips people asthma covid',\n",
       " 'vast majority covid related deaths occur people actuarial perspective would died year soon thereafter pre existing morbidity covid coronavirus reopenamerica qanon wwg wga',\n",
       " 'united states coronavirus cases deaths trump said hoax like flu gone spring continues lie americans die covid epicfail',\n",
       " 'history pandemics proves covid far defeated',\n",
       " 'okay nepal finally entered coronavirus infection flu stage today let forget devastation mentality caused us stayhome covid nepal nepali thisweekinnepal',\n",
       " 'number americans died covid surpassed number killed world war death toll exceeds americans died world war flu pandemic coronavirus deaths occurred four months',\n",
       " 'davey petersharpley lademocratietue jeremyvineon lord sugar thejeremyvine unknown virus unpredictable mortality morbidity effects coronavirus appear much extensive amp long term flu covid least times infectious flu',\n",
       " 'realdonaldtrump swine flu killed roughly k people years biden charge response h n lastly failed handle covid appropriately k americans counting dead months failure due ignorance indifference coronavirus',\n",
       " 'covid covid opportunistic killer california reopening quickly giving virus opportunity requires aggressively spread amp kill spanish flu pandemic killed million people many people covid kill',\n",
       " 'kamalaharris covid covid opportunistic killer california reopening quickly giving virus opportunity requires aggressively spread amp kill spanish flu pandemic killed million people many people covid kill',\n",
       " 'covid covid opportunistic killer california reopening quickly giving virus opportunity requires aggressively spread amp kill spanish flu pandemic killed million people many people covid kill',\n",
       " 'really going bring swine flu nothing coronavirus even make usa like virus kill way less coronavirus covid million man smh',\n",
       " 'ctvnews k dead us alone amp rising steadily mortality rate covid higher th spanish flu pandemic cost million lives world wide keep th border closed',\n",
       " 'covid flu let final warning via nypostsports',\n",
       " 'anywhere near end several states headed italy nyc situation speak others yet hit first wave come fall forced back inside flu worse coronavirus covid',\n",
       " 'leonard ethicalskeptic comparing coronavirus influenza bit strange try comparing covid sarscov behavior comparing flu coronavirus like expecting zebra behave like monkey',\n",
       " 'nhl teams control seasonal flu runs dressing rooms every season think control coronavirus nhl covid',\n",
       " 'last time flu killed american people within months covid coronavirus like flu',\n",
       " 'flu really case anyone know global coronavirus cases reached deaths globally died tragially coronavirus covid trumpgenocide bunkerboytrump',\n",
       " 'deaths covid us less month yea flu yea go away weather warms addition covid also suffering stupidity pandemic us coronavirus',\n",
       " 'washingtonpost u nation decline spends trillion year national security protect population pandemic europe china contained spread covid rampant u fall winter flu season coronavirus',\n",
       " 'derekjames imbecile one order support like borisjohnson donaldtrump jairbolsonaro responsible tens thousands deaths one sob said covid coronavirus normal flu drinkbleach etc borisjohnsonmustgo dumptrump trumpdeathtoll k',\n",
       " 'prison guard finds hard way covid nothing like flu',\n",
       " 'stay home orders lifted nationwide coronavirus continues spread cdc recommends wearing fabric face mask slow spread virus tips people asthma covid',\n",
       " 'flu corona comparison coronavirus flu coronapandemic coronainpakistan coronavirusupdates coronawarriors covid covid covid pakistan',\n",
       " 'cancel americans free please survival rate amp oklahomans strong people nobody cares get coronavirus cause like flu go see trump amp get added bonus getting covid fellow patriot',\n",
       " 'letmelooktv marcuschown medialens let dispel notion novel coronavirus like flu striking comparison flu covid sars mers ht biorender covid x deadly almost x contagious flu existing immunity covid',\n",
       " 'flu shot causes body immune system make antibodies protect influenza antibodies different antibodies body makes fight infection caused novel coronavirus covid basedonscience',\n",
       " 'gets coronavirus covid fake killer virus whatever branch th flu infectious seen many celebrities politicians royals th rich homeless junkies dead thousands nope died make th news',\n",
       " 'someone tell current alert level flu covid coronavirus alertlevel',\n",
       " 'desantisbetrayedflorida covid cases surging many early covid deaths misclassified flu pneumonia',\n",
       " 'bopinion damned way keep stopping world running every couple months flu tail wag dog ad nauseam keep working functioning period coronavirus covid',\n",
       " 'coronavirus vs spanish flu spanish flu hit world three waves second third wave coronavirus pandemic likely h soberlook bcaresearch markets investing coronaviruscrisis coronavirus covid economy',\n",
       " 'covid preparations southern flu season must priority modern diplomacy coronavirus covid',\n",
       " 'walesonline reporting covid coronavirus seven different strains including cold flu',\n",
       " 'today covid update global cases deaths eu eea uk cases deaths find info latest rapidriskassessment sarscov',\n",
       " 'certain covid flu virus complex deadlier previously thought affecting increasing number young people coronavirus covid',\n",
       " 'timgriff drchrisparry unfortunately dismissing covid flu dangerous',\n",
       " 'walking feet bathroom sends heart rate oxygen saturation pee like hear fake pandemic worse flu covid coronavirus',\n",
       " 'total coronavirus cases state downward trend weeks said donald yealy upmc health system preparing manage coronavirus upcoming fall cold flu season ncpa covid',\n",
       " 'remembers flu bro people coronavirus covid',\n",
       " 'thespec jfrketich crazy way prevent spread learn proper respiratory etiquette cold virus flu spread sneeze cough amazingly works latest coronavirus flattenthefear covid',\n",
       " 'gavinnewsom officialkat learn proper respiratory etiquette cold virus flu spread sneeze cough amazingly works latest coronavirus flattenthefear covid',\n",
       " 'mar origin coronavirus covid coronavirus china ten times flu cases usual december thetimes',\n",
       " 'democrat governors go cdc guidelines taking amp treating covid patients back nursing homes elderly already risk every year regular flu',\n",
       " 'coronavirus china ten times flu cases usual december covid thetimes health authorities reported million cases influenza december compared recorded month',\n",
       " 'face diaper covid coronavirus vaccines billgates cdc nih lockdown thetruthaboutvaccines vaxxer spanishflu influenza flu hcq hydroxychlorquine qanon maga kag scamdemic pandemic virus usconstitution obamagate exposebillgates',\n",
       " 'covid deaths us hit k hate crimes asian americans rise country reeling yet must remind potus use racism describe disease taken much',\n",
       " 'summer covid become american flu',\n",
       " 'whitehouse realdonaldtrump dr fauci knows covid coronavirus flu dr fauci never calls covid hoax dr fauci never tell people drink bleach dr fauci never said testing bad covid would disappear testing stopped dr fauci tells truth intelligent',\n",
       " 'whitehouse realdonaldtrump fixed potus irresponsibly crams unmasked supporters together another super spreader petri dish rally young people take covid home amp mothers fathers grandmother grandfathers family amp community get sick many die bc coronavirus x deadly flu dumb',\n",
       " 'riseupmelbourne testing flawed though experts never properly isolated virus covid coronavirus flu understand thousands different strains test virus give different readings day day',\n",
       " 'beverle graemefrisque kinsellawarren elpolitics flu strain many year die strain flu using total worldwide flu deaths way minimize effect covid flawed argument covid one single strain coronavirus',\n",
       " 'nataliexdean young people definetly less cautious newyork may change nd wave hits fall flu season flu makes even young people sick amp weakened flu may susceptible covid scottgottliebmd epitwitter coronavirus',\n",
       " 'neiltyson repost sergiorizzuto important global deaths caused various causes amp covid chart shows importance getting virus control like flu viruses covid coronavirus',\n",
       " 'second coronavirus wave expected fall health experts stressing importance year flu shot omrf covid coronavirus flu vaccines',\n",
       " 'cherteapet msnbc also cdc october april flu illnesses flu deaths covid february june total cases new cases total deaths new deaths',\n",
       " 'repub rep mckinley recounts deaths drug overdoses causes took decade come vaccine flu trump admin unfairly treated press since covid months old coronavirus covid anthonymace mckinley',\n",
       " 'reading spanish flu pandemic saw reappeared twice first wave experts said coronavirus covid likely reappear wondering could also third time',\n",
       " 'stadiums amphitheaters safe coronavirus grim clues years flu outbreaks covid security safety',\n",
       " 'covid flu kills infected people age whereas coronavirus death rate infected people age group people',\n",
       " 'cakizil',\n",
       " 'saw video months ago clear coronavirus flu people drop dead flu walking still applies fully understood due spread even dangerous mask wash distance covid',\n",
       " 'covid worse flu months answer infection rates similar death rate covid significantly higher flu according cdcgov amp johnshopkins',\n",
       " 'greenfield clown difference dead covid flu ya asshat taking account cuomo stuffing sick ppl w old reported even honest shut',\n",
       " 'johnnypenso drericding post reading article longer able say covid like flu know read death matter',\n",
       " 'hhs giroir q amp agree fauci tend forget past lessons ppe topics need order enough flu vaccine reduce flu fatalities co infections covid hahn agrees collect preserve info progress coronavirus covid anthonymace giroir hahn',\n",
       " 'coronavirus death rate us almost times higher flu see compare age bracket covid coronapalooza coronavirus flu influenza businessinsider socialdistancing',\n",
       " 'takes one person covid show symptoms spread virus across land wait till november everyone immune systems amp everyone depressed cold weather flu amp back started coronavirus covid bbcnews pmqs',\n",
       " 'let take look covid numbers compared flu',\n",
       " 'texas children hospital confirmed late monday admitting adult patients free hospital beds across houston coronavirus cases surge covid like flu really',\n",
       " 'nih fauci q amp get winter inevitably concurrent flu season need many people possible get flu vaccine complicating factor confounding double infections coronavirus covid anthonymace fauci',\n",
       " 'misterd skysportsnews flu coronavirus flu influenza virus coronavirus virus covid disease caused coronavirus try smart suit',\n",
       " 'usa riddled sars cov undetected coronavirus fever flu influenza medicine pandemic respiratory covid sarscov usa',\n",
       " 'brandon ochieng bridge academy kyumbi stays safeathome observing proper hygiene practices everyday teaching children good health habits like help prevent spread colds flu well covid visit moh kenya',\n",
       " 'south africa flu season mean coughs sneezes take simple daily precautions help prevent spread respiratory illnesses like covid influenza learn protect covid',\n",
       " 'karlfly bluetx govabbott diagnosed cases resolved fatality rate worldwide covid swine flu fatality rate covid x worse fatality rate include survive long term damage health',\n",
       " 'breathtaking best sense nobody understimate brutal impact covid infection must read idiots comparing coronavirus flu playing fatal herdimmunity birgitc best stay strong',\n",
       " 'mortality rate covid still going like seasonal flu perverts covid coronavirus maskitup censorship',\n",
       " 'norvernmunkee r ph reason winter flu think coronavirus might behave differently also seems survive bad case covid could scarring lungs possibly long term would pretty awful',\n",
       " 'warne said swine flu worse covid coronavirus would typically mild fever night back pain experienced said worst pain felt life',\n",
       " 'covid caused double deaths flu season us still flu get realdonaldtrump coronavirus',\n",
       " 'hotpep jeffmason cernovich realdonaldtrump could get sick theory people got sick coronavirus might catch cold flu viruses disappear covid appeared young people going stay indoors social distance life risk',\n",
       " 'jvm weijia god damned flu coronavirus two different viruses covid dangerous said remove common sense bio post read timeline demand',\n",
       " 'people must wear mask protect others flu season hits year going hit hard ugly wearadamnmask wearamask covid coronavirus',\n",
       " 'regram neiltyson sorry downer important global deaths caused various causes amp coronavirus chart shows importance getting virus control like flu viruses covid coronavirus',\n",
       " 'using hand sanitizer reduces microbial counts kills many harmful germs could infect workers flu viruses facemask sanitizer clean covid coronavirusupdate coronavirus corona lockdown pandemics quarentinelife breakingnews coronavirus',\n",
       " 'ragnar lives hugozheng mlevitt np death numbers might interest season end comparing flu follow process start year whenever want finish point covid started january',\n",
       " 'ignoramus still thinks covid flu read coronavirus',\n",
       " 'indivisible nc cvdeathwatch walkon danforestnc ncgop candidate governor lt dan wanted us keep covid perspective telling us coronavirus worse flu hiv maskup staystrongnc standwithroycooper ncpol',\n",
       " 'covid flu lasts longer contagious higher rates hospitalization deadly long term effects known stay safe folks',\n",
       " 'makes sad stupid people ignore coronavirus trying pretend flu something less organize events parties risk health people tuesdaythoughts tuesdaymotivation tuesdayvibes tuesdaymood covid covid covid',\n",
       " 'experts offer grim warning strain medical system covid flu later year',\n",
       " 'want see bad flu season second wave coronavirus time professor martin marshall says spike flu covid cases would hit whole nhs',\n",
       " 'staying safe home important parents caregivers teachers continue teach children observe good health habits order help prevent spread colds flu well covid visit minofhealthug',\n",
       " 'think may covid flu people get sick take care home need see doctor call ahead going office take precautions protect others around see',\n",
       " 'kungflu even sounds racist even accurate seeing covid sars flu virus name entire world uses racist describes virus scientific detail feat maga base cant master coronavirus covid',\n",
       " 'coronavirus respiratory disease may present symptoms similar common colds flu essential know differences early intervention management coronavirusuk covid coronavirus coronavirusoutbreak',\n",
       " 'coronavirus respiratory disease may present symptoms similar common colds flu essential know differences early intervention management coronavirusuk covid coronavirus coronavirusoutbreak',\n",
       " 'kindrobot org r hellqvist closest rationale current strategy could find spelled also website lund university starting march seems like let spread immune come thinking covid parallel spanish flu',\n",
       " 'rose xo yep doctors certainly discovering unusual sideeffects coronavirus baffles anyone researches frankly covid illness range mild flu symptoms developing pneumonia full ards issues like stroke amp cardiac arrest',\n",
       " 'today covid update global cases deaths eu eea uk cases deaths find info latest rapidriskassessment sarscov',\n",
       " 'latimes please even consider reopening soon covid pandemic pandemic attempted influenced business interests dire consequences donotopencalifornia extendlockdown covidiots',\n",
       " 'dr behind covid trials talks cytokine storm critical patients people still saying covid bad flu since lung transplants indicated flu patients',\n",
       " 'u symptoms cold flu covid coronavirus viruses amp infections properly wearing surgical facemask help protect others getting sick important u follow infection prevention precautions putting maskon amp taking maskoff',\n",
       " 'unlectorenrd yerjo therealkorven crubiomartinezu para el covid hay cura es la enfermedad creada por una cepa del virus coronavirus para la gripe com n el flu hay curas existen tratamientos para sobrellevar la enfermedad hasta que tu cuerpo elimina el virus se hagan los est pidos',\n",
       " 'facebook post shared thousands times claims cdcgov lied number deaths caused covid combining count pneumonia influenza fatalities false fakenews coronavirus usa',\n",
       " 'trump flu klux klan spread virus china ever chinesevirus kungfluvirus trumpscoronavirusrally chinese redhatcult corruptlicans coronavirus covid covidiots',\n",
       " 'call trump flu cos fucking killing people let get trumpflu trending coronavirus covid',\n",
       " 'flu vaccination stop covid flu vaccine stop coronavirus receiving jab local communitypharmacy help ease pressure put onto nhs save lives protectthenhs covid',\n",
       " 'today covid update global cases deaths eu eea uk cases deaths find info latest rapidriskassessment sarscov',\n",
       " 'growing number people uk reported symptoms compatible covid seasonable flu late dec jan prompting questions novel coronavirus arrived country even swayed experts',\n",
       " 'remember fools said flu worst coronavirus remember fools said summer heat sun get rid covid well covidiots wrong protect',\n",
       " 'guonglu sandys socks voiceoverlady georgetakei needed discuss whether covid flu caused coronavirus caused influenza next calling hiv aids like trump',\n",
       " 'bytstrateginu coronasverige covid different flu let stop comparing flu important let stop using flu projection models fhm g amp amp c handling covid',\n",
       " 'spanishflu million billion confirmed cases world population million deaths could covid worse spanish flu humanity extinction event wuhan china australia covid coronavirus pandemic plague drtedros',\n",
       " 'fabi flu glenmark covid treatment drugs available tab costs rs',\n",
       " 'zidanebaldpatch dukegonzo mikeneil warrior scots stvnews us deaths last winter flu us deaths today covid total quite difference source',\n",
       " 'second wave coronavirus way second phase spanish flu deadlier first second coronavirus wave inevitable bad could covid coronavirus coronavirusupdates coronaviruspandemic',\n",
       " 'india set begin trials japanese flu drug favipiravir glenmark fabiflu fabifluavailability covid corona coronavirus coronavirusupdates japanese japan coronavirusoutbreak chinesevirus chineseproductsindustbin chinesecoronavirus favipariwar pibindia',\n",
       " 'ruby princess inquiry hears passenger diagnosed flu days died coronavirus',\n",
       " 'ruby princess passenger diagnosed flu days coronavirus death inquiry hears',\n",
       " 'ruby princess passenger diagnosed flu days coronavirus death inquiry hears',\n",
       " 'ruby princess passenger diagnosed flu days coronavirus death inquiry hears',\n",
       " 'enduklockdown patrickmcdona mags hawkeyeknows macfullermac quizbay covid global total last bad flu death toll uk killing covid killed far uk',\n",
       " 'always remember something even supposed know msnbc foxnews nytimes cnn wsj cnbc politico huffpost drudge bbc gop npr dailykos thehill wapo nbc cbs ap slate aarp covid cdc fauci nyc nyt realdonaldtrump coronavirus',\n",
       " 'media hype covid starts drift away haze exaggeration amp governmental reaction interesting note european deaths flu excess deaths coronavirus beat one wonders panicdemic total could far bigger',\n",
       " 'flu warm weather make go away huh world health organization sunday reported largest single day increase coronavirus cases count new cases latest hours covid coronavirus',\n",
       " 'second wave spanish flu almost century ago deadly first one second wave covid inevitable bad gonna guys coronavirus',\n",
       " 'ofcourse even spanish flu disappeared without vaccine even black death disappeared without vaccine much damage covid without vaccine question coronavirus donateplasmasavelives',\n",
       " 'share quick fact get deeper flu season remember still important get tested start showing symptoms take care stayhomestaysafe niemannpickoz covid coronavirus npcaustralia',\n",
       " 'came spread killed lessons spanish flu coronavirus hit india years coronavirus updates corona live tracker corona outbreak coronavirus coronavirus updates covid covid tracker covid outbreak latest news',\n",
       " 'us president donaldtrump blamed china global spread deadly coronavirus kungflu kungflufighting covid',\n",
       " 'covidiots call people still believe virus deadly regular flu virus oh wait covid coronavirus cold flu symptoms thanks research stanford',\n",
       " 'via nytimes global review free read trump holds oklahoma rally today despite jump cases worry like flu covid may resurge fall',\n",
       " 'present coronavirus pandemic five times deadlier swine flu outbreak occurred years pune punenews coronavirus covid swineflu sakal sakalnews',\n",
       " 'second wave coronavirus way bbcworld report indicates second wave covid way second phase spanish flu deadlier first second coronavirus wave inevitable bad could source bbcworld',\n",
       " 'roninbendigo ajayquirke tminear theheraldsun reason covid taken many lives australia though ron sure actually know taken drastic measures limit transmission respiratory illnesses amp incidentally absolutely crushing year flu season',\n",
       " 'go racist refer covid disease killed k america name incites hate days campaign used symbol associated w nazis unprecedented potus divide gaslight way',\n",
       " 'rmmommabear thisbitchhere gabefeycat gryphonwatcher yes people fail realize difference covid flu one thing get pneumonia flu secondary infection whereas covid attacks lungs causing primary pneumonia also far kidneys',\n",
       " 'want really think means americans died coronavirus months anyone still think big deal call flu people numbers permanent organ damage far higher covid',\n",
       " 'keep seeing people trying say coronavirus lethal flu k dead us months brand new virus lockdowns stupid enough see crap covid',\n",
       " 'fireeatn bjhnsn holowcut triumphicdhq would died flu',\n",
       " 'today covid update global cases deaths eu eea uk cases deaths find info latest rapidriskassessment sarscov',\n",
       " 'effects twexit important today coronavirus flu say others see death covid amp squirm drug amp vaccine lacking covid pandemic threat humanity relax lockdown segregate',\n",
       " 'combating misinformation coronavirus worse flu covid flu please click link',\n",
       " 'today covid update global cases deaths eu eea uk cases deaths find info latest rapidriskassessment sarscov',\n",
       " 'nehalmangrio mraffaev sherryrehman saleem dr know normal flu govt get return declaring someone covid positive',\n",
       " 'realdonaldtrump lie say covid virus names nope coronavirus covid never heard name called flu deadly spreads faster hope get may thing conveniences',\n",
       " 'five months since first covid case confirmed united states average flu season u lasts five months wanted know coronavirus compare flu really worse found',\n",
       " 'still saying flu worse sorry wrong mortality higher covid every age category chd achd',\n",
       " 'open smartnews read coronavirus death rate us almost times higher flu see compare age bracket coronavirus covid pandemic',\n",
       " 'two questions matter covid coronavirus total positive tests irrelevant point tens millions americans likely get spreads quickly flu cold impossible stop reasonable approach',\n",
       " 'realdonaldtrump team gone damage control two words us leader used describe coronavirus',\n",
       " 'thailand world first coronavirus case outside china avoided disaster time ditch tradition handshake note ordinary flu numbers also dropped dramatically covid auspol lnpfail',\n",
       " 'coronavirus death rate us almost times higher flu see compare age bracket terrifying please wear facemask smartnews coronavirus covid facemasks flu',\n",
       " 'think living black death clearly people compare virus spanish flu figures even close epidemic coronavirus spanishflu covid worldsgonemad reality outbreak perspective',\n",
       " 'guatemala hundreds people dying gt covid people disrespect suffering deny science call simple flu go party insult doctors amp demonstrate streets saying political conspiracy aberrant ignorance coronavirus',\n",
       " 'thehill matter time go back lockdown realdonaldtrump whitehouse please wait flu season coronavirus covid mixed w everything flu like cause total lockdown everything amp everyone months well feb march',\n",
       " 'still confused difference flu covid case death rate flu death rate test positive coronavirus death rate graph shows death rates age group',\n",
       " 'oxford covid vaccine track october release ahead flu season good results watch eu claim found covid vaccine',\n",
       " 'coronainfoch covid covid us death rate corona',\n",
       " 'early coronavirus infection rate us may times initially thought finds study read find covid coronaviruspandemic flu',\n",
       " 'darkvader pluna breaking dcgrandma calicoco flu influenza scientific name orthomyxoviridae coronavirus different altogether one causes sars cold troll covidiots covid',\n",
       " 'johnjharwood cillizzacnn john cases matter hospitalizations nobody sits around frets catching flu newsworthy sends hospital grave covid coronavirus',\n",
       " 'presssec kayleighmcenany says trump racist call covid kungflu presssec also racist via mailonline',\n",
       " 'ruby princess inquiry hears passenger diagnosed flu days died coronavirus',\n",
       " 'ruby princess passenger diagnosed flu days coronavirus death inquiry hears absolute cluster princess amp dutton auspol covid aus rubyprincess',\n",
       " 'ruby princess passenger diagnosed flu days coronavirus death inquiry hears',\n",
       " 'axios today marks days since last mlb nba nfl nhl game longest drought since fall world series held september amid wwi spanish flu coronavirus covid nosports',\n",
       " 'covid cases rising million week wordwide approaching trajectory flu pandemic worrisome cdnpoli',\n",
       " 'symptoms experienced allergy sufferers similar covid osuwexmed allergist kara wada highlights differences two prevent',\n",
       " 'one worrying stories yet coronavirus know possible long term effects spare thought populist leaders called covid little flu',\n",
       " 'ruby princess passenger diagnosed flu days coronavirus death inquiry hears',\n",
       " 'doubt given flare ups korea china amp germany moment amp weeks ahead us come autumn winter things flare decide flu covid via',\n",
       " 'sick daughter screened covid test easy two second swab amp done words yo toddler could like flu swab fear test need covidtesting coronavirus',\n",
       " 'covid cases harris county continued rise recent weeks things know coronavirus symptoms symptoms coronavirus similar flu bad cold symptoms include fever',\n",
       " 'exponential growth hard humans understand flu kills thousands lok types data visualisation helps comprehension fails covid coronavirus',\n",
       " 'california continues lift restrictions amid covid dr gary green shares thoughts family gatherings difference coronavirus amp flu amp help keep family safe summer northbaynews story',\n",
       " 'julie merlot greenfield stefunny people infected sars cov fatal outcome recover fatality rate flu typically mortality rate covid times higher higher case need help math',\n",
       " 'looking global picture like flu would ordinarily expect places children intense epidemics rozeggo discusses susceptibility children covid npr',\n",
       " 'brazil reported thousand deaths one million cases president jair bolsonaro called coronavirus little flu clashed state local authorities stay home measures business closures covid',\n",
       " 'rebelfd mackayim serious statement combining mortality rate communicability kills less flu cdc estimated people died flu last months us see anyone calling lethal',\n",
       " 'keep mind see scare stories coronavirus cdc estimates flu killed least people season ask think hearing anything outbreak taking place western europe',\n",
       " 'dococtplays flu like virus jumped animals humans began central city wuhan spread far us pretty sure saw reportedly came started seafood market',\n",
       " 'mrsdriscoll concentration camps force injected medical procedure flu eat healthy get exercise fine coronavirus scam make pharmaceuticals money cdc already vaccine',\n",
       " 'jus let corona virus shit go yall wash hands regularly avoid contact hands eyes inside nose mouth simple likely gonna fall map months anyway like ebola bird flu rabies epidemic',\n",
       " 'wuhan virus corona virus sars virus ebola virus us cdc patents agenda trending spanish flu killed million black plague killed million love island eastenders etc china shut new year',\n",
       " 'great mvankerkhove ihr stresses imported cases secondary cases means wuhan ncov coronavirus spreading like one would see flu common cold course sars',\n",
       " 'benhockey msnbc realdonaldtrump falling scare mongering try comparing china epidemic flu',\n",
       " 'hks seem lethal reminds alot swine flu epidemic',\n",
       " 'note numbers seasonal flu ncov believe',\n",
       " 'reutersbiz yeah profit far outweighs possible death control epidemic new strains deadly flu virus',\n",
       " 'rogue ala right media loves scaring folks remember sars actually low fatality rate compared regular flu new flu covered like epidemic',\n",
       " 'milenarodban considering cdc estimates average people die annually common influenza wuhan least worries',\n",
       " 'mean cold thousands die flu year amp everyone gets bent shape another virus appears small number die coronavirus opposed infected flu',\n",
       " 'somehow wuhancoronavirus reminded k movie named flu',\n",
       " 'juliemason cdc says people died regular flu forget coronavirus',\n",
       " 'nicegoingadam msnbc like example right called flu way deadly',\n",
       " 'os breitbartnews bull shit creating problem minor flu bug hysteria makes good money pharmaceuticals another vaccine may cause worse illness cdc vaccine already hmmmm',\n",
       " 'transcript telecall press briefing yesterday coronovirus ncov remember flu season period deadly enough use good hand respiratory measures',\n",
       " 'think may already hit uk latest flu virus lasting long making many people ill plus symptoms including respiratory issues ill flu',\n",
       " 'flutrackers global ncov case list calculate cases china amp deaths incl reported hong kong case list continuously updated best keep evolving situation h team flutrackers',\n",
       " 'whitehouse everyone please careful flu season bring new flu virus cdc called new virus gop stay away much',\n",
       " 'motomom get whipped frenzy think clearly people die flu time cdc attaches numbers latest outbreak give name maybe real thing happens every years sars h n hysterical people easily controlled',\n",
       " 'msnbc cdc estimates least flu deaths far season seems like trying scare bunch people basically nothing sure anything china bad',\n",
       " 'love opens usually quite effective story hear flu shot every single year',\n",
       " 'jimmie luke iza hotepjesus go ahead get flu vaccine get sick immediately blame something else blind see obviously corrupt malevolent cdc vaccine industry yes effective cost cost necessary',\n",
       " 'ncov coronavirus scary let put things perspective caused thus far gt cases amp deaths influenza season alone us million cases deaths u get flushot worried ncov coronavirus wef',\n",
       " 'everyone mild freak coronavirus worth pointing cdc says people died flu far year million million people infected flu virus',\n",
       " 'get hysterical wuhan virus quick reminder perspective flu related deaths us topped cdc says',\n",
       " 'goldfin liyuan nytimes influenza flu killing wuhancoronavirus new always mean lethal cautious yes overly pessimistic sad see media outlets using natural human crisis political end',\n",
       " 'put context around one every develop flu die giving death rate ncov death rate could similar spanish flu professor neil ferguson imperial college london said',\n",
       " 'acosta evening cases ncov wuhan may symptomatic cases patients died underlying conditions keep eye ball year flu season',\n",
       " 'first confirmed case wuhan coronavirus u washington state resident recently traveled wuhan china disease many symptoms flu also widely prevalent time year',\n",
       " 'first confirmed case wuhan coronavirus u washington state resident recently traveled wuhan china disease many symptoms flu also widely prevalent time year',\n",
       " 'china coronavirus death rate spanish flu pandemic killed people ncov death rate around similar spanish flu professor neil ferguson imperial college london said',\n",
       " 'wuhan flu pretty scary particularly cny round corner mass migration nowhere really safe wuhancoronavirus',\n",
       " 'cdcgov cdcemergency cdc ehealth cdcflu europe unitednationsgh un enable coronavirus spreading mutating adapting countries across continents international health emergency international quarantine protocols needs declared pandemic',\n",
       " 'wuhan coronavirus respiratory illness many symptoms flu also widely prevalent time year learn information disease including stay protected blog',\n",
       " 'new flu like coronavirus epidemic spreading worldwide man washington state seems first us case',\n",
       " 'flu viruses jumping pandemics epidemiologic shifts virus mutations vaccinology showcased world wakes ncov relative sars merscov number ncov cases gt deaths case confirmed',\n",
       " 'rebelfd mackayim ones died already serious illness estimated amount last week mortality rate pct understand statistics infection many mild cases get reported cdc estimates flu deaths also based statistical sampling',\n",
       " 'easy detect count cases since annual flu epidemic symptoms similar hand wuhan council health website publishing live numbers affected people seems unthinkable europe',\n",
       " 'subjective flu like symptoms common presentation suspect ncov days symptom onset patient history travel wuhan city china close contact person investigation ncov person ill',\n",
       " 'yow scare novel coronavirus ncov plus dinagyang fast approaching u imagine influx tourists want cause panic pls practice frequent handwashing proper cough etiquette']"
      ]
     },
     "execution_count": 29,
     "metadata": {},
     "output_type": "execute_result"
    }
   ],
   "source": [
    "preprocessed_tweets"
   ]
  },
  {
   "cell_type": "markdown",
   "metadata": {},
   "source": [
    "# Feature extraction-BOW:"
   ]
  },
  {
   "cell_type": "code",
   "execution_count": 30,
   "metadata": {},
   "outputs": [],
   "source": [
    "from sklearn.feature_extraction.text import CountVectorizer\n",
    "# create the transform\n",
    "vectorizer = CountVectorizer()\n",
    "# tokenize and build vocab\n",
    "vectorizer.fit(preprocessed_tweets)\n",
    "# summarize\n",
    "# encode document\n",
    "vector = vectorizer.transform(preprocessed_tweets)\n",
    "feature_names=vectorizer.get_feature_names()\n",
    "# summarize encoded vector\n",
    "f1=vector.toarray()"
   ]
  },
  {
   "cell_type": "code",
   "execution_count": 31,
   "metadata": {},
   "outputs": [
    {
     "data": {
      "text/plain": [
       "(418, 2753)"
      ]
     },
     "execution_count": 31,
     "metadata": {},
     "output_type": "execute_result"
    }
   ],
   "source": [
    "f1.shape"
   ]
  },
  {
   "cell_type": "markdown",
   "metadata": {},
   "source": [
    "# tfidvectorizer"
   ]
  },
  {
   "cell_type": "code",
   "execution_count": 40,
   "metadata": {},
   "outputs": [
    {
     "name": "stdout",
     "output_type": "stream",
     "text": [
      "['aaronblake', 'aarp', 'aberrant', 'able', 'absolute', 'absolutely', 'academy', 'acceleratesc', 'accepted', 'accepting', 'accidents', 'according', 'account', 'accountable', 'accurate', 'achd', 'acosta', 'across', 'act', 'active', 'actual', 'actually', 'actuarial', 'ad', 'adams', 'adapting', 'added', 'addiction', 'addition', 'adherent', 'admin', 'admitting', 'adult', 'afa', 'affected', 'affecting', 'afraid', 'africa', 'age', 'agencies', 'agenda', 'agendas', 'ages', 'aggressively', 'ago', 'agree', 'agrees', 'ahead', 'aid', 'aids', 'ailments', 'air', 'ajayquirke', 'aka', 'ala', 'alarming', 'alert', 'alertlevel', 'alford', 'aljazeera', 'allahuakbar', 'alleged', 'allergist', 'allergy', 'allowed', 'allowing', 'almost', 'alone', 'along', 'alongside', 'alot', 'already', 'also', 'altogether', 'always', 'alzheimer', 'amazingly', 'america', 'american', 'americans', 'amid', 'among', 'amount', 'amp', 'amphitheaters', 'amykosari', 'anchors', 'ands', 'angel', 'angela', 'animals', 'anneconnollyabc', 'annual', 'annually', 'another', 'answer', 'anthony', 'anthonymace', 'antibodies', 'antibody', 'antimicrobial', 'antivirus', 'anymore', 'anyone', 'anything', 'anyway', 'anywhere', 'ap', 'apparently', 'appear', 'appeared', 'appears', 'apples', 'applies', 'approach', 'approaching', 'appropriately', 'approved', 'april', 'ards', 'arent', 'argument', 'arizona', 'arkansas', 'arockalyps', 'around', 'arrest', 'arrived', 'article', 'articles', 'asian', 'asianamericans', 'ask', 'asked', 'asking', 'aslavitt', 'asshat', 'asshoe', 'associated', 'association', 'asthma', 'attaches', 'attack', 'attacks', 'attempt', 'attempted', 'attorney', 'atumpkins', 'aubrey', 'august', 'aus', 'auspol', 'australia', 'authorities', 'autumn', 'available', 'average', 'avoid', 'avoided', 'awareness', 'away', 'awful', 'axe', 'axios', 'az', 'back', 'bad', 'baffles', 'bags', 'ball', 'barely', 'bars', 'base', 'based', 'basedonscience', 'basically', 'bathroom', 'bbc', 'bbcnews', 'bbcradio', 'bbcworld', 'bbq', 'bc', 'bcaresearch', 'bcuz', 'beat', 'become', 'bed', 'beds', 'beercan', 'began', 'begin', 'beginning', 'begins', 'behave', 'behavior', 'behind', 'believe', 'bencjacobs', 'benhockey', 'benshapiro', 'bent', 'benyt', 'beprepared', 'beready', 'bergeonline', 'best', 'bestson', 'better', 'beverle', 'beware', 'biden', 'big', 'bigger', 'biggest', 'bigot', 'bile', 'bill', 'billgates', 'billgatesvirus', 'billion', 'bio', 'biological', 'biorender', 'bird', 'birgitc', 'birx', 'bit', 'bjhnsn', 'black', 'blacklivesmatter', 'blah', 'blame', 'blamed', 'bleach', 'blind', 'bliss', 'blm', 'blmindc', 'blog', 'blow', 'bluetx', 'bluewave', 'body', 'bolsonaro', 'bonus', 'books', 'boom', 'bopinion', 'border', 'borisjohnson', 'borisjohnsonmustgo', 'boss', 'bracket', 'branch', 'brand', 'brandon', 'brazil', 'breaking', 'breakingnews', 'breaks', 'breath', 'breathe', 'breathtaking', 'breitbartnews', 'brian', 'bridge', 'briefing', 'bring', 'brinkerhoff', 'brithume', 'bro', 'broadway', 'brought', 'bruette', 'brutal', 'bs', 'bts', 'bug', 'building', 'bull', 'bullshit', 'bunch', 'bunkerboytrump', 'burghgirl', 'business', 'businesses', 'businessinsider', 'bytstrateginu', 'ca', 'caffeinatedinaz', 'caitlanmbutler', 'cakizil', 'calamity', 'calculate', 'calicoco', 'california', 'call', 'called', 'calling', 'calls', 'came', 'campaign', 'camps', 'campus', 'canada', 'cancel', 'cancer', 'candidate', 'cannot', 'cant', 'canukcookie', 'cappy', 'capsvirus', 'cardiac', 'care', 'careful', 'caregivers', 'cares', 'caring', 'carolina', 'carrying', 'case', 'cases', 'cat', 'catastrophe', 'catch', 'catching', 'category', 'catturd', 'cause', 'caused', 'causes', 'causing', 'cautious', 'cbs', 'ccp', 'ccpvirus', 'cdc', 'cdcdirector', 'cdcemergency', 'cdcflu', 'cdcgov', 'cdnpoli', 'celebrities', 'cell', 'censorship', 'central', 'century', 'cepa', 'cernovich', 'cert', 'certain', 'certainly', 'certificate', 'chance', 'chances', 'change', 'changed', 'changes', 'charge', 'charlene', 'chart', 'chd', 'check', 'cherteapet', 'child', 'children', 'china', 'chinavirus', 'chinese', 'chinesecoronavirus', 'chineseproductsindustbin', 'chinesevirus', 'chriscuomo', 'chrisg', 'chuckcallesto', 'cillizzacnn', 'cinemas', 'circulate', 'cited', 'cities', 'citizens', 'city', 'cjtruth', 'claim', 'claimed', 'claims', 'clashed', 'clean', 'cleaner', 'cleaners', 'clear', 'clearly', 'cletusabibbit', 'click', 'clinicians', 'clorox', 'close', 'closed', 'closely', 'closest', 'closures', 'clown', 'clues', 'cluster', 'clusters', 'cnbc', 'cnn', 'cny', 'co', 'coded', 'coincides', 'cold', 'colds', 'collapse', 'collect', 'college', 'colleges', 'column', 'com', 'combating', 'combining', 'come', 'comes', 'comical', 'common', 'communicability', 'community', 'communitypharmacy', 'comparative', 'comparatively', 'compare', 'compared', 'comparing', 'comparison', 'compatible', 'completely', 'complex', 'compliance', 'complicating', 'comprehension', 'compromise', 'concentration', 'concerns', 'concurrent', 'conditions', 'conference', 'confirm', 'confirmed', 'confirms', 'confounding', 'confused', 'congress', 'congressmangt', 'conned', 'connotations', 'consequences', 'consider', 'considering', 'conspiracy', 'contact', 'contagious', 'contained', 'contaminated', 'context', 'continents', 'continue', 'continued', 'continues', 'continuously', 'contract', 'control', 'controlled', 'conveniences', 'copvid', 'corinne', 'corner', 'corners', 'corona', 'coronahoax', 'coronainfoch', 'coronainpakistan', 'coronakrise', 'coronapalooza', 'coronapandemic', 'coronasverige', 'coronavirus', 'coronaviruscrisis', 'coronaviruses', 'coronavirushoax', 'coronavirusoutbreak', 'coronaviruspandemic', 'coronavirusuk', 'coronavirusupdate', 'coronavirusupdates', 'coronawarriors', 'coronovirus', 'coronsvirus', 'coronviruses', 'corporates', 'correct', 'correlation', 'corrosion', 'corrupt', 'corruptlicans', 'cos', 'cost', 'costs', 'cough', 'coughs', 'could', 'council', 'count', 'counted', 'counting', 'countless', 'countries', 'country', 'counts', 'county', 'couple', 'course', 'cov', 'cover', 'covered', 'covid', 'covidiots', 'covidtesting', 'cozy', 'crams', 'crap', 'crazy', 'crazycrnbllbrd', 'creada', 'create', 'created', 'creating', 'crimes', 'criminal', 'crisis', 'critical', 'crock', 'crubiomartinezu', 'crushing', 'ctvnews', 'cuerpo', 'cult', 'cuomo', 'cura', 'curas', 'cure', 'cured', 'current', 'cv', 'cvdeathwatch', 'cytokine', 'daddy', 'daily', 'dailykos', 'dallas', 'damage', 'damaging', 'damned', 'dan', 'danforestnc', 'danger', 'dangerous', 'darkvader', 'darthmo', 'data', 'daughter', 'davey', 'davidpittelli', 'day', 'days', 'dcgrandma', 'dead', 'deadlier', 'deadly', 'deal', 'deanna', 'death', 'deaths', 'debbsthe', 'dec', 'decade', 'decades', 'decease', 'deceit', 'december', 'decide', 'declared', 'declaring', 'decline', 'deeper', 'deepstate', 'defeated', 'defends', 'definetly', 'definition', 'defundcdc', 'degree', 'del', 'deliberate', 'deliberately', 'demand', 'demands', 'demetrialesterc', 'democrat', 'democrats', 'demonstrate', 'dems', 'denial', 'deny', 'depressed', 'derekjames', 'desantis', 'desantisbetrayedflorida', 'describe', 'describes', 'design', 'despite', 'destroy', 'detail', 'detect', 'detected', 'devastation', 'develop', 'developed', 'developing', 'development', 'diagnose', 'diagnosed', 'diagnosis', 'diahorrea', 'dianne', 'diaper', 'die', 'died', 'difference', 'differences', 'different', 'differentiate', 'differently', 'difficult', 'digivorr', 'dikell', 'dildon', 'dinagyang', 'diplomacy', 'dire', 'disappear', 'disappeared', 'disaster', 'disastrous', 'discovering', 'discuss', 'discusses', 'disease', 'diseases', 'dish', 'dishonest', 'disinfectant', 'dismissing', 'disneyfamjam', 'dispel', 'disrespect', 'distance', 'distancing', 'distinction', 'distinguish', 'distrustful', 'ditch', 'divide', 'dococtplays', 'doctor', 'doctors', 'dog', 'donald', 'donaldtrump', 'donateplasmasavelives', 'done', 'donnnie', 'donoharm', 'donotopencalifornia', 'dopes', 'dorseyisajoke', 'dose', 'double', 'doubt', 'downer', 'downgraded', 'download', 'downward', 'dr', 'dramatic', 'dramatically', 'drastic', 'drawandstrike', 'drchrisparry', 'drdeborahmd', 'drericding', 'dressing', 'drift', 'drink', 'drinkbleach', 'drinking', 'drop', 'dropped', 'drought', 'drsanjaygupta', 'drtedros', 'drudge', 'drug', 'drugs', 'due', 'duh', 'dukegonzo', 'dumb', 'dumptrump', 'dutton', 'dying', 'early', 'ease', 'easily', 'eastenders', 'easter', 'easy', 'eat', 'eavesdropann', 'ebola', 'ecologist', 'economic', 'economies', 'economy', 'eddy', 'eea', 'effect', 'effective', 'effectiveness', 'effects', 'efficacy', 'ehealth', 'either', 'el', 'elderly', 'eldorado', 'elements', 'elimina', 'elitists', 'elonmusk', 'elpolitics', 'else', 'embarrassing', 'emergency', 'emilula', 'employee', 'employees', 'enable', 'enact', 'end', 'enduklockdown', 'enfermedad', 'england', 'enjoy', 'enough', 'entangled', 'entered', 'entire', 'epicfail', 'epidemic', 'epidemics', 'epidemiologic', 'epidemiologists', 'episode', 'epitwitter', 'equal', 'equate', 'equivalent', 'es', 'esp', 'especially', 'essential', 'est', 'estimated', 'estimates', 'etc', 'ethicalskeptic', 'etiquette', 'eu', 'europe', 'european', 'even', 'evening', 'event', 'events', 'ever', 'every', 'everybody', 'everyday', 'everyone', 'everything', 'evidence', 'evidently', 'evil', 'evolving', 'exacerbate', 'exaggeration', 'example', 'exceeds', 'excess', 'exec', 'exercise', 'existen', 'existing', 'exists', 'expect', 'expected', 'expecting', 'experienced', 'expert', 'experts', 'explain', 'exponential', 'exposebillgates', 'exposed', 'extendlockdown', 'extensive', 'extinction', 'extreme', 'eye', 'eyes', 'fabi', 'fabiflu', 'fabifluavailability', 'fabric', 'face', 'facebook', 'faced', 'facemask', 'facemasks', 'fact', 'factor', 'facts', 'fade', 'fail', 'failed', 'fails', 'failure', 'failures', 'fake', 'fakenews', 'fall', 'fallacies', 'fallen', 'falling', 'falls', 'false', 'family', 'far', 'farce', 'farhatullahb', 'fascism', 'fast', 'faster', 'fatal', 'fatalities', 'fatality', 'fathers', 'fauci', 'faucifraud', 'favipariwar', 'favipiravir', 'fear', 'fearcontrol', 'feat', 'feb', 'february', 'feet', 'fellow', 'felt', 'ferguson', 'fever', 'fhm', 'fiasco', 'fight', 'fighting', 'figures', 'filled', 'filter', 'final', 'finally', 'finance', 'find', 'finds', 'fine', 'fingers', 'finish', 'fionamflanagan', 'fire', 'firebirx', 'fired', 'fireeatn', 'firefauci', 'first', 'fishstix', 'five', 'fixed', 'fl', 'flare', 'flattenthefear', 'flawed', 'flippindbird', 'flu', 'fluctuate', 'flus', 'fluseason', 'flushot', 'flutrackers', 'fluzone', 'folks', 'follow', 'following', 'fooled', 'fools', 'football', 'footprint', 'force', 'forced', 'forcing', 'forever', 'forget', 'form', 'forum', 'forward', 'found', 'foundation', 'four', 'fourth', 'fox', 'foxnews', 'frankly', 'fraternity', 'fraud', 'fraudlent', 'freak', 'free', 'freedom', 'frenzy', 'frequent', 'frets', 'friends', 'fucking', 'fucks', 'full', 'fully', 'functioning', 'futureofwork', 'fyi', 'gabefeycat', 'galveston', 'game', 'garbage', 'gary', 'gaslight', 'gate', 'gates', 'gatewaypundit', 'gatherings', 'gavi', 'gavinnewsom', 'generally', 'georgefloydhoax', 'georgetakei', 'geraldo', 'germany', 'germs', 'get', 'gets', 'getting', 'gf', 'ging', 'giroir', 'give', 'given', 'giving', 'glenmark', 'global', 'globalization', 'globally', 'gnarled', 'go', 'god', 'godfamilyjesus', 'going', 'goldfin', 'golfweek', 'gone', 'gonna', 'good', 'gop', 'gopgenocide', 'gopoversight', 'got', 'gov', 'govabbott', 'govcoumo', 'government', 'governmental', 'governments', 'governor', 'governors', 'govmikedewine', 'govt', 'gpoopon', 'graemefrisque', 'grandfathers', 'grandma', 'grandmother', 'grants', 'graph', 'grave', 'great', 'green', 'greenfield', 'greenmedinfo', 'gregmannarino', 'grim', 'gripe', 'group', 'growing', 'growsomeovaries', 'growth', 'gryphonwatcher', 'gt', 'gtfo', 'guard', 'guardian', 'guatemala', 'guess', 'guidelines', 'guilty', 'guineapig', 'gullible', 'guonglu', 'guy', 'guykawasaki', 'guys', 'habits', 'hagan', 'hahn', 'hairs', 'half', 'halted', 'hand', 'handle', 'handled', 'handling', 'hands', 'handshake', 'handwashing', 'happen', 'happening', 'happens', 'hard', 'hardly', 'harmful', 'harris', 'harsh', 'hasta', 'hate', 'hawkeyeknows', 'hay', 'haze', 'hazmat', 'hcq', 'headed', 'headquarters', 'health', 'healthreport', 'healthy', 'healthza', 'hear', 'heard', 'hearing', 'hears', 'heart', 'heartdisease', 'heat', 'hecht', 'held', 'hellqvist', 'help', 'helps', 'herd', 'herdimmunity', 'herpes', 'hey', 'hhs', 'hidden', 'high', 'higher', 'highlights', 'hippie', 'history', 'hit', 'hits', 'hiv', 'hks', 'hmmm', 'hmmmm', 'hoax', 'hold', 'holding', 'holds', 'holowcut', 'home', 'homeless', 'homes', 'homicide', 'honest', 'hong', 'hope', 'horowitz', 'hospice', 'hospital', 'hospitalization', 'hospitalizations', 'hospitals', 'hostage', 'hotepjesus', 'hotpep', 'hours', 'houston', 'hrs', 'ht', 'huff', 'huffpost', 'huge', 'hugozheng', 'huh', 'human', 'humanity', 'humans', 'hundreds', 'hydroxychlorquine', 'hydroxycloroquine', 'hygiene', 'hype', 'hyper', 'hysteria', 'hysterical', 'id', 'idea', 'idiots', 'ignoramus', 'ignorance', 'ignorant', 'ignorantego', 'ignore', 'ignored', 'ihr', 'ill', 'illness', 'illnesses', 'im', 'images', 'imagine', 'imbecile', 'immediately', 'immune', 'immunities', 'immunity', 'impact', 'imperial', 'implying', 'importance', 'important', 'imported', 'impossible', 'inbound', 'incidentally', 'incites', 'incl', 'include', 'includes', 'including', 'increase', 'increases', 'increasing', 'indeed', 'india', 'indicated', 'indicates', 'indicator', 'indifference', 'indivisible', 'indoors', 'industry', 'ineffective', 'inept', 'inevitable', 'inevitably', 'infect', 'infected', 'infection', 'infections', 'infectious', 'inflated', 'inflatednumbers', 'influenced', 'influenza', 'influenze', 'influx', 'info', 'inform', 'information', 'ing', 'ingrahamangle', 'initially', 'injected', 'innovation', 'inquiry', 'inside', 'insists', 'instead', 'insult', 'intelligent', 'intense', 'interest', 'interesting', 'interests', 'international', 'intervention', 'introduce', 'introducing', 'invasive', 'investigation', 'investing', 'involved', 'iranian', 'irrelevant', 'irresponsibly', 'ish', 'island', 'isolated', 'issues', 'italy', 'ive', 'iza', 'jab', 'jair', 'jairbolsonaro', 'jan', 'janitorial', 'january', 'japan', 'japanese', 'jay', 'jeanette', 'jeffmason', 'jeremyswallace', 'jeremyvineon', 'jfrketich', 'jim', 'jimcramer', 'jimmie', 'jimrobe', 'joebiden', 'john', 'johnjharwood', 'johnnypenso', 'johnrobertsfox', 'johnshopkins', 'joined', 'joke', 'jokes', 'jones', 'jory', 'journal', 'judgejeanine', 'juliansrum', 'julie', 'juliemason', 'july', 'jump', 'jumped', 'jumping', 'june', 'junkies', 'jus', 'justinthomas', 'jvm', 'kag', 'kamalaharris', 'kara', 'karlfly', 'kayleighmcenany', 'kbeaver', 'keep', 'kent', 'kenya', 'kevinnbass', 'kidney', 'kidneys', 'kids', 'kill', 'killed', 'killer', 'killing', 'kills', 'kimberlyritter', 'kindrobot', 'kinds', 'kinsellawarren', 'kissing', 'klan', 'klfy', 'klux', 'know', 'known', 'knows', 'kong', 'kool', 'korea', 'kungflu', 'kungflufighting', 'kungfluvirus', 'kurtimushamhall', 'kyumbi', 'la', 'lab', 'labelled', 'labels', 'lacking', 'lademocratietue', 'lady', 'ladyoftheocean', 'land', 'largest', 'last', 'lasting', 'lastly', 'lasts', 'late', 'later', 'latest', 'latimes', 'law', 'lawrencehughes', 'lawsuit', 'lawsuits', 'lawyer', 'laylow', 'leader', 'leaders', 'leadership', 'leading', 'leadt', 'learn', 'least', 'legit', 'lemons', 'leonard', 'lesarobertson', 'less', 'lessons', 'let', 'lethal', 'letmelooktv', 'level', 'levels', 'liberal', 'licensure', 'lie', 'lied', 'lies', 'life', 'lift', 'lifted', 'like', 'likely', 'limaab', 'limit', 'linda', 'line', 'lines', 'lingering', 'link', 'linked', 'list', 'listening', 'literally', 'little', 'live', 'lives', 'living', 'liyuan', 'llc', 'lnpfail', 'local', 'locher', 'lockdown', 'lockdowns', 'lok', 'london', 'long', 'longer', 'longest', 'look', 'looking', 'looks', 'looser', 'lord', 'los', 'loss', 'lost', 'lot', 'lou', 'love', 'loves', 'low', 'lower', 'lt', 'luke', 'lukeedwards', 'lumidek', 'lund', 'lung', 'lungs', 'lying', 'lyme', 'lysol', 'mac', 'macfullermac', 'mackayim', 'maddow', 'made', 'maga', 'magadebwwg', 'magamuscleman', 'mags', 'mailonline', 'majority', 'make', 'makes', 'making', 'malaria', 'malevolent', 'man', 'manage', 'management', 'manipulation', 'manufacturing', 'many', 'map', 'mar', 'march', 'marcuschown', 'markandrewdarc', 'market', 'markets', 'marketwatch', 'marks', 'marshall', 'martial', 'martianveronica', 'martin', 'maryamhenein', 'mask', 'maskitorcasket', 'maskitup', 'maskoff', 'maskon', 'masks', 'maskup', 'mass', 'massimassian', 'master', 'math', 'matter', 'maximilian', 'maximizing', 'may', 'maybe', 'mayors', 'mcenany', 'mckavitys', 'mckinley', 'mean', 'meaningful', 'means', 'meant', 'measure', 'measures', 'media', 'medialens', 'medical', 'medications', 'medicine', 'melb', 'meme', 'memory', 'mentality', 'merlot', 'merry', 'mers', 'merscov', 'methods', 'metre', 'microbial', 'might', 'migration', 'mike', 'mikeada', 'mikeneil', 'mild', 'milenarodban', 'military', 'mill', 'million', 'millions', 'mind', 'mindful', 'minimize', 'minimum', 'minofhealthug', 'minor', 'minutes', 'miracleonice', 'miraculous', 'miraculously', 'misclassified', 'misinformation', 'mismanagement', 'misterd', 'mixed', 'mlb', 'mlevitt', 'models', 'modern', 'moderncortes', 'moh', 'moment', 'monday', 'money', 'mongering', 'mongo', 'monkey', 'monozetta', 'month', 'months', 'morbidity', 'morningjoe', 'moron', 'mortality', 'mothers', 'motivated', 'motomom', 'mouth', 'moved', 'moveon', 'movie', 'moving', 'mpolletta', 'mpsmithnews', 'mraffaev', 'mrsa', 'mrsdriscoll', 'msm', 'msnbc', 'mtnboyinmidw', 'much', 'murder', 'murders', 'must', 'mutates', 'mutating', 'mutation', 'mutations', 'mvankerkhove', 'mysterious', 'mzman', 'nabijans', 'name', 'named', 'names', 'nancy', 'narrative', 'nataliexdean', 'nation', 'national', 'nationwide', 'natural', 'nauseam', 'nazis', 'nba', 'nbc', 'nc', 'ncgop', 'ncov', 'ncpa', 'ncpol', 'nd', 'ndd', 'near', 'nearby', 'nearly', 'necessary', 'need', 'needed', 'needs', 'neeratanden', 'negative', 'negligence', 'nehalmangrio', 'neighbour', 'neil', 'neiltyson', 'nepal', 'nepali', 'netz', 'neurologic', 'never', 'new', 'newnormal', 'news', 'newsworthy', 'newyork', 'newyorkfraud', 'next', 'nfl', 'nhl', 'nhs', 'nicegoingadam', 'niceprinter', 'nicknames', 'niemannpickoz', 'night', 'nih', 'nobody', 'none', 'nonsense', 'nope', 'normal', 'normally', 'north', 'northbaynews', 'norvernmunkee', 'nose', 'nosports', 'notary', 'note', 'nothing', 'noticeably', 'noting', 'notion', 'notmattrellen', 'nottheflu', 'nov', 'novel', 'november', 'novemberiscoming', 'nowhere', 'np', 'npcaustralia', 'npr', 'nuked', 'number', 'numbers', 'nursing', 'nyc', 'nycbumpkin', 'nye', 'nygovcuomo', 'nypostsports', 'nyt', 'nytimes', 'obama', 'obamagate', 'observe', 'observing', 'obvious', 'obviously', 'occur', 'occurred', 'ochieng', 'oct', 'october', 'ofcourse', 'offended', 'offer', 'office', 'officialkat', 'often', 'oh', 'okay', 'oklahoma', 'oklahomans', 'old', 'omrf', 'one', 'ones', 'onset', 'onto', 'open', 'openamericanow', 'opens', 'opinion', 'opioid', 'opioidcrisis', 'opportunistic', 'opportunity', 'opposed', 'opticcityoiler', 'oranges', 'order', 'orders', 'ordinarily', 'ordinary', 'org', 'organ', 'organization', 'organize', 'origin', 'orthomyxoviridae', 'os', 'osterholm', 'osuwexmed', 'others', 'otherwise', 'outbreak', 'outbreaks', 'outcome', 'outlets', 'outrage', 'outside', 'outweighs', 'overall', 'overblown', 'overdoses', 'overly', 'oxford', 'oxfordmedsci', 'oxygen', 'pac', 'pace', 'padron', 'page', 'pain', 'paine', 'pakistan', 'pandemic', 'pandemics', 'panic', 'panicdemic', 'para', 'parallel', 'pardesseleh', 'parents', 'part', 'particularly', 'parties', 'partisan', 'party', 'pass', 'passenger', 'past', 'patents', 'patient', 'patients', 'patrickmcdona', 'patriot', 'patriots', 'pattern', 'paulnuki', 'pcr', 'pct', 'pdf', 'peddling', 'pee', 'peeps', 'pentagon', 'people', 'per', 'percentage', 'perfect', 'period', 'permanent', 'person', 'perspective', 'perverts', 'pessimistic', 'pete', 'petersharpley', 'petri', 'ph', 'pharmaceuticals', 'pharmas', 'phase', 'phoenix', 'pibindia', 'picture', 'pidos', 'piece', 'pieces', 'pissedoffdr', 'pitched', 'place', 'places', 'plague', 'plan', 'plandemic', 'planet', 'planned', 'plateaud', 'playing', 'please', 'plot', 'pls', 'pluna', 'plus', 'pm', 'pmqs', 'pneumatic', 'pneumonia', 'point', 'pointing', 'political', 'politicalfarm', 'politically', 'politicians', 'politicization', 'politico', 'politicspot', 'pompano', 'population', 'populist', 'por', 'pos', 'positive', 'positives', 'possible', 'possibly', 'post', 'potentially', 'potus', 'pounding', 'ppe', 'ppl', 'practice', 'practices', 'pre', 'precautions', 'predict', 'prediction', 'predominantly', 'preexisting', 'preparations', 'prepare', 'preparing', 'present', 'presentation', 'preserve', 'president', 'presidenttrump', 'press', 'presssec', 'pressure', 'pretend', 'pretty', 'prev', 'prevalent', 'prevent', 'preventing', 'prevention', 'previously', 'primary', 'princess', 'prior', 'priority', 'prison', 'private', 'proactively', 'probably', 'problem', 'procedure', 'process', 'produces', 'professionals', 'professor', 'profit', 'profkarolsikora', 'progress', 'projection', 'promote', 'prompting', 'propaganda', 'proper', 'properly', 'prosecutor', 'prospects', 'protect', 'protected', 'protectthenhs', 'protests', 'protocols', 'prove', 'proves', 'provide', 'psfnyc', 'psychological', 'published', 'publishing', 'pune', 'punenews', 'punishdem', 'pure', 'purpose', 'put', 'putting', 'qanon', 'quad', 'quarantine', 'quarentinelife', 'que', 'question', 'questions', 'queued', 'quick', 'quicker', 'quickly', 'quite', 'quizbay', 'rabies', 'rachelmaddow', 'racism', 'racist', 'radical', 'ragnar', 'raise', 'raises', 'rallies', 'rally', 'rampant', 'range', 'rapidriskassessment', 'rate', 'rates', 'rather', 'rationale', 'reached', 'reaction', 'read', 'reading', 'readings', 'real', 'realdonaldtrump', 'reality', 'realize', 'really', 'realmattcouch', 'realthomaspain', 'reappear', 'reappeared', 'reason', 'reasonable', 'reasonably', 'reasons', 'rebeccaballhaus', 'rebelfd', 'recall', 'recap', 'receiving', 'recent', 'recently', 'reception', 'recipes', 'recommends', 'recorded', 'records', 'recounts', 'recover', 'recur', 'redhatcult', 'reduce', 'reduces', 'reducing', 'reeling', 'refer', 'reference', 'refusal', 'refused', 'regram', 'regrets', 'regular', 'regularly', 'rehabilitation', 'reiterate', 'rejected', 'related', 'relationship', 'relative', 'relax', 'release', 'relentlessly', 'reliable', 'remarkably', 'remember', 'rememberinnovember', 'remembers', 'remind', 'reminded', 'reminder', 'reminds', 'remnants', 'remove', 'renay', 'render', 'reopen', 'reopenamerica', 'reopenamericanow', 'reopening', 'rep', 'repeat', 'repeatedly', 'replicated', 'report', 'reported', 'reportedly', 'reporting', 'repost', 'repub', 'republican', 'required', 'requires', 'requiring', 'research', 'researches', 'resident', 'resign', 'resolved', 'respect', 'respiratory', 'responded', 'responding', 'response', 'responsible', 'rest', 'restrictions', 'results', 'resurge', 'return', 'reutersbiz', 'review', 'rhinoviruses', 'ribs', 'rich', 'richmondas', 'rickysi', 'rid', 'riddled', 'right', 'rightfully', 'rightly', 'riots', 'rips', 'rise', 'riseupmelbourne', 'rising', 'risj', 'risk', 'rmmommabear', 'rna', 'robertdobbs', 'rocket', 'rogue', 'roll', 'ron', 'roninbendigo', 'rooms', 'rose', 'ross', 'roughly', 'round', 'royals', 'roypentland', 'rozeggo', 'rpcovit', 'rs', 'ruby', 'rubyprincess', 'rule', 'run', 'running', 'runs', 'rush', 'sacked', 'sad', 'sadly', 'safe', 'safeathome', 'safety', 'sahpra', 'said', 'sakal', 'sakalnews', 'saleem', 'sampling', 'sanctuary', 'sandys', 'sanitizer', 'santiagomayer', 'sars', 'sarscov', 'saturation', 'save', 'saw', 'say', 'saying', 'saynotobillgates', 'saynotowitsvaccin', 'says', 'sc', 'scam', 'scamdemic', 'scandal', 'scare', 'scared', 'scaring', 'scarring', 'scary', 'schools', 'science', 'scientific', 'scientists', 'scots', 'scottgottliebmd', 'screened', 'scroll', 'se', 'seafood', 'season', 'seasonable', 'seasonal', 'seasons', 'second', 'secondary', 'securing', 'security', 'see', 'seeing', 'seem', 'seems', 'seen', 'segregate', 'self', 'sends', 'senior', 'seniors', 'sense', 'sent', 'sept', 'september', 'sequelae', 'sergiorizzuto', 'series', 'serious', 'seriously', 'seriousness', 'set', 'seven', 'several', 'severe', 'severity', 'shaking', 'sham', 'shamed', 'shape', 'share', 'shared', 'shares', 'shelter', 'shemp', 'sherryrehman', 'shifts', 'shit', 'short', 'shortness', 'shot', 'shots', 'show', 'showcased', 'showed', 'showing', 'shows', 'shut', 'shutting', 'sick', 'sideeffects', 'sidrosenberg', 'sign', 'significantly', 'similar', 'similarities', 'simondolan', 'simple', 'simultaneously', 'since', 'single', 'sits', 'situation', 'situations', 'skewed', 'skynews', 'skysportsnews', 'slate', 'sleeping', 'slightly', 'slimjimjohn', 'slow', 'smadpist', 'small', 'smart', 'smartnews', 'smh', 'smoke', 'sneeze', 'sneezes', 'soar', 'sob', 'soberlook', 'sobrellevar', 'social', 'socialdistancing', 'society', 'socks', 'sole', 'solutions', 'somehow', 'someone', 'something', 'soon', 'sorry', 'sou', 'sought', 'sounds', 'source', 'south', 'southern', 'spanish', 'spanishflu', 'spanishfu', 'spare', 'speak', 'speakerforthed', 'specifically', 'spelled', 'spelt', 'spends', 'spike', 'splitting', 'spoke', 'sprayed', 'spraying', 'spread', 'spreader', 'spreading', 'spreads', 'spring', 'squirm', 'ss', 'st', 'stadiums', 'staff', 'stage', 'staged', 'standwithroycooper', 'stanford', 'staring', 'starmistriel', 'start', 'started', 'starting', 'starts', 'state', 'statement', 'states', 'statistical', 'statistically', 'statistics', 'stats', 'stay', 'stayhome', 'stayhomestaysafe', 'staying', 'stays', 'staysafe', 'staystrongnc', 'steadily', 'stefunny', 'stephanieinnes', 'steventdennis', 'stevescalise', 'stick', 'still', 'stoking', 'stop', 'stopped', 'stopping', 'stories', 'storm', 'story', 'strain', 'strains', 'strange', 'strategy', 'street', 'streets', 'stresses', 'stressing', 'striking', 'stroke', 'strokes', 'strong', 'students', 'studied', 'studies', 'study', 'stuffing', 'stupid', 'stupidity', 'stvnews', 'style', 'subjective', 'successes', 'successfully', 'sufferers', 'suffering', 'sugar', 'suggests', 'suit', 'summer', 'sun', 'sunday', 'sunshine', 'super', 'superhappydragonlucky', 'supply', 'support', 'supporters', 'supposed', 'sure', 'surge', 'surgical', 'surging', 'surpassed', 'surprise', 'surprised', 'survival', 'survive', 'susanstjames', 'susceptibility', 'susceptible', 'suspect', 'suzannedredge', 'swab', 'swayed', 'swine', 'swineflu', 'symbol', 'symptom', 'symptomatic', 'symptoms', 'system', 'systems', 'tab', 'tail', 'take', 'taken', 'takes', 'taking', 'talks', 'tea', 'teach', 'teachers', 'teaching', 'team', 'teams', 'ted', 'telecall', 'tell', 'telling', 'tells', 'tellyourstory', 'ten', 'tend', 'tennis', 'tens', 'term', 'terms', 'terrible', 'terrifying', 'terrorize', 'tesla', 'test', 'tested', 'testing', 'tests', 'texas', 'th', 'thailand', 'thanks', 'thedemorats', 'theheraldsun', 'thehill', 'thejeremyvine', 'theory', 'thereafter', 'therealkorven', 'therefore', 'thermal', 'thespec', 'thetimes', 'thetruthaboutvaccines', 'thing', 'things', 'think', 'thinking', 'thinks', 'third', 'thisbitchhere', 'thisweekinnepal', 'thomas', 'though', 'thought', 'thoughts', 'thousand', 'thousands', 'thread', 'threat', 'three', 'throughout', 'thus', 'ticks', 'tiger', 'till', 'time', 'timeline', 'times', 'timgriff', 'timrunshismouth', 'tinaforte', 'tips', 'title', 'tminear', 'today', 'toddler', 'together', 'told', 'toll', 'tomdoubting', 'took', 'topics', 'topleveltroll', 'topped', 'total', 'totally', 'tourists', 'toxins', 'tozer', 'trace', 'traces', 'track', 'tracker', 'trade', 'trades', 'tradition', 'tragially', 'trajectory', 'transcript', 'transmission', 'transmitted', 'transplants', 'tratamientos', 'travel', 'traveled', 'treason', 'treated', 'treating', 'treatment', 'trend', 'trending', 'trial', 'trials', 'triggers', 'trillion', 'triumphicdhq', 'troll', 'true', 'trump', 'trumpdeathtoll', 'trumpflu', 'trumpgenocide', 'trumpliedpeopledied', 'trumppandemicfailure', 'trumprallytulsa', 'trumpscoronavirusrally', 'trumpus', 'trust', 'truth', 'truthmatters', 'truthse', 'trvrb', 'try', 'trying', 'tt', 'tu', 'tucsonromero', 'tuesdaymood', 'tuesdaymotivation', 'tuesdaythoughts', 'tuesdayvibes', 'tulsa', 'twexit', 'twice', 'two', 'tx', 'typea', 'types', 'typical', 'typically', 'ubc', 'ugly', 'uk', 'un', 'una', 'unconstitutional', 'underlings', 'underlying', 'understand', 'understimate', 'understood', 'undetected', 'unfairly', 'unfortunately', 'uniofoxford', 'unioncounty', 'united', 'unitednationsgh', 'universities', 'university', 'unknown', 'unlectorenrd', 'unless', 'unmasked', 'unprecedented', 'unpredictable', 'unsustainable', 'unthinkable', 'unusual', 'upcoming', 'update', 'updated', 'updates', 'upmc', 'upon', 'ups', 'uptake', 'us', 'usa', 'usconstitution', 'use', 'used', 'uses', 'using', 'usual', 'usually', 'ut', 'utterly', 'vaccinate', 'vaccinated', 'vaccination', 'vaccinations', 'vaccine', 'vaccines', 'vaccinology', 'variant', 'varies', 'various', 'vast', 'vax', 'vaxxer', 'vegas', 'versus', 'via', 'vic', 'vickie', 'video', 'viegas', 'view', 'viewers', 'ville', 'viral', 'virulent', 'virus', 'viruses', 'visit', 'visited', 'visualisation', 'voiceoverlady', 'votebymail', 'vs', 'wada', 'wag', 'wait', 'wake', 'wakes', 'walesonline', 'walking', 'walkon', 'want', 'wanted', 'wants', 'wapo', 'war', 'warm', 'warms', 'warne', 'warned', 'warning', 'warns', 'warrior', 'wash', 'washington', 'washingtonpost', 'wasted', 'watch', 'wave', 'waves', 'way', 'weaken', 'weakend', 'weakened', 'weaker', 'weapon', 'weaponized', 'wear', 'wearadamnmask', 'wearamask', 'wearing', 'weather', 'web', 'website', 'week', 'weekend', 'weeks', 'wef', 'weijia', 'well', 'werent', 'wester', 'western', 'weve', 'wga', 'whammy', 'whatever', 'whenever', 'whereas', 'whether', 'whiners', 'whipped', 'whitehouse', 'whites', 'whodafuckisemma', 'whole', 'wide', 'widely', 'widespread', 'wife', 'wild', 'winter', 'wipes', 'wiqidbritt', 'wire', 'wish', 'within', 'without', 'wits', 'witshealthfac', 'witsrhi', 'witsuniversity', 'wodarg', 'woman', 'wonder', 'wondering', 'wonders', 'word', 'words', 'wordwide', 'work', 'workers', 'working', 'works', 'world', 'worldsgonemad', 'worldwide', 'worried', 'worries', 'worrisome', 'worry', 'worrying', 'worse', 'worst', 'worth', 'would', 'writes', 'wrong', 'wrongly', 'wsj', 'wuhan', 'wuhancoronavirus', 'wuhanvirus', 'wwg', 'wwi', 'xbox', 'xo', 'ya', 'yall', 'yea', 'yeah', 'yealy', 'year', 'yearly', 'years', 'yep', 'yerjo', 'yes', 'yesterday', 'yet', 'yo', 'york', 'young', 'youtube', 'yow', 'yr', 'zebra', 'zero', 'zidanebaldpatch', 'ziggystardad', 'zinc', 'zombie']\n",
      "(418, 2753)\n"
     ]
    }
   ],
   "source": [
    "from sklearn.feature_extraction.text import TfidfVectorizer\n",
    "vectorizer = TfidfVectorizer()\n",
    "vectorizer.fit(preprocessed_tweets)\n",
    "X2=vectorizer.transform(preprocessed_tweets)    \n",
    "print(vectorizer.get_feature_names())\n",
    "['and', 'document', 'first', 'is', 'one', 'second', 'the', 'third', 'this']\n",
    "print(X2.shape)\n"
   ]
  },
  {
   "cell_type": "markdown",
   "metadata": {},
   "source": [
    "# Other network related features"
   ]
  },
  {
   "cell_type": "code",
   "execution_count": 33,
   "metadata": {},
   "outputs": [
    {
     "data": {
      "text/plain": [
       "['death rate lower seasonal flu coronavirushoax openamericanow',\n",
       " 'juliansrum coronavirus cases influenza cases symptoms used diagnose coronavirus flu influenza positive cases week time covid cases rise',\n",
       " 'klfy hoax farce worse seasonal flu hype politically motivated almost flu cases claimed covid china based virus coronavirus covid different strain seasonal flu klfy research',\n",
       " 'outrage new york medical community moved deaths month heartdisease cancer accidents stroke alzheimer homicide etc covid column coronavirus chinavirus faucifraud firefauci firebirx defundcdc nyc govcoumo newyorkfraud flu fraud',\n",
       " 'dikell govmikedewine dianne flu season infections covid world th coronavirus wear past seasons',\n",
       " 'corona covid coronakrise coronsvirus covid',\n",
       " 'well gone million die coronavirus may less deadly flu new study found sars cov virus linked covid maybe five times widespread previously thought therefore five times less deadly',\n",
       " 'paulnuki st century sham mismanagement hardly worse flu amp surprise surprise died month amp sunshine hundreds scientists amp politicians sacked fired amp shamed coronavirus covid',\n",
       " 'pardesseleh drawandstrike media insists covid called virus rather flu words mean different connotations swine flu versus coronavirus see difference',\n",
       " 'go see maybe wearing masks dopes every months different strain flu covid different even get flu shot catch flu strain fall catch another strain spring covid coronavirus',\n",
       " 'osterholm covid even new cases begin fade summer might indicator new coronavirus following seasonal pattern similar flu lukeedwards kevinnbass drdeborahmd',\n",
       " 'anyone ever flu vaccine test positive covid test shows hiv aids virus added covid north carolina lab lawyer attorney tennis bts xbox prosecutor notary bc judgejeanine',\n",
       " 'skynews bbcnews covid deadlier flu short coronavirus x deadlier flu science suggests may anything slightly worse noticeably better',\n",
       " 'covid call bullshit beginning whitehouse regular flu go',\n",
       " 'read flu coronaviruses tests differentiate whether covid coronavirus',\n",
       " 'elonmusk filter coronavirus could tesla make home air cleaners filter viruses virus antivirus covid coronavirus flu influenze illness disease innovation',\n",
       " 'realdonaldtrump covid cases az ages leader protests riots phoenix coronavirus amp warning others protests get tested young people get bad flu generally die deaths still predominantly age',\n",
       " 'introducing long term antimicrobial solutions thermal corrosion solutions llc antimicrobial cleaner microbial sanitizer janitorial solutions covid mrsa flu coronavirus pandemic',\n",
       " 'covid cases az ages leader protests riots phoenix coronavirus amp warning others protests get tested young people get bad flu generally die deaths still predominantly age',\n",
       " 'biggest daily increases coronavirus cases recorded weekend via mailonline fooled deaths worldwide recorded months covid deaths occur worldwide every year flu season every months folks',\n",
       " 'riots protests nothing call bullshit covid coronavirus flu people die flu years years moveon',\n",
       " 'gregmannarino media fear narrative evil required vaccine narrative get covid live amp covid deaths caused coronavirus preexisting ailments making covid threat seasonal flu virus vaccine required',\n",
       " 'pentagon study flu shot raises risk catching coronavirus superhappydragonlucky episode x recap easy fourth july recipes part southern style bbq ribs',\n",
       " 'joebiden pretty comical longer covid coronavirus also found flu strain might cases past week talks cases rising death bed taking regular flu plandemic',\n",
       " 'scared flu coronavirus covid',\n",
       " 'realdonaldtrump swine flu infected americans weaker course covid see bad obama handled imagine president got coronavirus would dead supposed die trump responded great',\n",
       " 'ignorantego mckavitys covid covid coronavirus vaccines billgates cdc nih lockdown thetruthaboutvaccines vaxxer spanishflu influenza flu hcq hydroxychlorquine qanon maga kag scamdemic pandemic virus usconstitution obamagate exposebillgates',\n",
       " 'tozer kbeaver reliable test wuhan covid many test false positive false negative flu shots vaccinations test test virus traces may wuhan cv common cold coronavirus alleged coronaviruses recorded',\n",
       " 'neighbour corners anneconnollyabc suzannedredge l day thousands die every year flu coronavirus flu vaccine check self stop ignorance amp cover people die vaccine fauci even sad corners auspol covid vic covid',\n",
       " 'democrat governors mayors sanctuary cities guilty third degree murder sent china flu covid positive people nursing homes deliberate criminal act',\n",
       " 'apparently new drug found kill covid mean found drug kill flu correct wrong covid flu virus pretty sure kill virus covid uk coronavirus',\n",
       " 'coronavirus mortality study continues confirm overall mortality much different bad seasonal flu covid',\n",
       " 'epidemiologists getting called still denial death count due covid completely skewed reality worse severe flu deepstate fearcontrol billgatesvirus coronavirus fakenews flu wwg wga maga kag',\n",
       " 'plandemic coronavirus flu brought us bill gates decade vaccines staring fauci birx event nih cdc entangled web deceit securing lockdown saw inflated numbers doctors sign every death cert w covid staged control saynotobillgates donoharm blm mindful',\n",
       " 'catturd crazycrnbllbrd trust fauci covid coronavirus vaccines billgates cdc nih lockdown thetruthaboutvaccines vaxxer spanishflu influenza flu hcq hydroxychlorquine qanon maga kag scamdemic pandemic virus usconstitution obamagate exposebillgates',\n",
       " 'mcenany defends trump using racist term refer coronavirus called spanish flu wrongly still call rightly call current virus chinese virus corona covid covid pandemic chinesevirus realdonaldtrump',\n",
       " 'cjtruth wuhan china virus outbreak crock crap basically covid nothing flu human coronavirus around decades check lysol clorox labels read kills something covid fake',\n",
       " 'covid mean terms vaccine development drsanjaygupta vaccine potentially effective like typical flu vaccine',\n",
       " 'seasonal flu news college football covid',\n",
       " 'government never introduce measure meaningful impact covid flu walking back damage leaders caused cinemas allowed reopen pm takes axe two metre distancing rule',\n",
       " 'know asianamericans offended presidenttrump noting nicknames given coronavirus covid among list kungflu media relentlessly pounding story though nuked china',\n",
       " 'ingrahamangle trust fauci fauci asshoe covid coronavirus vaccines billgates cdc nih lockdown thetruthaboutvaccines vaxxer spanishflu influenza flu hcq hydroxychlorquine qanon maga kag scamdemic pandemic virus usconstitution obamagate exposebillgates',\n",
       " 'neurologic sequelae covid coronavirus sarscov possible reference flu',\n",
       " 'hold coronavirus covid like flu something',\n",
       " 'beware nd wave may disastrous impact worse st one like spanish flu spanishflu covid coronavirus',\n",
       " 'trust fauci treason covid coronavirus vaccines billgates cdc nih lockdown thetruthaboutvaccines vaxxer spanishflu influenza flu hcq hydroxychlorquine qanon maga kag scamdemic pandemic virus usconstitution obamagate exposebillgates',\n",
       " 'coronavirus covid mortality flu coronavirus mortality study continues confirm overall mortality much different bad seasonal flu',\n",
       " 'afa debbsthe limaab realmattcouch maybe live moron ville population dallas tx million covid dead population texas million covid dead gt yearly flu dead ish heart attack dead ish cancer dead ish',\n",
       " 'whodafuckisemma politicalfarm die covid flu shots coronavirus people would test positive deepstate created pandemic doctors forced call deaths coronavirus hoax bill gates amp anthony fauci exec ted',\n",
       " 'start texas sept new medical research flu cases says covid may spreading state early sept ut galveston shared research w lab wuhan amp ut also studied coronavirus wuhan lab visited tx least x covid texas',\n",
       " 'ever common cold coronavirus recall common colds seem recur every cold flu season often see repeat covid also recall never vaccine developed common cold seasonal mutations',\n",
       " 'covid tests done course going cases detected cases equal deaths plus survival rate like bad flu compliance control amp attempt terrorize us coronavirus covid masks',\n",
       " 'golfweek even show symptoms mild symptoms death rate fallen according cdc numbers sc death rate less half seasonal flu justinthomas acceleratesc reopenamericanow coronavirus covid',\n",
       " 'dog cell lines super contaminated coronavirus amp year changed dog cell line flu shots military showed flu shots deliberately contaminated course cdc fauci knows way cases pos covid',\n",
       " 'shemp dog cell lines super contaminated coronavirus amp year changed dog cell line flu shots military showed flu shots deliberately contaminated course cdc fauci knows way cases pos covid',\n",
       " 'international fyi toxins weaken human immune system ands weaken system common cold requires body bags every year yearly flu season fraudlent fauci said covid would allowing hazmat asking',\n",
       " 'let explain distinction coronavirus family natural cold viruses around since covid weaponized virus meant destroy iranian chinese economies',\n",
       " 'test positive coronavirus bcuz weve exposed colds regular flu called human coronavirus look clorox disinfectant wipes playing term u b tested specifically covid like u r typea flu',\n",
       " 'coronavirus killed number people worldwide seasonal flu via youtube covid covid us maga kag',\n",
       " 'fucking world evidence covid last august known cases china oct nov nothing',\n",
       " 'word flu since outbreak coronavirus covid',\n",
       " 'could f ing flu die without vaccine coronavirus covid coronavirus downgraded tiger wild cat could die without vaccine',\n",
       " 'like flu bad cold beat malaria cause death world know made disease covid coronavirus',\n",
       " 'johnrobertsfox cozy remember told guy potus covid press conference take mask coronavirus bad flu fakenews facemasks',\n",
       " 'ap cares flu shot last two years carrying form coronavirus yes test positive covid duh',\n",
       " 'new england journal medicine coronavirus could worse flu covid via breitbartnews',\n",
       " 'plandemic coronavirus flu brought us bill gates decade vaccines staring fauci birx event nih cdc entangled web grants securing mouth pieces saw inflatednumbers doctors sign every death cert w covid staged control exposebillgates donoharm blm mindful',\n",
       " 'covid facts month period death rates covid flu diahorrea million conned folks shut nothing coronavirus truthmatters',\n",
       " 'certificate vaccination id trust gates gates asshoe covid coronavirus vaccines billgates cdc nih lockdown thetruthaboutvaccines vaxxer flu hcq hydroxychlorquine qanon maga kag scamdemic pandemic obamagate exposebillgates',\n",
       " 'aslavitt realize counting cases death state flu death based fact counted every single death covid including hospice patients filled nursing homes coronavirus people caused rate soar facts matter',\n",
       " 'monozetta wrong cnn march flu right far deadlier coronavirus fakenews trump responsible covid china bunch whiners stupid video proves everything said wrong',\n",
       " 'need masks prevent covid ever gt sad us citizens taken coronavirus pandemic lies see cdc mortality stats truth review studies masks flu prevention transmission show masks work gt',\n",
       " 'rebeccaballhaus need masks prevent covid ever gt sad us citizens taken coronavirus pandemic lies see cdc mortality stats truth review studies masks flu prevention transmission show masks work gt',\n",
       " 'simondolan im lost think amount times ive spelt covid scandal reiterate china world economic forum big corporates big pharmas elitists bill gates involved afraid flu afraid coronavirus otherwise afraid lot',\n",
       " 'collapse flu amp pneumonia deaths amp flawed tests render common cold labelled covid obvious ever coronavirus fiasco medical fraud people accepting radical changes society based lies amp propaganda uk',\n",
       " 'blmindc padron santiagomayer potus ever wonder happen flu epidemic cdc spoke back dec false coronavirus deaths werent actually heart attacks murders natural causes hospitals could make money coded covid',\n",
       " 'covid thread eu numbers show correlation flu vaccine coronavirus deaths via wodarg coronavirus pandemic covid',\n",
       " 'believe coronavirus virus think happening first really pandemic levels people getting sick whatever going numbers far less typical flu season covid covid covidiots',\n",
       " 'moderncortes aaronblake minimum take covid deaths reality count far looser flu thus flu dead could reasonably seen equal worse death count covid',\n",
       " 'markandrewdarc wiqidbritt fishstix maximilian sure contract covid fine put high risk next mutation either seasonal flu next mutation coronavirus comes point likely significantly worse',\n",
       " 'jeremyswallace covid falls title coronavirus opinion anyone cold common flu rhinoviruses test positive human coronavirus look clorox disinfectant wipes around years u need testing covid',\n",
       " 'martianveronica smadpist linda b rips stop drinking kool aid global cult works cdc controlled agencies pcr test test covid never design infectious diseases also vast amount people already coronavirus especially ever flu vaccine',\n",
       " 'covid like common flu along surprised coronavirus',\n",
       " 'coronavirus us long awareness covid variant flu like h n still around amp still cure amp many years ago mysterious deaths raise questions early coronavirus hit ca',\n",
       " 'amykosari right death rate covid per cdc death rate senior flu shot senior flu shot dangerous coronavirus',\n",
       " 'read sign doctors inform reception coronavirus includes flu cold saying covid think stupid',\n",
       " 'jeanette viegas eddy tt ndd psfnyc brian alford disneyfamjam merry hippie angel atumpkins k mac corinne locher chrisg ubc gpoopon ziggystardad darthmo digivorr robertdobbs mtnboyinmidw niceprinter realthomaspain slimjimjohn grandma boom rocket notmattrellen renay ca rickysi thedemorats kent nye ladyoftheocean mikeada ging nancy politicspot pompano pete f u rpcovit kurtimushamhall vickie pissedoffdr jimrobe topleveltroll tomdoubting flippindbird miracleonice donnnie jones charlene mongo jay see see laylow lou bruette rose covid closely related cold flu coronavirus nd leading cause common cold',\n",
       " 'whites forcing doctors report coronavirus deaths report covid deaths heart attacks strokes flu pneumatic decease everything else coronavirus america donald trump',\n",
       " 'mpsmithnews peddling bs amp fear testing coronavirus covid coronavirus around probably forever medical books coronavirus common cold animals coronavirus flu vaccines coronavirus many people coronavirus hidden agendas',\n",
       " 'steventdennis bencjacobs sure arent coronavirus tests everyone probably positive coronavirus regular yearly flu common cold infection coronavirus covid falls coronavirus many types flu',\n",
       " 'un stop listening msm un want misinformation plandemic pandemic people die flu people tested covid coronavirus changed definition pandemic',\n",
       " 'guykawasaki coronavirus jan known common cold amp seasonal flu coronavirus aka covid different ccp dr fauci bill gates says need vaccine wuhanvirus ccpvirus',\n",
       " 'nygovcuomo lying virus dangerous harsh flu season facts lie governments covid',\n",
       " 'farhatullahb nabijans adherent said coronavirus like flu true statement see similarities link also cdc us recommends testing flu covid simultaneously due similarities symptoms see ss',\n",
       " 'us death rate coronavirus times higher flu covid influenza usa maskitorcasket',\n",
       " 'another republican taking masks seriously coronavirus wife child also called wuhan flu well evidently gop days means bigot people zero covid spreading',\n",
       " 'wester sou bergeonline lumidek roypentland seriously make garbage called every flu season moving forward influenza kills people ages australia year covid deaths measure enact martial law every flu season',\n",
       " 'starmistriel jokes elements truth coronavirus jan known common cold amp seasonal flu coronavirus aka covid different ccp dr fauci bill gates says need vaccine wuhanvirus ccpvirus',\n",
       " 'way stop covid provide hydroxycloroquine z pac amp zinc take first sign cold flu coronavirus covid risk damned',\n",
       " 'look know hydroxycloroquine prevent covid amp prevent coronavirus flu democrats fighting hard got private supply',\n",
       " 'speakerforthed trust fauci covid coronavirus vaccines billgates cdc nih lockdown thetruthaboutvaccines vaxxer spanishflu influenza flu hcq hydroxychlorquine qanon maga kag scamdemic pandemic virus usconstitution obamagate exposebillgates',\n",
       " 'perfect storm sars cov flu season minimize double whammy infections maximizing influenza vaccine uptake covid pandemic super important covid year dumptrump trumppandemicfailure bluewave votebymail',\n",
       " 'coronavirus cold flu covid cases different real danger fakenews',\n",
       " 'adams chriscuomo sidrosenberg foxnews brithume benshapiro timrunshismouth gov desantis reporting covid deaths use fl comparison cases like comparing apples oranges two relationship actual data check spike pneumonia deaths successfully prove ignorance bliss',\n",
       " 'tinaforte mike mzman breathe covid coronavirus vaccines billgates cdc nih lockdown thetruthaboutvaccines vaxxer spanishflu influenza flu hcq hydroxychlorquine qanon maga kag scamdemic pandemic virus usconstitution obamagate exposebillgates',\n",
       " 'hecht burghgirl congressmangt gopoversight know cdc said half deaths cv look chart flu pneumonia added covid deaths hmmm',\n",
       " 'business lawsuits come back usa government negligence usa said coronavirus hoax like flu covid disappear miraculously masks ineffective test trace invasive shelter place lockdown unconstitutional cdc prepare ppe',\n",
       " 'godfamilyjesus quarantine covid coronavirus vaccines billgates cdc nih lockdown thetruthaboutvaccines vaxxer spanishflu influenza flu hcq hydroxychlorquine qanon maga kag scamdemic pandemic virus usconstitution obamagate exposebillgates',\n",
       " 'netz melb covid hoax coronavirus truth medical association wants promote idea covid real give new name seasonal flu worries tests meant point time tell time proactively got tested flu virus',\n",
       " 'realdonaldtrump getting extreme care covid worse inept response stoking racism response blm refusal use expert accepted terms everyone country less safe',\n",
       " 'mailonline call freedom like psychological prison nonsense virus strong seasonal flu coronavirus covid newnormal scamdemic',\n",
       " 'magamuscleman maryamhenein post licensure efficacy trial recorded death rate seniors took fluzone quad high dose seniors per cdc covid death rate flu shot dangerous coronavirus',\n",
       " 'nope keep holding world hostage statistically run mill flu virus totally unsustainable everyone must keep working roll coronavirus covid',\n",
       " 'massimassian davidpittelli indeed asked wear masks prior flu seasons influenza spread times higher covid spread covid infected people us people infected annually influenza yr',\n",
       " 'susanstjames get covid deadly thousands maga patriots could die going trump rallies would democrats care hate us fact coronavirus pure bs flu nothing know trump rallies',\n",
       " 'covid coronavirus flu given bad info china sought damage president trump america wake enjoy life',\n",
       " 'dog cell lines used flu vaccine year military chance test positive one coronavirus types give positive pcr test lie covid total fraud flushot gone cases',\n",
       " 'deanna congress truthse cov id covid coronavirus vaccines billgates cdc nih lockdown thetruthaboutvaccines vaxxer spanishflu influenza flu hcq hydroxychlorquine qanon maga kag scamdemic pandemic virus usconstitution obamagate exposebillgates',\n",
       " 'coronavirus vaccine winter flu vaccine yet every year huge numbers people vaccinated covid',\n",
       " 'beercan cletusabibbit dog cell lines used flu vaccine year military chance test positive one coronavirus types give positive pcr test lie covid total fraud flu vax gone cases',\n",
       " 'bbcradio thejeremyvine think keep everything shut forever know covid coronavirus deadly seasonal flu remember shutting full country seasonal flu take word bigger picture vaccine',\n",
       " 'growsomeovaries nycbumpkin whitehouse actually confirmed absolute strange literally counted flu deaths flu kills k annually hospice patients counted coronavirus deaths fakenews called good reason even birx said counting death covid heard',\n",
       " 'eavesdropann meme joke coronavirus jan known common cold amp seasonal flu coronavirus aka covid different ccp dr fauci bill gates says need vaccine wuhanvirus ccpvirus',\n",
       " 'us death rate coronavirus times higher flu covid coronavirusupdate covid nottheflu trumpliedpeopledied rememberinnovember novemberiscoming',\n",
       " 'thomas paine trust fauci fauci asshoe covid coronavirus vaccines billgates cdc nih lockdown thetruthaboutvaccines vaxxer spanishflu influenza flu hcq hydroxychlorquine qanon maga kag scamdemic pandemic virus usconstitution obamagate exposebillgates',\n",
       " 'canukcookie breathe mask covid coronavirus vaccines billgates cdc nih lockdown thetruthaboutvaccines vaxxer spanishflu influenza flu hcq hydroxychlorquine qanon maga kag scamdemic pandemic virus usconstitution obamagate exposebillgates',\n",
       " 'gatewaypundit covid covid coronavirus vaccines billgates cdc nih lockdown thetruthaboutvaccines vaxxer spanishflu influenza flu hcq hydroxychlorquine qanon maga kag scamdemic pandemic virus usconstitution obamagate exposebillgates',\n",
       " 'hey jim drug needed covid deadly seasonal flu fact jimcramer',\n",
       " 'govabbott covid survival rate face masks actually compromise immune systems especially kids thus making flu season dangerous amp us let us develop herd immunity amp go w lives enough w gov control',\n",
       " 'punishdem covid coronavirus vaccines billgates cdc nih lockdown thetruthaboutvaccines vaxxer spanishflu influenza flu hcq hydroxychlorquine qanon maga kag scamdemic pandemic virus usconstitution obamagate exposebillgates',\n",
       " 'jfrketich thespec crazy way prevent spread learn proper respiratory etiquette cold virus flu spread sneeze cough amazingly works latest coronavirus flattenthefear covid',\n",
       " 'trump lies kids safe covid reopen schools regular flu flus things sars h n young people affected like everybody else whatever reason respect covid numbers low said',\n",
       " 'cernovich benyt risj oxford whether lawsuit recently fox news among fallacies recently sprayed viewers fake information coronavirus pandemic calling among things hoax common flu nothing like covid msnbc',\n",
       " 'ross cappy wire splitting hairs distrustful articles use coronavirus implying covid coronviruses colds flu always transmitted methods',\n",
       " 'stevescalise hold dems accountable nursing home deaths know planned put ppl nursing home covid sole purpose running already inflated cdc death rates cdc put flu amp pneumonia deaths coded coronavirus',\n",
       " 'hey maga peeps might want tell boss boss covid worse regular flu spraying underlings apparently boss boss thinks real democrat hoax right',\n",
       " 'planet zombie copvid think msm says question everything trust one truth freedom facts cure treatment exists covid coronavirus worse seasonal flu sarscov biological weapon',\n",
       " 'coronavirus overblown media scam death rates equivalent flu cnn nytimes guardian rest liberal media outlets stick aljazeera allahuakbar covid fakenews',\n",
       " 'coronavirus jan known common cold amp seasonal flu coronavirus aka covid different ccp dr fauci bill gates says need vaccine',\n",
       " 'aubrey huff magadebwwg wga coronavirus jan known common cold amp seasonal flu coronavirus aka covid different ccp dr fauci bill gates says need vaccine wuhanvirus ccpvirus',\n",
       " 'fionamflanagan even isolated called covid strain coronavirus incidentally causes around colds amp flu every year least population would test positive anyway',\n",
       " 'deaths outside nursing homes might expect typical flu season explain ignored protocols forced covid patients nursing homes covid coronavirus potus qanon reopenamerica',\n",
       " 'media still getting away peddling utterly dishonest death rate using confirmed cases x deadlier flu seriously covidiots covid',\n",
       " 'kimberlyritter almost every person got coronavirus bit covid friends covid pass like flu without medications tea lemons hoax many different reasons sadly bad ones',\n",
       " 'covid coronavirus know common cold common flu sars mers think chance testing positive covid amp many others scamdemic',\n",
       " 'believe word guy says anymore wrong throughout entire pandemic e flu dr fauci warns coronavirus vaccine might take time covid morningjoe maddow rachelmaddow tuesdaythoughts maga trump',\n",
       " 'done seasonal flu virus kills thousands people year covid coronavirus c news',\n",
       " 'nih fauci q amp failures successes developing vaccine flu vaccine effectiveness varies since mutates know coronavirus changes coronavirus covid anthonymace fauci',\n",
       " 'fox vegas unless sick caring someone sick say covid coronavirus vaccines billgates cdc nih lockdown thetruthaboutvaccines vaxxer influenza flu hcq hydroxychlorquine qanon maga kag scamdemic pandemic virus obamagate exposebillgates',\n",
       " 'cdc stats show cases less danger covid even serious us flu gt horowitz cdc confirms remarkably low coronavirus death rate media may covid coronahoax faucifraud',\n",
       " 'covid deadlier flu short coronavirus x deadlier flu science suggests may anything slightly worse noticeably better',\n",
       " 'total estimated flu season deaths last year per cdc total confirmed deaths coronavirus since march pace holds see dead americans roughly year gtfo worse flu covid covidiots',\n",
       " 'cnn dr fauci rightfully claimed covid produces many false positives test flawed triggers remnants coronavirus found body cold many people without symptoms get tested flu covid lockdowns inflated deaths hoax',\n",
       " 'cdcdirector resign cdcdirector politicization annual flu season cost thousands lives reason sars cov antibody testing time wasted fake science manipulation via fear rejected covid coronavirus',\n",
       " 'love fakenews check coronavirus hype covid basically flu fools let daddy govt shut riots cured right fascism plandemic blacklivesmatter georgefloydhoax',\n",
       " 'witsuniversity uniofoxford wits news witshealthfac witsrhi sahpra oxfordmedsci healthza gavi want bile gate foundation vaccines said gonna test killing vaccines virus even called swine flu capsvirus coronavirus covid wits gonna anyone test guineapig saynotowitsvaccin saynotowitsvaccin',\n",
       " 'looks legit covid coronavirus vaccines billgates cdc nih lockdown thetruthaboutvaccines vaxxer spanishflu influenza flu hcq hydroxychlorquine qanon maga kag pandemic exposebillgates',\n",
       " 'scroll link page gt evidence based reasons vaccinate free research pdf download greenmedinfo good info amp esp view rush vax covid coronavirus etc none prev flu vaccines work well',\n",
       " 'coronavirus vaccine trial imperial college london begins miraculous vaccine breaks records herpes flu cold aids many viruses cannot create vaccine years covid less years gullible people say yea',\n",
       " 'coronavirus covid wave inbound hits way flu normally autumn winter going dire also chinese properly lie response time seems quicker amp joined',\n",
       " 'geraldo tested immunities winter flu would test positive even though last november wish would give us numbers testing showing covid cases end last year covid coronavirus',\n",
       " 'got sick coronavirus winter tell anyone treated like flu got better within days please others tellyourstory covid',\n",
       " 'comparative review respiratory diseases caused coronaviruses amp influenza viruses epidemic season next fluseason clinicians may distinguish covid pneumonia kinds viral pneumonia flu covid coronavirus',\n",
       " 'trvrb would covid seasonal like respiratory viruses first wave spanishfu plateaud much worse nd wave hit fall could worse coronavirus occur alongside seasonal flu young people weakend flu could susceptible covid',\n",
       " 'memory loss shortness breath panic attacks gnarled fingers among lingering health issues post covid cold flu',\n",
       " 'upon time flu worst disease winter fall wish catch instead covid must let coronavirus whereas must let bad habits kissing embarrassing hand shaking whatever leadt outbreak',\n",
       " 'spanish flu world war halted growth global trade finance migration took half century recover happen covid trades businesses manufacturing leadership management work futureofwork via wsj',\n",
       " 'fire season covid experts predict dramatic increase october coincides flu season california fire season smoke could exacerbate seriousness virus covid beready beprepared',\n",
       " 'coronavirus vs opioid epidemic idea comparing health crisis issues new opioid epidemic compared several times hiv epidemic flu countless others read addiction rehabilitation covid opioidcrisis',\n",
       " 'spanish flu world war halted growth global trade finance migration took half century recover happen globalization covid via wsj',\n",
       " 'lesarobertson three people died covid one lady daughter building one building one street homeless lady sleeping nearby broadway know died others know sick w flu coronavirus tulsa',\n",
       " 'nytimes nyt angela tulsa city employee refused give last name also said want wear mask healthy young woman said compared coronavirus flu many times covid like flu',\n",
       " 'emilula gf images profkarolsikora covid biggest killer flu still need vaccine stop catching virus compare coronavirus flu',\n",
       " 'gryphonwatcher demetrialesterc new disease many strange effects kidney damage failure often seen much much flu pneumonia health care workers best dangerous difficult situations',\n",
       " 'marketwatch published piece richmondas professor jory brinkerhoff disease ecologist amp expert ticks writes concerns covid amp lyme disease symptoms similar may cause issues diagnosis',\n",
       " 'alarming covid clusters among young people u south linked bars fraternity rush parties especially worrying colleges universities plan bring students back campus fall coronavirus flu virus expected circulate simultaneously',\n",
       " 'another bc someone said bad flu coronavirus covid covid',\n",
       " 'barely half year coronavirus killed people us alone fucking hate ignorant fucks keep saying flu kills way blah blah covid fucking serious take seriously u think entire world stupid',\n",
       " 'people responsible say regrets faced global calamity say covid worst pandemic since spanish flu flu killed million people',\n",
       " 'covid today catastrophe time become flu live today test detect coronavirus minutes approved us via wef',\n",
       " 'fauci prediction would take death toll well past average seasonal flu trump repeatedly cited flu comparatively much higher cost lives playing severity pandemic covid',\n",
       " 'anthony fauci says still first wave covid cases click learn past pandemics',\n",
       " 'flu really remember trump pitched blow away easter sunday deaths us new cases last hrs deaths last hrs covid trumpgenocide bunkerboytrump',\n",
       " 'arockalyps lawrencehughes chuckcallesto huh many people died coronavirus bad flu season seasonal still point small percentage population exposed wait flu covid going around watch death numbers',\n",
       " 'fox news anchors claimed covid less virulent flu plot liberal hyper partisan media get trump fox warned employees stay home reduce staff footprint headquarters new york',\n",
       " 'heard woman tulsa queued trumpus rally equate covid flu wrong people covid coronavirus tulsa trumprallytulsa',\n",
       " 'neeratanden thing terrible covid lasts lasts coronavirus like flu want get sick sick weeks brutal scary staysafe keep people safe wearamask wearadamnmask covid stayhome covid gopgenocide',\n",
       " 'demands responding covid damaging prospects developing effective influenza vaccines reducing chances preventing flu pandemic according world health organization covid coronavirus',\n",
       " 'caffeinatedinaz dildon opticcityoiler tucsonromero want dead people guess wearing mask would help reduce flu nearly medical professionals say arizona start requiring people wear masks stephanieinnes mpolletta covid',\n",
       " 'bestson dorseyisajoke may never realize sick continue spread covid weeks novel coronavirus flu replicated rna hiv flu kills covid kills see months sept canada lost',\n",
       " 'one new local covid case reported active cases fluctuate caitlanmbutler eldorado unioncounty covid coronavirus healthreport arkansas',\n",
       " 'almost like virus flu going around coronavirus covid',\n",
       " 'stay home orders lifted nationwide coronavirus continues spread cdc recommends wearing fabric face mask slow spread virus tips people asthma covid',\n",
       " 'vast majority covid related deaths occur people actuarial perspective would died year soon thereafter pre existing morbidity covid coronavirus reopenamerica qanon wwg wga',\n",
       " 'united states coronavirus cases deaths trump said hoax like flu gone spring continues lie americans die covid epicfail',\n",
       " 'history pandemics proves covid far defeated',\n",
       " 'okay nepal finally entered coronavirus infection flu stage today let forget devastation mentality caused us stayhome covid nepal nepali thisweekinnepal',\n",
       " 'number americans died covid surpassed number killed world war death toll exceeds americans died world war flu pandemic coronavirus deaths occurred four months',\n",
       " 'davey petersharpley lademocratietue jeremyvineon lord sugar thejeremyvine unknown virus unpredictable mortality morbidity effects coronavirus appear much extensive amp long term flu covid least times infectious flu',\n",
       " 'realdonaldtrump swine flu killed roughly k people years biden charge response h n lastly failed handle covid appropriately k americans counting dead months failure due ignorance indifference coronavirus',\n",
       " 'covid covid opportunistic killer california reopening quickly giving virus opportunity requires aggressively spread amp kill spanish flu pandemic killed million people many people covid kill',\n",
       " 'kamalaharris covid covid opportunistic killer california reopening quickly giving virus opportunity requires aggressively spread amp kill spanish flu pandemic killed million people many people covid kill',\n",
       " 'covid covid opportunistic killer california reopening quickly giving virus opportunity requires aggressively spread amp kill spanish flu pandemic killed million people many people covid kill',\n",
       " 'really going bring swine flu nothing coronavirus even make usa like virus kill way less coronavirus covid million man smh',\n",
       " 'ctvnews k dead us alone amp rising steadily mortality rate covid higher th spanish flu pandemic cost million lives world wide keep th border closed',\n",
       " 'covid flu let final warning via nypostsports',\n",
       " 'anywhere near end several states headed italy nyc situation speak others yet hit first wave come fall forced back inside flu worse coronavirus covid',\n",
       " 'leonard ethicalskeptic comparing coronavirus influenza bit strange try comparing covid sarscov behavior comparing flu coronavirus like expecting zebra behave like monkey',\n",
       " 'nhl teams control seasonal flu runs dressing rooms every season think control coronavirus nhl covid',\n",
       " 'last time flu killed american people within months covid coronavirus like flu',\n",
       " 'flu really case anyone know global coronavirus cases reached deaths globally died tragially coronavirus covid trumpgenocide bunkerboytrump',\n",
       " 'deaths covid us less month yea flu yea go away weather warms addition covid also suffering stupidity pandemic us coronavirus',\n",
       " 'washingtonpost u nation decline spends trillion year national security protect population pandemic europe china contained spread covid rampant u fall winter flu season coronavirus',\n",
       " 'derekjames imbecile one order support like borisjohnson donaldtrump jairbolsonaro responsible tens thousands deaths one sob said covid coronavirus normal flu drinkbleach etc borisjohnsonmustgo dumptrump trumpdeathtoll k',\n",
       " 'prison guard finds hard way covid nothing like flu',\n",
       " 'stay home orders lifted nationwide coronavirus continues spread cdc recommends wearing fabric face mask slow spread virus tips people asthma covid',\n",
       " 'flu corona comparison coronavirus flu coronapandemic coronainpakistan coronavirusupdates coronawarriors covid covid covid pakistan',\n",
       " 'cancel americans free please survival rate amp oklahomans strong people nobody cares get coronavirus cause like flu go see trump amp get added bonus getting covid fellow patriot',\n",
       " 'letmelooktv marcuschown medialens let dispel notion novel coronavirus like flu striking comparison flu covid sars mers ht biorender covid x deadly almost x contagious flu existing immunity covid',\n",
       " 'flu shot causes body immune system make antibodies protect influenza antibodies different antibodies body makes fight infection caused novel coronavirus covid basedonscience',\n",
       " 'gets coronavirus covid fake killer virus whatever branch th flu infectious seen many celebrities politicians royals th rich homeless junkies dead thousands nope died make th news',\n",
       " 'someone tell current alert level flu covid coronavirus alertlevel',\n",
       " 'desantisbetrayedflorida covid cases surging many early covid deaths misclassified flu pneumonia',\n",
       " 'bopinion damned way keep stopping world running every couple months flu tail wag dog ad nauseam keep working functioning period coronavirus covid',\n",
       " 'coronavirus vs spanish flu spanish flu hit world three waves second third wave coronavirus pandemic likely h soberlook bcaresearch markets investing coronaviruscrisis coronavirus covid economy',\n",
       " 'covid preparations southern flu season must priority modern diplomacy coronavirus covid',\n",
       " 'walesonline reporting covid coronavirus seven different strains including cold flu',\n",
       " 'today covid update global cases deaths eu eea uk cases deaths find info latest rapidriskassessment sarscov',\n",
       " 'certain covid flu virus complex deadlier previously thought affecting increasing number young people coronavirus covid',\n",
       " 'timgriff drchrisparry unfortunately dismissing covid flu dangerous',\n",
       " 'walking feet bathroom sends heart rate oxygen saturation pee like hear fake pandemic worse flu covid coronavirus',\n",
       " 'total coronavirus cases state downward trend weeks said donald yealy upmc health system preparing manage coronavirus upcoming fall cold flu season ncpa covid',\n",
       " 'remembers flu bro people coronavirus covid',\n",
       " 'thespec jfrketich crazy way prevent spread learn proper respiratory etiquette cold virus flu spread sneeze cough amazingly works latest coronavirus flattenthefear covid',\n",
       " 'gavinnewsom officialkat learn proper respiratory etiquette cold virus flu spread sneeze cough amazingly works latest coronavirus flattenthefear covid',\n",
       " 'mar origin coronavirus covid coronavirus china ten times flu cases usual december thetimes',\n",
       " 'democrat governors go cdc guidelines taking amp treating covid patients back nursing homes elderly already risk every year regular flu',\n",
       " 'coronavirus china ten times flu cases usual december covid thetimes health authorities reported million cases influenza december compared recorded month',\n",
       " 'face diaper covid coronavirus vaccines billgates cdc nih lockdown thetruthaboutvaccines vaxxer spanishflu influenza flu hcq hydroxychlorquine qanon maga kag scamdemic pandemic virus usconstitution obamagate exposebillgates',\n",
       " 'covid deaths us hit k hate crimes asian americans rise country reeling yet must remind potus use racism describe disease taken much',\n",
       " 'summer covid become american flu',\n",
       " 'whitehouse realdonaldtrump dr fauci knows covid coronavirus flu dr fauci never calls covid hoax dr fauci never tell people drink bleach dr fauci never said testing bad covid would disappear testing stopped dr fauci tells truth intelligent',\n",
       " 'whitehouse realdonaldtrump fixed potus irresponsibly crams unmasked supporters together another super spreader petri dish rally young people take covid home amp mothers fathers grandmother grandfathers family amp community get sick many die bc coronavirus x deadly flu dumb',\n",
       " 'riseupmelbourne testing flawed though experts never properly isolated virus covid coronavirus flu understand thousands different strains test virus give different readings day day',\n",
       " 'beverle graemefrisque kinsellawarren elpolitics flu strain many year die strain flu using total worldwide flu deaths way minimize effect covid flawed argument covid one single strain coronavirus',\n",
       " 'nataliexdean young people definetly less cautious newyork may change nd wave hits fall flu season flu makes even young people sick amp weakened flu may susceptible covid scottgottliebmd epitwitter coronavirus',\n",
       " 'neiltyson repost sergiorizzuto important global deaths caused various causes amp covid chart shows importance getting virus control like flu viruses covid coronavirus',\n",
       " 'second coronavirus wave expected fall health experts stressing importance year flu shot omrf covid coronavirus flu vaccines',\n",
       " 'cherteapet msnbc also cdc october april flu illnesses flu deaths covid february june total cases new cases total deaths new deaths',\n",
       " 'repub rep mckinley recounts deaths drug overdoses causes took decade come vaccine flu trump admin unfairly treated press since covid months old coronavirus covid anthonymace mckinley',\n",
       " 'reading spanish flu pandemic saw reappeared twice first wave experts said coronavirus covid likely reappear wondering could also third time',\n",
       " 'stadiums amphitheaters safe coronavirus grim clues years flu outbreaks covid security safety',\n",
       " 'covid flu kills infected people age whereas coronavirus death rate infected people age group people',\n",
       " 'cakizil',\n",
       " 'saw video months ago clear coronavirus flu people drop dead flu walking still applies fully understood due spread even dangerous mask wash distance covid',\n",
       " 'covid worse flu months answer infection rates similar death rate covid significantly higher flu according cdcgov amp johnshopkins',\n",
       " 'greenfield clown difference dead covid flu ya asshat taking account cuomo stuffing sick ppl w old reported even honest shut',\n",
       " 'johnnypenso drericding post reading article longer able say covid like flu know read death matter',\n",
       " 'hhs giroir q amp agree fauci tend forget past lessons ppe topics need order enough flu vaccine reduce flu fatalities co infections covid hahn agrees collect preserve info progress coronavirus covid anthonymace giroir hahn',\n",
       " 'coronavirus death rate us almost times higher flu see compare age bracket covid coronapalooza coronavirus flu influenza businessinsider socialdistancing',\n",
       " 'takes one person covid show symptoms spread virus across land wait till november everyone immune systems amp everyone depressed cold weather flu amp back started coronavirus covid bbcnews pmqs',\n",
       " 'let take look covid numbers compared flu',\n",
       " 'texas children hospital confirmed late monday admitting adult patients free hospital beds across houston coronavirus cases surge covid like flu really',\n",
       " 'nih fauci q amp get winter inevitably concurrent flu season need many people possible get flu vaccine complicating factor confounding double infections coronavirus covid anthonymace fauci',\n",
       " 'misterd skysportsnews flu coronavirus flu influenza virus coronavirus virus covid disease caused coronavirus try smart suit',\n",
       " 'usa riddled sars cov undetected coronavirus fever flu influenza medicine pandemic respiratory covid sarscov usa',\n",
       " 'brandon ochieng bridge academy kyumbi stays safeathome observing proper hygiene practices everyday teaching children good health habits like help prevent spread colds flu well covid visit moh kenya',\n",
       " 'south africa flu season mean coughs sneezes take simple daily precautions help prevent spread respiratory illnesses like covid influenza learn protect covid',\n",
       " 'karlfly bluetx govabbott diagnosed cases resolved fatality rate worldwide covid swine flu fatality rate covid x worse fatality rate include survive long term damage health',\n",
       " 'breathtaking best sense nobody understimate brutal impact covid infection must read idiots comparing coronavirus flu playing fatal herdimmunity birgitc best stay strong',\n",
       " 'mortality rate covid still going like seasonal flu perverts covid coronavirus maskitup censorship',\n",
       " 'norvernmunkee r ph reason winter flu think coronavirus might behave differently also seems survive bad case covid could scarring lungs possibly long term would pretty awful',\n",
       " 'warne said swine flu worse covid coronavirus would typically mild fever night back pain experienced said worst pain felt life',\n",
       " 'covid caused double deaths flu season us still flu get realdonaldtrump coronavirus',\n",
       " 'hotpep jeffmason cernovich realdonaldtrump could get sick theory people got sick coronavirus might catch cold flu viruses disappear covid appeared young people going stay indoors social distance life risk',\n",
       " 'jvm weijia god damned flu coronavirus two different viruses covid dangerous said remove common sense bio post read timeline demand',\n",
       " 'people must wear mask protect others flu season hits year going hit hard ugly wearadamnmask wearamask covid coronavirus',\n",
       " 'regram neiltyson sorry downer important global deaths caused various causes amp coronavirus chart shows importance getting virus control like flu viruses covid coronavirus',\n",
       " 'using hand sanitizer reduces microbial counts kills many harmful germs could infect workers flu viruses facemask sanitizer clean covid coronavirusupdate coronavirus corona lockdown pandemics quarentinelife breakingnews coronavirus',\n",
       " 'ragnar lives hugozheng mlevitt np death numbers might interest season end comparing flu follow process start year whenever want finish point covid started january',\n",
       " 'ignoramus still thinks covid flu read coronavirus',\n",
       " 'indivisible nc cvdeathwatch walkon danforestnc ncgop candidate governor lt dan wanted us keep covid perspective telling us coronavirus worse flu hiv maskup staystrongnc standwithroycooper ncpol',\n",
       " 'covid flu lasts longer contagious higher rates hospitalization deadly long term effects known stay safe folks',\n",
       " 'makes sad stupid people ignore coronavirus trying pretend flu something less organize events parties risk health people tuesdaythoughts tuesdaymotivation tuesdayvibes tuesdaymood covid covid covid',\n",
       " 'experts offer grim warning strain medical system covid flu later year',\n",
       " 'want see bad flu season second wave coronavirus time professor martin marshall says spike flu covid cases would hit whole nhs',\n",
       " 'staying safe home important parents caregivers teachers continue teach children observe good health habits order help prevent spread colds flu well covid visit minofhealthug',\n",
       " 'think may covid flu people get sick take care home need see doctor call ahead going office take precautions protect others around see',\n",
       " 'kungflu even sounds racist even accurate seeing covid sars flu virus name entire world uses racist describes virus scientific detail feat maga base cant master coronavirus covid',\n",
       " 'coronavirus respiratory disease may present symptoms similar common colds flu essential know differences early intervention management coronavirusuk covid coronavirus coronavirusoutbreak',\n",
       " 'coronavirus respiratory disease may present symptoms similar common colds flu essential know differences early intervention management coronavirusuk covid coronavirus coronavirusoutbreak',\n",
       " 'kindrobot org r hellqvist closest rationale current strategy could find spelled also website lund university starting march seems like let spread immune come thinking covid parallel spanish flu',\n",
       " 'rose xo yep doctors certainly discovering unusual sideeffects coronavirus baffles anyone researches frankly covid illness range mild flu symptoms developing pneumonia full ards issues like stroke amp cardiac arrest',\n",
       " 'today covid update global cases deaths eu eea uk cases deaths find info latest rapidriskassessment sarscov',\n",
       " 'latimes please even consider reopening soon covid pandemic pandemic attempted influenced business interests dire consequences donotopencalifornia extendlockdown covidiots',\n",
       " 'dr behind covid trials talks cytokine storm critical patients people still saying covid bad flu since lung transplants indicated flu patients',\n",
       " 'u symptoms cold flu covid coronavirus viruses amp infections properly wearing surgical facemask help protect others getting sick important u follow infection prevention precautions putting maskon amp taking maskoff',\n",
       " 'unlectorenrd yerjo therealkorven crubiomartinezu para el covid hay cura es la enfermedad creada por una cepa del virus coronavirus para la gripe com n el flu hay curas existen tratamientos para sobrellevar la enfermedad hasta que tu cuerpo elimina el virus se hagan los est pidos',\n",
       " 'facebook post shared thousands times claims cdcgov lied number deaths caused covid combining count pneumonia influenza fatalities false fakenews coronavirus usa',\n",
       " 'trump flu klux klan spread virus china ever chinesevirus kungfluvirus trumpscoronavirusrally chinese redhatcult corruptlicans coronavirus covid covidiots',\n",
       " 'call trump flu cos fucking killing people let get trumpflu trending coronavirus covid',\n",
       " 'flu vaccination stop covid flu vaccine stop coronavirus receiving jab local communitypharmacy help ease pressure put onto nhs save lives protectthenhs covid',\n",
       " 'today covid update global cases deaths eu eea uk cases deaths find info latest rapidriskassessment sarscov',\n",
       " 'growing number people uk reported symptoms compatible covid seasonable flu late dec jan prompting questions novel coronavirus arrived country even swayed experts',\n",
       " 'remember fools said flu worst coronavirus remember fools said summer heat sun get rid covid well covidiots wrong protect',\n",
       " 'guonglu sandys socks voiceoverlady georgetakei needed discuss whether covid flu caused coronavirus caused influenza next calling hiv aids like trump',\n",
       " 'bytstrateginu coronasverige covid different flu let stop comparing flu important let stop using flu projection models fhm g amp amp c handling covid',\n",
       " 'spanishflu million billion confirmed cases world population million deaths could covid worse spanish flu humanity extinction event wuhan china australia covid coronavirus pandemic plague drtedros',\n",
       " 'fabi flu glenmark covid treatment drugs available tab costs rs',\n",
       " 'zidanebaldpatch dukegonzo mikeneil warrior scots stvnews us deaths last winter flu us deaths today covid total quite difference source',\n",
       " 'second wave coronavirus way second phase spanish flu deadlier first second coronavirus wave inevitable bad could covid coronavirus coronavirusupdates coronaviruspandemic',\n",
       " 'india set begin trials japanese flu drug favipiravir glenmark fabiflu fabifluavailability covid corona coronavirus coronavirusupdates japanese japan coronavirusoutbreak chinesevirus chineseproductsindustbin chinesecoronavirus favipariwar pibindia',\n",
       " 'ruby princess inquiry hears passenger diagnosed flu days died coronavirus',\n",
       " 'ruby princess passenger diagnosed flu days coronavirus death inquiry hears',\n",
       " 'ruby princess passenger diagnosed flu days coronavirus death inquiry hears',\n",
       " 'ruby princess passenger diagnosed flu days coronavirus death inquiry hears',\n",
       " 'enduklockdown patrickmcdona mags hawkeyeknows macfullermac quizbay covid global total last bad flu death toll uk killing covid killed far uk',\n",
       " 'always remember something even supposed know msnbc foxnews nytimes cnn wsj cnbc politico huffpost drudge bbc gop npr dailykos thehill wapo nbc cbs ap slate aarp covid cdc fauci nyc nyt realdonaldtrump coronavirus',\n",
       " 'media hype covid starts drift away haze exaggeration amp governmental reaction interesting note european deaths flu excess deaths coronavirus beat one wonders panicdemic total could far bigger',\n",
       " 'flu warm weather make go away huh world health organization sunday reported largest single day increase coronavirus cases count new cases latest hours covid coronavirus',\n",
       " 'second wave spanish flu almost century ago deadly first one second wave covid inevitable bad gonna guys coronavirus',\n",
       " 'ofcourse even spanish flu disappeared without vaccine even black death disappeared without vaccine much damage covid without vaccine question coronavirus donateplasmasavelives',\n",
       " 'share quick fact get deeper flu season remember still important get tested start showing symptoms take care stayhomestaysafe niemannpickoz covid coronavirus npcaustralia',\n",
       " 'came spread killed lessons spanish flu coronavirus hit india years coronavirus updates corona live tracker corona outbreak coronavirus coronavirus updates covid covid tracker covid outbreak latest news',\n",
       " 'us president donaldtrump blamed china global spread deadly coronavirus kungflu kungflufighting covid',\n",
       " 'covidiots call people still believe virus deadly regular flu virus oh wait covid coronavirus cold flu symptoms thanks research stanford',\n",
       " 'via nytimes global review free read trump holds oklahoma rally today despite jump cases worry like flu covid may resurge fall',\n",
       " 'present coronavirus pandemic five times deadlier swine flu outbreak occurred years pune punenews coronavirus covid swineflu sakal sakalnews',\n",
       " 'second wave coronavirus way bbcworld report indicates second wave covid way second phase spanish flu deadlier first second coronavirus wave inevitable bad could source bbcworld',\n",
       " 'roninbendigo ajayquirke tminear theheraldsun reason covid taken many lives australia though ron sure actually know taken drastic measures limit transmission respiratory illnesses amp incidentally absolutely crushing year flu season',\n",
       " 'go racist refer covid disease killed k america name incites hate days campaign used symbol associated w nazis unprecedented potus divide gaslight way',\n",
       " 'rmmommabear thisbitchhere gabefeycat gryphonwatcher yes people fail realize difference covid flu one thing get pneumonia flu secondary infection whereas covid attacks lungs causing primary pneumonia also far kidneys',\n",
       " 'want really think means americans died coronavirus months anyone still think big deal call flu people numbers permanent organ damage far higher covid',\n",
       " 'keep seeing people trying say coronavirus lethal flu k dead us months brand new virus lockdowns stupid enough see crap covid',\n",
       " 'fireeatn bjhnsn holowcut triumphicdhq would died flu',\n",
       " 'today covid update global cases deaths eu eea uk cases deaths find info latest rapidriskassessment sarscov',\n",
       " 'effects twexit important today coronavirus flu say others see death covid amp squirm drug amp vaccine lacking covid pandemic threat humanity relax lockdown segregate',\n",
       " 'combating misinformation coronavirus worse flu covid flu please click link',\n",
       " 'today covid update global cases deaths eu eea uk cases deaths find info latest rapidriskassessment sarscov',\n",
       " 'nehalmangrio mraffaev sherryrehman saleem dr know normal flu govt get return declaring someone covid positive',\n",
       " 'realdonaldtrump lie say covid virus names nope coronavirus covid never heard name called flu deadly spreads faster hope get may thing conveniences',\n",
       " 'five months since first covid case confirmed united states average flu season u lasts five months wanted know coronavirus compare flu really worse found',\n",
       " 'still saying flu worse sorry wrong mortality higher covid every age category chd achd',\n",
       " 'open smartnews read coronavirus death rate us almost times higher flu see compare age bracket coronavirus covid pandemic',\n",
       " 'two questions matter covid coronavirus total positive tests irrelevant point tens millions americans likely get spreads quickly flu cold impossible stop reasonable approach',\n",
       " 'realdonaldtrump team gone damage control two words us leader used describe coronavirus',\n",
       " 'thailand world first coronavirus case outside china avoided disaster time ditch tradition handshake note ordinary flu numbers also dropped dramatically covid auspol lnpfail',\n",
       " 'coronavirus death rate us almost times higher flu see compare age bracket terrifying please wear facemask smartnews coronavirus covid facemasks flu',\n",
       " 'think living black death clearly people compare virus spanish flu figures even close epidemic coronavirus spanishflu covid worldsgonemad reality outbreak perspective',\n",
       " 'guatemala hundreds people dying gt covid people disrespect suffering deny science call simple flu go party insult doctors amp demonstrate streets saying political conspiracy aberrant ignorance coronavirus',\n",
       " 'thehill matter time go back lockdown realdonaldtrump whitehouse please wait flu season coronavirus covid mixed w everything flu like cause total lockdown everything amp everyone months well feb march',\n",
       " 'still confused difference flu covid case death rate flu death rate test positive coronavirus death rate graph shows death rates age group',\n",
       " 'oxford covid vaccine track october release ahead flu season good results watch eu claim found covid vaccine',\n",
       " 'coronainfoch covid covid us death rate corona',\n",
       " 'early coronavirus infection rate us may times initially thought finds study read find covid coronaviruspandemic flu',\n",
       " 'darkvader pluna breaking dcgrandma calicoco flu influenza scientific name orthomyxoviridae coronavirus different altogether one causes sars cold troll covidiots covid',\n",
       " 'johnjharwood cillizzacnn john cases matter hospitalizations nobody sits around frets catching flu newsworthy sends hospital grave covid coronavirus',\n",
       " 'presssec kayleighmcenany says trump racist call covid kungflu presssec also racist via mailonline',\n",
       " 'ruby princess inquiry hears passenger diagnosed flu days died coronavirus',\n",
       " 'ruby princess passenger diagnosed flu days coronavirus death inquiry hears absolute cluster princess amp dutton auspol covid aus rubyprincess',\n",
       " 'ruby princess passenger diagnosed flu days coronavirus death inquiry hears',\n",
       " 'axios today marks days since last mlb nba nfl nhl game longest drought since fall world series held september amid wwi spanish flu coronavirus covid nosports',\n",
       " 'covid cases rising million week wordwide approaching trajectory flu pandemic worrisome cdnpoli',\n",
       " 'symptoms experienced allergy sufferers similar covid osuwexmed allergist kara wada highlights differences two prevent',\n",
       " 'one worrying stories yet coronavirus know possible long term effects spare thought populist leaders called covid little flu',\n",
       " 'ruby princess passenger diagnosed flu days coronavirus death inquiry hears',\n",
       " 'doubt given flare ups korea china amp germany moment amp weeks ahead us come autumn winter things flare decide flu covid via',\n",
       " 'sick daughter screened covid test easy two second swab amp done words yo toddler could like flu swab fear test need covidtesting coronavirus',\n",
       " 'covid cases harris county continued rise recent weeks things know coronavirus symptoms symptoms coronavirus similar flu bad cold symptoms include fever',\n",
       " 'exponential growth hard humans understand flu kills thousands lok types data visualisation helps comprehension fails covid coronavirus',\n",
       " 'california continues lift restrictions amid covid dr gary green shares thoughts family gatherings difference coronavirus amp flu amp help keep family safe summer northbaynews story',\n",
       " 'julie merlot greenfield stefunny people infected sars cov fatal outcome recover fatality rate flu typically mortality rate covid times higher higher case need help math',\n",
       " 'looking global picture like flu would ordinarily expect places children intense epidemics rozeggo discusses susceptibility children covid npr',\n",
       " 'brazil reported thousand deaths one million cases president jair bolsonaro called coronavirus little flu clashed state local authorities stay home measures business closures covid',\n",
       " 'rebelfd mackayim serious statement combining mortality rate communicability kills less flu cdc estimated people died flu last months us see anyone calling lethal',\n",
       " 'keep mind see scare stories coronavirus cdc estimates flu killed least people season ask think hearing anything outbreak taking place western europe',\n",
       " 'dococtplays flu like virus jumped animals humans began central city wuhan spread far us pretty sure saw reportedly came started seafood market',\n",
       " 'mrsdriscoll concentration camps force injected medical procedure flu eat healthy get exercise fine coronavirus scam make pharmaceuticals money cdc already vaccine',\n",
       " 'jus let corona virus shit go yall wash hands regularly avoid contact hands eyes inside nose mouth simple likely gonna fall map months anyway like ebola bird flu rabies epidemic',\n",
       " 'wuhan virus corona virus sars virus ebola virus us cdc patents agenda trending spanish flu killed million black plague killed million love island eastenders etc china shut new year',\n",
       " 'great mvankerkhove ihr stresses imported cases secondary cases means wuhan ncov coronavirus spreading like one would see flu common cold course sars',\n",
       " 'benhockey msnbc realdonaldtrump falling scare mongering try comparing china epidemic flu',\n",
       " 'hks seem lethal reminds alot swine flu epidemic',\n",
       " 'note numbers seasonal flu ncov believe',\n",
       " 'reutersbiz yeah profit far outweighs possible death control epidemic new strains deadly flu virus',\n",
       " 'rogue ala right media loves scaring folks remember sars actually low fatality rate compared regular flu new flu covered like epidemic',\n",
       " 'milenarodban considering cdc estimates average people die annually common influenza wuhan least worries',\n",
       " 'mean cold thousands die flu year amp everyone gets bent shape another virus appears small number die coronavirus opposed infected flu',\n",
       " 'somehow wuhancoronavirus reminded k movie named flu',\n",
       " 'juliemason cdc says people died regular flu forget coronavirus',\n",
       " 'nicegoingadam msnbc like example right called flu way deadly',\n",
       " 'os breitbartnews bull shit creating problem minor flu bug hysteria makes good money pharmaceuticals another vaccine may cause worse illness cdc vaccine already hmmmm',\n",
       " 'transcript telecall press briefing yesterday coronovirus ncov remember flu season period deadly enough use good hand respiratory measures',\n",
       " 'think may already hit uk latest flu virus lasting long making many people ill plus symptoms including respiratory issues ill flu',\n",
       " 'flutrackers global ncov case list calculate cases china amp deaths incl reported hong kong case list continuously updated best keep evolving situation h team flutrackers',\n",
       " 'whitehouse everyone please careful flu season bring new flu virus cdc called new virus gop stay away much',\n",
       " 'motomom get whipped frenzy think clearly people die flu time cdc attaches numbers latest outbreak give name maybe real thing happens every years sars h n hysterical people easily controlled',\n",
       " 'msnbc cdc estimates least flu deaths far season seems like trying scare bunch people basically nothing sure anything china bad',\n",
       " 'love opens usually quite effective story hear flu shot every single year',\n",
       " 'jimmie luke iza hotepjesus go ahead get flu vaccine get sick immediately blame something else blind see obviously corrupt malevolent cdc vaccine industry yes effective cost cost necessary',\n",
       " 'ncov coronavirus scary let put things perspective caused thus far gt cases amp deaths influenza season alone us million cases deaths u get flushot worried ncov coronavirus wef',\n",
       " 'everyone mild freak coronavirus worth pointing cdc says people died flu far year million million people infected flu virus',\n",
       " 'get hysterical wuhan virus quick reminder perspective flu related deaths us topped cdc says',\n",
       " 'goldfin liyuan nytimes influenza flu killing wuhancoronavirus new always mean lethal cautious yes overly pessimistic sad see media outlets using natural human crisis political end',\n",
       " 'put context around one every develop flu die giving death rate ncov death rate could similar spanish flu professor neil ferguson imperial college london said',\n",
       " 'acosta evening cases ncov wuhan may symptomatic cases patients died underlying conditions keep eye ball year flu season',\n",
       " 'first confirmed case wuhan coronavirus u washington state resident recently traveled wuhan china disease many symptoms flu also widely prevalent time year',\n",
       " 'first confirmed case wuhan coronavirus u washington state resident recently traveled wuhan china disease many symptoms flu also widely prevalent time year',\n",
       " 'china coronavirus death rate spanish flu pandemic killed people ncov death rate around similar spanish flu professor neil ferguson imperial college london said',\n",
       " 'wuhan flu pretty scary particularly cny round corner mass migration nowhere really safe wuhancoronavirus',\n",
       " 'cdcgov cdcemergency cdc ehealth cdcflu europe unitednationsgh un enable coronavirus spreading mutating adapting countries across continents international health emergency international quarantine protocols needs declared pandemic',\n",
       " 'wuhan coronavirus respiratory illness many symptoms flu also widely prevalent time year learn information disease including stay protected blog',\n",
       " 'new flu like coronavirus epidemic spreading worldwide man washington state seems first us case',\n",
       " 'flu viruses jumping pandemics epidemiologic shifts virus mutations vaccinology showcased world wakes ncov relative sars merscov number ncov cases gt deaths case confirmed',\n",
       " 'rebelfd mackayim ones died already serious illness estimated amount last week mortality rate pct understand statistics infection many mild cases get reported cdc estimates flu deaths also based statistical sampling',\n",
       " 'easy detect count cases since annual flu epidemic symptoms similar hand wuhan council health website publishing live numbers affected people seems unthinkable europe',\n",
       " 'subjective flu like symptoms common presentation suspect ncov days symptom onset patient history travel wuhan city china close contact person investigation ncov person ill',\n",
       " 'yow scare novel coronavirus ncov plus dinagyang fast approaching u imagine influx tourists want cause panic pls practice frequent handwashing proper cough etiquette']"
      ]
     },
     "execution_count": 33,
     "metadata": {},
     "output_type": "execute_result"
    }
   ],
   "source": [
    "preprocessed_tweets"
   ]
  },
  {
   "cell_type": "code",
   "execution_count": null,
   "metadata": {},
   "outputs": [],
   "source": [
    "f2=df['burl'].values\n",
    "f2 = np.expand_dims(f2, axis=1)\n",
    "f3=df['bhashtag'].values\n",
    "f3 = np.expand_dims(f3, axis=1)\n",
    "\n",
    "from sklearn import preprocessing\n",
    "\n",
    "f4 = df[['#retweets']].values #returns a numpy array\n",
    "print(f4.shape)\n",
    "min_max_scaler = preprocessing.MinMaxScaler()\n",
    "f4= min_max_scaler.fit_transform(f4)\n",
    "f5 = df[['#favorites']].values #returns a numpy array\n",
    "min_max_scaler = preprocessing.MinMaxScaler()\n",
    "f5= min_max_scaler.fit_transform(f5)"
   ]
  },
  {
   "cell_type": "code",
   "execution_count": null,
   "metadata": {},
   "outputs": [],
   "source": []
  },
  {
   "cell_type": "markdown",
   "metadata": {},
   "source": [
    "# Bigram Feature:"
   ]
  },
  {
   "cell_type": "code",
   "execution_count": 34,
   "metadata": {},
   "outputs": [],
   "source": [
    "from sklearn.feature_extraction.text import CountVectorizer\n",
    "bigram_vectorizer = CountVectorizer(analyzer='word',ngram_range=(2, 2))\n",
    "X3 = bigram_vectorizer.fit_transform(preprocessed_tweets).toarray()\n",
    "scaler = StandardScaler()\n",
    "scaler.fit(X3)\n",
    "X3 = scaler.transform(X3)"
   ]
  },
  {
   "cell_type": "code",
   "execution_count": 35,
   "metadata": {},
   "outputs": [
    {
     "data": {
      "text/plain": [
       "(418, 6319)"
      ]
     },
     "execution_count": 35,
     "metadata": {},
     "output_type": "execute_result"
    }
   ],
   "source": [
    "X3.shape"
   ]
  },
  {
   "cell_type": "markdown",
   "metadata": {},
   "source": [
    "# POS feature"
   ]
  },
  {
   "cell_type": "code",
   "execution_count": 36,
   "metadata": {},
   "outputs": [
    {
     "name": "stderr",
     "output_type": "stream",
     "text": [
      "[nltk_data] Downloading package averaged_perceptron_tagger to\n",
      "[nltk_data]     C:\\Users\\nazan\\AppData\\Roaming\\nltk_data...\n",
      "[nltk_data]   Package averaged_perceptron_tagger is already up-to-\n",
      "[nltk_data]       date!\n"
     ]
    }
   ],
   "source": [
    "from nltk.tag import pos_tag\n",
    "nltk.download('averaged_perceptron_tagger')\n",
    "from collections import Counter\n",
    "df['token'] = df.apply(lambda row: nltk.word_tokenize(row['tweet']), axis=1)\n",
    "df['pos_tags'] = df.apply(lambda row: nltk.pos_tag(row['token']), axis=1)\n",
    "\n",
    "tag_count_df = pd.DataFrame(df['pos_tags'].map(lambda x: Counter(tag[1] for tag in x)).to_list())\n",
    "tag_count_df=tag_count_df.fillna(0)\n",
    "# df = pd.concat([df, tag_count_df], axis=1).fillna(0).drop(['pos_tags', 'token'], axis=1)\n",
    "df=df.drop(['pos_tags', 'token'], axis=1)\n",
    "X4 = tag_count_df\n",
    "\n",
    "scaler.fit(X4)\n",
    "X4 = scaler.transform(X4)"
   ]
  },
  {
   "cell_type": "code",
   "execution_count": 54,
   "metadata": {},
   "outputs": [],
   "source": [
    "X5=np.concatenate((f1,X4),axis=1)\n",
    "X6=np.concatenate((X3,X4),axis=1)"
   ]
  },
  {
   "cell_type": "markdown",
   "metadata": {},
   "source": [
    "# Training decision tree"
   ]
  },
  {
   "cell_type": "code",
   "execution_count": null,
   "metadata": {},
   "outputs": [],
   "source": [
    "dt=DecisionTree(RSEED=50,MAX_DEPTH=20)"
   ]
  },
  {
   "cell_type": "markdown",
   "metadata": {},
   "source": [
    "# Logistic Regression"
   ]
  },
  {
   "cell_type": "code",
   "execution_count": 44,
   "metadata": {},
   "outputs": [],
   "source": [
    "lrc=LRegression()"
   ]
  },
  {
   "cell_type": "code",
   "execution_count": 55,
   "metadata": {},
   "outputs": [],
   "source": [
    "def experiment(feature_set,model):\n",
    "    X=0\n",
    "    y=df['label'].values\n",
    "    if feature_set==\"BOW\":\n",
    "        print(\"BOW\")\n",
    "        print()\n",
    "        X=f1\n",
    "        indices = np.arange(len(X))\n",
    "        y=df['label'].values\n",
    "    if feature_set==\"BIGRAM\":\n",
    "        print(\"BIGRAM\")\n",
    "        print()\n",
    "        X=X3\n",
    "        indices = np.arange(len(X))\n",
    "        y=df['label'].values\n",
    "    if feature_set==\"POS\":\n",
    "        print(\"POS\")\n",
    "        print()\n",
    "        X=X4\n",
    "        indices = np.arange(len(X))\n",
    "        y=df['label'].values\n",
    "    if feature_set==\"posbow\":\n",
    "        print(\"POS+BOW\")\n",
    "        print()\n",
    "        X=X5\n",
    "        indices = np.arange(len(X))\n",
    "    if feature_set==\"posbigram\":\n",
    "        print(\"POS+BIGRAM\")\n",
    "        print()\n",
    "        X=X6\n",
    "        indices = np.arange(len(X)) \n",
    "        \n",
    "    if model==svm:\n",
    "        svm.train(X,y)\n",
    "    else:\n",
    "        clf,test_X, y_test,y_train,train_X=model.train(X,y)\n",
    "        y_test,predictions=model.evaluate(clf,test_X, y_test,y_train,train_X)\n",
    "        cm = confusion_matrix(y_test, predictions)\n",
    "        print(feature_set)\n",
    "        print()\n",
    "        print()\n",
    "        plot_confusion_matrix(cm, classes = ['Fake', 'True'],\n",
    "                                    title = 'Misinformation Confusion Matrix')\n",
    "    \n",
    "    "
   ]
  },
  {
   "cell_type": "code",
   "execution_count": 52,
   "metadata": {},
   "outputs": [],
   "source": [
    "from sklearn.metrics import confusion_matrix\n",
    "def plot_confusion_matrix(cm, classes,\n",
    "                            normalize=False,\n",
    "                            title='Confusion matrix',\n",
    "                            cmap=plt.cm.Oranges):\n",
    "        \"\"\"\n",
    "        This function prints and plots the confusion matrix.\n",
    "        Normalization can be applied by setting `normalize=True`.\n",
    "        Source: http://scikit-learn.org/stable/auto_examples/model_selection/plot_confusion_matrix.html\n",
    "        \"\"\"\n",
    "        if normalize:\n",
    "            cm = cm.astype('float') / cm.sum(axis=1)[:, np.newaxis]\n",
    "            print(\"Normalized confusion matrix\")\n",
    "        else:\n",
    "            print('Confusion matrix, without normalization')\n",
    "\n",
    "        print(cm)\n",
    "\n",
    "        plt.figure(figsize = (10, 10))\n",
    "        plt.imshow(cm, interpolation='nearest', cmap=cmap)\n",
    "        plt.title(title, size = 24)\n",
    "        plt.colorbar(aspect=4)\n",
    "        tick_marks = np.arange(len(classes))\n",
    "        plt.xticks(tick_marks, classes, rotation=45, size = 14)\n",
    "        plt.yticks(tick_marks, classes, size = 14)\n",
    "\n",
    "        fmt = '.2f' if normalize else 'd'\n",
    "        thresh = cm.max() / 2.\n",
    "        \n",
    "        # Labeling the plot\n",
    "        for i, j in itertools.product(range(cm.shape[0]), range(cm.shape[1])):\n",
    "            plt.text(j, i, format(cm[i, j], fmt), fontsize = 20,\n",
    "                    horizontalalignment=\"center\",\n",
    "                    color=\"white\" if cm[i, j] > thresh else \"black\")\n",
    "            \n",
    "        plt.grid(None)\n",
    "        plt.tight_layout()\n",
    "        plt.ylabel('Real label', size = 18)\n",
    "        plt.xlabel('Predicted label', size = 18)"
   ]
  },
  {
   "cell_type": "code",
   "execution_count": 56,
   "metadata": {},
   "outputs": [
    {
     "name": "stdout",
     "output_type": "stream",
     "text": [
      "-------------\n",
      "SVM\n",
      "-------------\n",
      "POS+BIGRAM\n",
      "\n",
      "[0.38095238 0.52380952 0.61904762 0.42857143 0.5        0.5\n",
      " 0.64285714 0.61904762 0.65853659 0.34146341]\n",
      "0.5214285714285715\n"
     ]
    },
    {
     "data": {
      "application/vnd.plotly.v1+json": {
       "config": {
        "plotlyServerURL": "https://plot.ly"
       },
       "data": [
        {
         "type": "scatter",
         "x": [
          1,
          2,
          3,
          4,
          5,
          6,
          7,
          8,
          9,
          10,
          11,
          12,
          13,
          14,
          15,
          16,
          17,
          18,
          19,
          20,
          21,
          22,
          23,
          24,
          25
         ],
         "y": [
          0.5214285714285715,
          0.5189895470383276,
          0.5189895470383276,
          0.5189895470383276,
          0.5189895470383276,
          0.5214285714285715,
          0.5214285714285715,
          0.5214285714285715,
          0.5190476190476191,
          0.5190476190476191,
          0.5190476190476191,
          0.5214285714285715,
          0.5214285714285715,
          0.5214285714285715,
          0.5214285714285715,
          0.5214285714285715,
          0.5214285714285715,
          0.5214285714285715,
          0.5214285714285715,
          0.5190476190476191,
          0.5190476190476191,
          0.5190476190476191,
          0.5190476190476191,
          0.5238095238095238,
          0.5190476190476191
         ]
        }
       ],
       "layout": {
        "template": {
         "data": {
          "bar": [
           {
            "error_x": {
             "color": "#2a3f5f"
            },
            "error_y": {
             "color": "#2a3f5f"
            },
            "marker": {
             "line": {
              "color": "white",
              "width": 0.5
             }
            },
            "type": "bar"
           }
          ],
          "barpolar": [
           {
            "marker": {
             "line": {
              "color": "white",
              "width": 0.5
             }
            },
            "type": "barpolar"
           }
          ],
          "carpet": [
           {
            "aaxis": {
             "endlinecolor": "#2a3f5f",
             "gridcolor": "#C8D4E3",
             "linecolor": "#C8D4E3",
             "minorgridcolor": "#C8D4E3",
             "startlinecolor": "#2a3f5f"
            },
            "baxis": {
             "endlinecolor": "#2a3f5f",
             "gridcolor": "#C8D4E3",
             "linecolor": "#C8D4E3",
             "minorgridcolor": "#C8D4E3",
             "startlinecolor": "#2a3f5f"
            },
            "type": "carpet"
           }
          ],
          "choropleth": [
           {
            "colorbar": {
             "outlinewidth": 0,
             "ticks": ""
            },
            "type": "choropleth"
           }
          ],
          "contour": [
           {
            "colorbar": {
             "outlinewidth": 0,
             "ticks": ""
            },
            "colorscale": [
             [
              0,
              "#0d0887"
             ],
             [
              0.1111111111111111,
              "#46039f"
             ],
             [
              0.2222222222222222,
              "#7201a8"
             ],
             [
              0.3333333333333333,
              "#9c179e"
             ],
             [
              0.4444444444444444,
              "#bd3786"
             ],
             [
              0.5555555555555556,
              "#d8576b"
             ],
             [
              0.6666666666666666,
              "#ed7953"
             ],
             [
              0.7777777777777778,
              "#fb9f3a"
             ],
             [
              0.8888888888888888,
              "#fdca26"
             ],
             [
              1,
              "#f0f921"
             ]
            ],
            "type": "contour"
           }
          ],
          "contourcarpet": [
           {
            "colorbar": {
             "outlinewidth": 0,
             "ticks": ""
            },
            "type": "contourcarpet"
           }
          ],
          "heatmap": [
           {
            "colorbar": {
             "outlinewidth": 0,
             "ticks": ""
            },
            "colorscale": [
             [
              0,
              "#0d0887"
             ],
             [
              0.1111111111111111,
              "#46039f"
             ],
             [
              0.2222222222222222,
              "#7201a8"
             ],
             [
              0.3333333333333333,
              "#9c179e"
             ],
             [
              0.4444444444444444,
              "#bd3786"
             ],
             [
              0.5555555555555556,
              "#d8576b"
             ],
             [
              0.6666666666666666,
              "#ed7953"
             ],
             [
              0.7777777777777778,
              "#fb9f3a"
             ],
             [
              0.8888888888888888,
              "#fdca26"
             ],
             [
              1,
              "#f0f921"
             ]
            ],
            "type": "heatmap"
           }
          ],
          "heatmapgl": [
           {
            "colorbar": {
             "outlinewidth": 0,
             "ticks": ""
            },
            "colorscale": [
             [
              0,
              "#0d0887"
             ],
             [
              0.1111111111111111,
              "#46039f"
             ],
             [
              0.2222222222222222,
              "#7201a8"
             ],
             [
              0.3333333333333333,
              "#9c179e"
             ],
             [
              0.4444444444444444,
              "#bd3786"
             ],
             [
              0.5555555555555556,
              "#d8576b"
             ],
             [
              0.6666666666666666,
              "#ed7953"
             ],
             [
              0.7777777777777778,
              "#fb9f3a"
             ],
             [
              0.8888888888888888,
              "#fdca26"
             ],
             [
              1,
              "#f0f921"
             ]
            ],
            "type": "heatmapgl"
           }
          ],
          "histogram": [
           {
            "marker": {
             "colorbar": {
              "outlinewidth": 0,
              "ticks": ""
             }
            },
            "type": "histogram"
           }
          ],
          "histogram2d": [
           {
            "colorbar": {
             "outlinewidth": 0,
             "ticks": ""
            },
            "colorscale": [
             [
              0,
              "#0d0887"
             ],
             [
              0.1111111111111111,
              "#46039f"
             ],
             [
              0.2222222222222222,
              "#7201a8"
             ],
             [
              0.3333333333333333,
              "#9c179e"
             ],
             [
              0.4444444444444444,
              "#bd3786"
             ],
             [
              0.5555555555555556,
              "#d8576b"
             ],
             [
              0.6666666666666666,
              "#ed7953"
             ],
             [
              0.7777777777777778,
              "#fb9f3a"
             ],
             [
              0.8888888888888888,
              "#fdca26"
             ],
             [
              1,
              "#f0f921"
             ]
            ],
            "type": "histogram2d"
           }
          ],
          "histogram2dcontour": [
           {
            "colorbar": {
             "outlinewidth": 0,
             "ticks": ""
            },
            "colorscale": [
             [
              0,
              "#0d0887"
             ],
             [
              0.1111111111111111,
              "#46039f"
             ],
             [
              0.2222222222222222,
              "#7201a8"
             ],
             [
              0.3333333333333333,
              "#9c179e"
             ],
             [
              0.4444444444444444,
              "#bd3786"
             ],
             [
              0.5555555555555556,
              "#d8576b"
             ],
             [
              0.6666666666666666,
              "#ed7953"
             ],
             [
              0.7777777777777778,
              "#fb9f3a"
             ],
             [
              0.8888888888888888,
              "#fdca26"
             ],
             [
              1,
              "#f0f921"
             ]
            ],
            "type": "histogram2dcontour"
           }
          ],
          "mesh3d": [
           {
            "colorbar": {
             "outlinewidth": 0,
             "ticks": ""
            },
            "type": "mesh3d"
           }
          ],
          "parcoords": [
           {
            "line": {
             "colorbar": {
              "outlinewidth": 0,
              "ticks": ""
             }
            },
            "type": "parcoords"
           }
          ],
          "pie": [
           {
            "automargin": true,
            "type": "pie"
           }
          ],
          "scatter": [
           {
            "marker": {
             "colorbar": {
              "outlinewidth": 0,
              "ticks": ""
             }
            },
            "type": "scatter"
           }
          ],
          "scatter3d": [
           {
            "line": {
             "colorbar": {
              "outlinewidth": 0,
              "ticks": ""
             }
            },
            "marker": {
             "colorbar": {
              "outlinewidth": 0,
              "ticks": ""
             }
            },
            "type": "scatter3d"
           }
          ],
          "scattercarpet": [
           {
            "marker": {
             "colorbar": {
              "outlinewidth": 0,
              "ticks": ""
             }
            },
            "type": "scattercarpet"
           }
          ],
          "scattergeo": [
           {
            "marker": {
             "colorbar": {
              "outlinewidth": 0,
              "ticks": ""
             }
            },
            "type": "scattergeo"
           }
          ],
          "scattergl": [
           {
            "marker": {
             "colorbar": {
              "outlinewidth": 0,
              "ticks": ""
             }
            },
            "type": "scattergl"
           }
          ],
          "scattermapbox": [
           {
            "marker": {
             "colorbar": {
              "outlinewidth": 0,
              "ticks": ""
             }
            },
            "type": "scattermapbox"
           }
          ],
          "scatterpolar": [
           {
            "marker": {
             "colorbar": {
              "outlinewidth": 0,
              "ticks": ""
             }
            },
            "type": "scatterpolar"
           }
          ],
          "scatterpolargl": [
           {
            "marker": {
             "colorbar": {
              "outlinewidth": 0,
              "ticks": ""
             }
            },
            "type": "scatterpolargl"
           }
          ],
          "scatterternary": [
           {
            "marker": {
             "colorbar": {
              "outlinewidth": 0,
              "ticks": ""
             }
            },
            "type": "scatterternary"
           }
          ],
          "surface": [
           {
            "colorbar": {
             "outlinewidth": 0,
             "ticks": ""
            },
            "colorscale": [
             [
              0,
              "#0d0887"
             ],
             [
              0.1111111111111111,
              "#46039f"
             ],
             [
              0.2222222222222222,
              "#7201a8"
             ],
             [
              0.3333333333333333,
              "#9c179e"
             ],
             [
              0.4444444444444444,
              "#bd3786"
             ],
             [
              0.5555555555555556,
              "#d8576b"
             ],
             [
              0.6666666666666666,
              "#ed7953"
             ],
             [
              0.7777777777777778,
              "#fb9f3a"
             ],
             [
              0.8888888888888888,
              "#fdca26"
             ],
             [
              1,
              "#f0f921"
             ]
            ],
            "type": "surface"
           }
          ],
          "table": [
           {
            "cells": {
             "fill": {
              "color": "#EBF0F8"
             },
             "line": {
              "color": "white"
             }
            },
            "header": {
             "fill": {
              "color": "#C8D4E3"
             },
             "line": {
              "color": "white"
             }
            },
            "type": "table"
           }
          ]
         },
         "layout": {
          "annotationdefaults": {
           "arrowcolor": "#2a3f5f",
           "arrowhead": 0,
           "arrowwidth": 1
          },
          "coloraxis": {
           "colorbar": {
            "outlinewidth": 0,
            "ticks": ""
           }
          },
          "colorscale": {
           "diverging": [
            [
             0,
             "#8e0152"
            ],
            [
             0.1,
             "#c51b7d"
            ],
            [
             0.2,
             "#de77ae"
            ],
            [
             0.3,
             "#f1b6da"
            ],
            [
             0.4,
             "#fde0ef"
            ],
            [
             0.5,
             "#f7f7f7"
            ],
            [
             0.6,
             "#e6f5d0"
            ],
            [
             0.7,
             "#b8e186"
            ],
            [
             0.8,
             "#7fbc41"
            ],
            [
             0.9,
             "#4d9221"
            ],
            [
             1,
             "#276419"
            ]
           ],
           "sequential": [
            [
             0,
             "#0d0887"
            ],
            [
             0.1111111111111111,
             "#46039f"
            ],
            [
             0.2222222222222222,
             "#7201a8"
            ],
            [
             0.3333333333333333,
             "#9c179e"
            ],
            [
             0.4444444444444444,
             "#bd3786"
            ],
            [
             0.5555555555555556,
             "#d8576b"
            ],
            [
             0.6666666666666666,
             "#ed7953"
            ],
            [
             0.7777777777777778,
             "#fb9f3a"
            ],
            [
             0.8888888888888888,
             "#fdca26"
            ],
            [
             1,
             "#f0f921"
            ]
           ],
           "sequentialminus": [
            [
             0,
             "#0d0887"
            ],
            [
             0.1111111111111111,
             "#46039f"
            ],
            [
             0.2222222222222222,
             "#7201a8"
            ],
            [
             0.3333333333333333,
             "#9c179e"
            ],
            [
             0.4444444444444444,
             "#bd3786"
            ],
            [
             0.5555555555555556,
             "#d8576b"
            ],
            [
             0.6666666666666666,
             "#ed7953"
            ],
            [
             0.7777777777777778,
             "#fb9f3a"
            ],
            [
             0.8888888888888888,
             "#fdca26"
            ],
            [
             1,
             "#f0f921"
            ]
           ]
          },
          "colorway": [
           "#636efa",
           "#EF553B",
           "#00cc96",
           "#ab63fa",
           "#FFA15A",
           "#19d3f3",
           "#FF6692",
           "#B6E880",
           "#FF97FF",
           "#FECB52"
          ],
          "font": {
           "color": "#2a3f5f"
          },
          "geo": {
           "bgcolor": "white",
           "lakecolor": "white",
           "landcolor": "white",
           "showlakes": true,
           "showland": true,
           "subunitcolor": "#C8D4E3"
          },
          "hoverlabel": {
           "align": "left"
          },
          "hovermode": "closest",
          "mapbox": {
           "style": "light"
          },
          "paper_bgcolor": "white",
          "plot_bgcolor": "white",
          "polar": {
           "angularaxis": {
            "gridcolor": "#EBF0F8",
            "linecolor": "#EBF0F8",
            "ticks": ""
           },
           "bgcolor": "white",
           "radialaxis": {
            "gridcolor": "#EBF0F8",
            "linecolor": "#EBF0F8",
            "ticks": ""
           }
          },
          "scene": {
           "xaxis": {
            "backgroundcolor": "white",
            "gridcolor": "#DFE8F3",
            "gridwidth": 2,
            "linecolor": "#EBF0F8",
            "showbackground": true,
            "ticks": "",
            "zerolinecolor": "#EBF0F8"
           },
           "yaxis": {
            "backgroundcolor": "white",
            "gridcolor": "#DFE8F3",
            "gridwidth": 2,
            "linecolor": "#EBF0F8",
            "showbackground": true,
            "ticks": "",
            "zerolinecolor": "#EBF0F8"
           },
           "zaxis": {
            "backgroundcolor": "white",
            "gridcolor": "#DFE8F3",
            "gridwidth": 2,
            "linecolor": "#EBF0F8",
            "showbackground": true,
            "ticks": "",
            "zerolinecolor": "#EBF0F8"
           }
          },
          "shapedefaults": {
           "line": {
            "color": "#2a3f5f"
           }
          },
          "ternary": {
           "aaxis": {
            "gridcolor": "#DFE8F3",
            "linecolor": "#A2B1C6",
            "ticks": ""
           },
           "baxis": {
            "gridcolor": "#DFE8F3",
            "linecolor": "#A2B1C6",
            "ticks": ""
           },
           "bgcolor": "white",
           "caxis": {
            "gridcolor": "#DFE8F3",
            "linecolor": "#A2B1C6",
            "ticks": ""
           }
          },
          "title": {
           "x": 0.05
          },
          "xaxis": {
           "automargin": true,
           "gridcolor": "#EBF0F8",
           "linecolor": "#EBF0F8",
           "ticks": "",
           "title": {
            "standoff": 15
           },
           "zerolinecolor": "#EBF0F8",
           "zerolinewidth": 2
          },
          "yaxis": {
           "automargin": true,
           "gridcolor": "#EBF0F8",
           "linecolor": "#EBF0F8",
           "ticks": "",
           "title": {
            "standoff": 15
           },
           "zerolinecolor": "#EBF0F8",
           "zerolinewidth": 2
          }
         }
        },
        "xaxis": {
         "dtick": 1,
         "title": {
          "text": "Value of C for SVC"
         }
        },
        "yaxis": {
         "title": {
          "text": "Cross Validated Accuracy"
         }
        }
       }
      },
      "text/html": [
       "<div>\n",
       "        \n",
       "        \n",
       "            <div id=\"1444c54d-f264-4fb1-8bfb-81592c821e39\" class=\"plotly-graph-div\" style=\"height:525px; width:100%;\"></div>\n",
       "            <script type=\"text/javascript\">\n",
       "                require([\"plotly\"], function(Plotly) {\n",
       "                    window.PLOTLYENV=window.PLOTLYENV || {};\n",
       "                    \n",
       "                if (document.getElementById(\"1444c54d-f264-4fb1-8bfb-81592c821e39\")) {\n",
       "                    Plotly.newPlot(\n",
       "                        '1444c54d-f264-4fb1-8bfb-81592c821e39',\n",
       "                        [{\"type\": \"scatter\", \"x\": [1, 2, 3, 4, 5, 6, 7, 8, 9, 10, 11, 12, 13, 14, 15, 16, 17, 18, 19, 20, 21, 22, 23, 24, 25], \"y\": [0.5214285714285715, 0.5189895470383276, 0.5189895470383276, 0.5189895470383276, 0.5189895470383276, 0.5214285714285715, 0.5214285714285715, 0.5214285714285715, 0.5190476190476191, 0.5190476190476191, 0.5190476190476191, 0.5214285714285715, 0.5214285714285715, 0.5214285714285715, 0.5214285714285715, 0.5214285714285715, 0.5214285714285715, 0.5214285714285715, 0.5214285714285715, 0.5190476190476191, 0.5190476190476191, 0.5190476190476191, 0.5190476190476191, 0.5238095238095238, 0.5190476190476191]}],\n",
       "                        {\"template\": {\"data\": {\"bar\": [{\"error_x\": {\"color\": \"#2a3f5f\"}, \"error_y\": {\"color\": \"#2a3f5f\"}, \"marker\": {\"line\": {\"color\": \"white\", \"width\": 0.5}}, \"type\": \"bar\"}], \"barpolar\": [{\"marker\": {\"line\": {\"color\": \"white\", \"width\": 0.5}}, \"type\": \"barpolar\"}], \"carpet\": [{\"aaxis\": {\"endlinecolor\": \"#2a3f5f\", \"gridcolor\": \"#C8D4E3\", \"linecolor\": \"#C8D4E3\", \"minorgridcolor\": \"#C8D4E3\", \"startlinecolor\": \"#2a3f5f\"}, \"baxis\": {\"endlinecolor\": \"#2a3f5f\", \"gridcolor\": \"#C8D4E3\", \"linecolor\": \"#C8D4E3\", \"minorgridcolor\": \"#C8D4E3\", \"startlinecolor\": \"#2a3f5f\"}, \"type\": \"carpet\"}], \"choropleth\": [{\"colorbar\": {\"outlinewidth\": 0, \"ticks\": \"\"}, \"type\": \"choropleth\"}], \"contour\": [{\"colorbar\": {\"outlinewidth\": 0, \"ticks\": \"\"}, \"colorscale\": [[0.0, \"#0d0887\"], [0.1111111111111111, \"#46039f\"], [0.2222222222222222, \"#7201a8\"], [0.3333333333333333, \"#9c179e\"], [0.4444444444444444, \"#bd3786\"], [0.5555555555555556, \"#d8576b\"], [0.6666666666666666, \"#ed7953\"], [0.7777777777777778, \"#fb9f3a\"], [0.8888888888888888, \"#fdca26\"], [1.0, \"#f0f921\"]], \"type\": \"contour\"}], \"contourcarpet\": [{\"colorbar\": {\"outlinewidth\": 0, \"ticks\": \"\"}, \"type\": \"contourcarpet\"}], \"heatmap\": [{\"colorbar\": {\"outlinewidth\": 0, \"ticks\": \"\"}, \"colorscale\": [[0.0, \"#0d0887\"], [0.1111111111111111, \"#46039f\"], [0.2222222222222222, \"#7201a8\"], [0.3333333333333333, \"#9c179e\"], [0.4444444444444444, \"#bd3786\"], [0.5555555555555556, \"#d8576b\"], [0.6666666666666666, \"#ed7953\"], [0.7777777777777778, \"#fb9f3a\"], [0.8888888888888888, \"#fdca26\"], [1.0, \"#f0f921\"]], \"type\": \"heatmap\"}], \"heatmapgl\": [{\"colorbar\": {\"outlinewidth\": 0, \"ticks\": \"\"}, \"colorscale\": [[0.0, \"#0d0887\"], [0.1111111111111111, \"#46039f\"], [0.2222222222222222, \"#7201a8\"], [0.3333333333333333, \"#9c179e\"], [0.4444444444444444, \"#bd3786\"], [0.5555555555555556, \"#d8576b\"], [0.6666666666666666, \"#ed7953\"], [0.7777777777777778, \"#fb9f3a\"], [0.8888888888888888, \"#fdca26\"], [1.0, \"#f0f921\"]], \"type\": \"heatmapgl\"}], \"histogram\": [{\"marker\": {\"colorbar\": {\"outlinewidth\": 0, \"ticks\": \"\"}}, \"type\": \"histogram\"}], \"histogram2d\": [{\"colorbar\": {\"outlinewidth\": 0, \"ticks\": \"\"}, \"colorscale\": [[0.0, \"#0d0887\"], [0.1111111111111111, \"#46039f\"], [0.2222222222222222, \"#7201a8\"], [0.3333333333333333, \"#9c179e\"], [0.4444444444444444, \"#bd3786\"], [0.5555555555555556, \"#d8576b\"], [0.6666666666666666, \"#ed7953\"], [0.7777777777777778, \"#fb9f3a\"], [0.8888888888888888, \"#fdca26\"], [1.0, \"#f0f921\"]], \"type\": \"histogram2d\"}], \"histogram2dcontour\": [{\"colorbar\": {\"outlinewidth\": 0, \"ticks\": \"\"}, \"colorscale\": [[0.0, \"#0d0887\"], [0.1111111111111111, \"#46039f\"], [0.2222222222222222, \"#7201a8\"], [0.3333333333333333, \"#9c179e\"], [0.4444444444444444, \"#bd3786\"], [0.5555555555555556, \"#d8576b\"], [0.6666666666666666, \"#ed7953\"], [0.7777777777777778, \"#fb9f3a\"], [0.8888888888888888, \"#fdca26\"], [1.0, \"#f0f921\"]], \"type\": \"histogram2dcontour\"}], \"mesh3d\": [{\"colorbar\": {\"outlinewidth\": 0, \"ticks\": \"\"}, \"type\": \"mesh3d\"}], \"parcoords\": [{\"line\": {\"colorbar\": {\"outlinewidth\": 0, \"ticks\": \"\"}}, \"type\": \"parcoords\"}], \"pie\": [{\"automargin\": true, \"type\": \"pie\"}], \"scatter\": [{\"marker\": {\"colorbar\": {\"outlinewidth\": 0, \"ticks\": \"\"}}, \"type\": \"scatter\"}], \"scatter3d\": [{\"line\": {\"colorbar\": {\"outlinewidth\": 0, \"ticks\": \"\"}}, \"marker\": {\"colorbar\": {\"outlinewidth\": 0, \"ticks\": \"\"}}, \"type\": \"scatter3d\"}], \"scattercarpet\": [{\"marker\": {\"colorbar\": {\"outlinewidth\": 0, \"ticks\": \"\"}}, \"type\": \"scattercarpet\"}], \"scattergeo\": [{\"marker\": {\"colorbar\": {\"outlinewidth\": 0, \"ticks\": \"\"}}, \"type\": \"scattergeo\"}], \"scattergl\": [{\"marker\": {\"colorbar\": {\"outlinewidth\": 0, \"ticks\": \"\"}}, \"type\": \"scattergl\"}], \"scattermapbox\": [{\"marker\": {\"colorbar\": {\"outlinewidth\": 0, \"ticks\": \"\"}}, \"type\": \"scattermapbox\"}], \"scatterpolar\": [{\"marker\": {\"colorbar\": {\"outlinewidth\": 0, \"ticks\": \"\"}}, \"type\": \"scatterpolar\"}], \"scatterpolargl\": [{\"marker\": {\"colorbar\": {\"outlinewidth\": 0, \"ticks\": \"\"}}, \"type\": \"scatterpolargl\"}], \"scatterternary\": [{\"marker\": {\"colorbar\": {\"outlinewidth\": 0, \"ticks\": \"\"}}, \"type\": \"scatterternary\"}], \"surface\": [{\"colorbar\": {\"outlinewidth\": 0, \"ticks\": \"\"}, \"colorscale\": [[0.0, \"#0d0887\"], [0.1111111111111111, \"#46039f\"], [0.2222222222222222, \"#7201a8\"], [0.3333333333333333, \"#9c179e\"], [0.4444444444444444, \"#bd3786\"], [0.5555555555555556, \"#d8576b\"], [0.6666666666666666, \"#ed7953\"], [0.7777777777777778, \"#fb9f3a\"], [0.8888888888888888, \"#fdca26\"], [1.0, \"#f0f921\"]], \"type\": \"surface\"}], \"table\": [{\"cells\": {\"fill\": {\"color\": \"#EBF0F8\"}, \"line\": {\"color\": \"white\"}}, \"header\": {\"fill\": {\"color\": \"#C8D4E3\"}, \"line\": {\"color\": \"white\"}}, \"type\": \"table\"}]}, \"layout\": {\"annotationdefaults\": {\"arrowcolor\": \"#2a3f5f\", \"arrowhead\": 0, \"arrowwidth\": 1}, \"coloraxis\": {\"colorbar\": {\"outlinewidth\": 0, \"ticks\": \"\"}}, \"colorscale\": {\"diverging\": [[0, \"#8e0152\"], [0.1, \"#c51b7d\"], [0.2, \"#de77ae\"], [0.3, \"#f1b6da\"], [0.4, \"#fde0ef\"], [0.5, \"#f7f7f7\"], [0.6, \"#e6f5d0\"], [0.7, \"#b8e186\"], [0.8, \"#7fbc41\"], [0.9, \"#4d9221\"], [1, \"#276419\"]], \"sequential\": [[0.0, \"#0d0887\"], [0.1111111111111111, \"#46039f\"], [0.2222222222222222, \"#7201a8\"], [0.3333333333333333, \"#9c179e\"], [0.4444444444444444, \"#bd3786\"], [0.5555555555555556, \"#d8576b\"], [0.6666666666666666, \"#ed7953\"], [0.7777777777777778, \"#fb9f3a\"], [0.8888888888888888, \"#fdca26\"], [1.0, \"#f0f921\"]], \"sequentialminus\": [[0.0, \"#0d0887\"], [0.1111111111111111, \"#46039f\"], [0.2222222222222222, \"#7201a8\"], [0.3333333333333333, \"#9c179e\"], [0.4444444444444444, \"#bd3786\"], [0.5555555555555556, \"#d8576b\"], [0.6666666666666666, \"#ed7953\"], [0.7777777777777778, \"#fb9f3a\"], [0.8888888888888888, \"#fdca26\"], [1.0, \"#f0f921\"]]}, \"colorway\": [\"#636efa\", \"#EF553B\", \"#00cc96\", \"#ab63fa\", \"#FFA15A\", \"#19d3f3\", \"#FF6692\", \"#B6E880\", \"#FF97FF\", \"#FECB52\"], \"font\": {\"color\": \"#2a3f5f\"}, \"geo\": {\"bgcolor\": \"white\", \"lakecolor\": \"white\", \"landcolor\": \"white\", \"showlakes\": true, \"showland\": true, \"subunitcolor\": \"#C8D4E3\"}, \"hoverlabel\": {\"align\": \"left\"}, \"hovermode\": \"closest\", \"mapbox\": {\"style\": \"light\"}, \"paper_bgcolor\": \"white\", \"plot_bgcolor\": \"white\", \"polar\": {\"angularaxis\": {\"gridcolor\": \"#EBF0F8\", \"linecolor\": \"#EBF0F8\", \"ticks\": \"\"}, \"bgcolor\": \"white\", \"radialaxis\": {\"gridcolor\": \"#EBF0F8\", \"linecolor\": \"#EBF0F8\", \"ticks\": \"\"}}, \"scene\": {\"xaxis\": {\"backgroundcolor\": \"white\", \"gridcolor\": \"#DFE8F3\", \"gridwidth\": 2, \"linecolor\": \"#EBF0F8\", \"showbackground\": true, \"ticks\": \"\", \"zerolinecolor\": \"#EBF0F8\"}, \"yaxis\": {\"backgroundcolor\": \"white\", \"gridcolor\": \"#DFE8F3\", \"gridwidth\": 2, \"linecolor\": \"#EBF0F8\", \"showbackground\": true, \"ticks\": \"\", \"zerolinecolor\": \"#EBF0F8\"}, \"zaxis\": {\"backgroundcolor\": \"white\", \"gridcolor\": \"#DFE8F3\", \"gridwidth\": 2, \"linecolor\": \"#EBF0F8\", \"showbackground\": true, \"ticks\": \"\", \"zerolinecolor\": \"#EBF0F8\"}}, \"shapedefaults\": {\"line\": {\"color\": \"#2a3f5f\"}}, \"ternary\": {\"aaxis\": {\"gridcolor\": \"#DFE8F3\", \"linecolor\": \"#A2B1C6\", \"ticks\": \"\"}, \"baxis\": {\"gridcolor\": \"#DFE8F3\", \"linecolor\": \"#A2B1C6\", \"ticks\": \"\"}, \"bgcolor\": \"white\", \"caxis\": {\"gridcolor\": \"#DFE8F3\", \"linecolor\": \"#A2B1C6\", \"ticks\": \"\"}}, \"title\": {\"x\": 0.05}, \"xaxis\": {\"automargin\": true, \"gridcolor\": \"#EBF0F8\", \"linecolor\": \"#EBF0F8\", \"ticks\": \"\", \"title\": {\"standoff\": 15}, \"zerolinecolor\": \"#EBF0F8\", \"zerolinewidth\": 2}, \"yaxis\": {\"automargin\": true, \"gridcolor\": \"#EBF0F8\", \"linecolor\": \"#EBF0F8\", \"ticks\": \"\", \"title\": {\"standoff\": 15}, \"zerolinecolor\": \"#EBF0F8\", \"zerolinewidth\": 2}}}, \"xaxis\": {\"dtick\": 1, \"title\": {\"text\": \"Value of C for SVC\"}}, \"yaxis\": {\"title\": {\"text\": \"Cross Validated Accuracy\"}}},\n",
       "                        {\"responsive\": true}\n",
       "                    ).then(function(){\n",
       "                            \n",
       "var gd = document.getElementById('1444c54d-f264-4fb1-8bfb-81592c821e39');\n",
       "var x = new MutationObserver(function (mutations, observer) {{\n",
       "        var display = window.getComputedStyle(gd).display;\n",
       "        if (!display || display === 'none') {{\n",
       "            console.log([gd, 'removed!']);\n",
       "            Plotly.purge(gd);\n",
       "            observer.disconnect();\n",
       "        }}\n",
       "}});\n",
       "\n",
       "// Listen for the removal of the full notebook cells\n",
       "var notebookContainer = gd.closest('#notebook-container');\n",
       "if (notebookContainer) {{\n",
       "    x.observe(notebookContainer, {childList: true});\n",
       "}}\n",
       "\n",
       "// Listen for the clearing of the current output cell\n",
       "var outputEl = gd.closest('.output');\n",
       "if (outputEl) {{\n",
       "    x.observe(outputEl, {childList: true});\n",
       "}}\n",
       "\n",
       "                        })\n",
       "                };\n",
       "                });\n",
       "            </script>\n",
       "        </div>"
      ]
     },
     "metadata": {},
     "output_type": "display_data"
    }
   ],
   "source": [
    "\n",
    "\n",
    "print(\"-------------\")\n",
    "print(\"SVM\")\n",
    "print(\"-------------\")\n",
    "# experiment(\"BOW\",svm)\n",
    "# experiment(\"BIGRAM\",svm)\n",
    "# experiment(\"POS\",svm)\n",
    "# experiment(\"posbow\",svm)\n",
    "experiment(\"posbigram\",svm)\n",
    "\n"
   ]
  },
  {
   "cell_type": "code",
   "execution_count": 57,
   "metadata": {},
   "outputs": [],
   "source": [
    "rf=RandomForest(RSEED=50,MAX_DEPTH=20,n_estimators=100)\n"
   ]
  },
  {
   "cell_type": "code",
   "execution_count": 58,
   "metadata": {},
   "outputs": [
    {
     "name": "stdout",
     "output_type": "stream",
     "text": [
      "-------------\n",
      "RANDOM FOREST\n",
      "-------------\n",
      "BOW\n",
      "\n",
      "Model Accuracy: 0.7619047619047619\n",
      "Train ROC AUC Score: 1.0\n",
      "Test ROC AUC  Score: 0.7448512585812357\n",
      "{'recall': 0.5789473684210527, 'precision': 0.8461538461538461, 'roc': 0.7448512585812357}\n",
      "BOW\n",
      "\n",
      "\n",
      "Confusion matrix, without normalization\n",
      "[[11  8]\n",
      " [ 2 21]]\n",
      "BIGRAM\n",
      "\n",
      "Model Accuracy: 0.5952380952380952\n",
      "Train ROC AUC Score: 1.0\n",
      "Test ROC AUC  Score: 0.7002288329519452\n",
      "{'recall': 0.15789473684210525, 'precision': 0.75, 'roc': 0.7002288329519452}\n",
      "BIGRAM\n",
      "\n",
      "\n",
      "Confusion matrix, without normalization\n",
      "[[ 3 16]\n",
      " [ 1 22]]\n",
      "POS\n",
      "\n",
      "Model Accuracy: 0.6666666666666666\n",
      "Train ROC AUC Score: 1.0\n",
      "Test ROC AUC  Score: 0.6407322654462243\n",
      "{'recall': 0.47368421052631576, 'precision': 0.6923076923076923, 'roc': 0.6407322654462243}\n",
      "POS\n",
      "\n",
      "\n",
      "Confusion matrix, without normalization\n",
      "[[ 9 10]\n",
      " [ 4 19]]\n",
      "POS+BOW\n",
      "\n",
      "Model Accuracy: 0.7380952380952381\n",
      "Train ROC AUC Score: 1.0\n",
      "Test ROC AUC  Score: 0.7505720823798627\n",
      "{'recall': 0.5263157894736842, 'precision': 0.8333333333333334, 'roc': 0.7505720823798627}\n",
      "posbow\n",
      "\n",
      "\n",
      "Confusion matrix, without normalization\n",
      "[[10  9]\n",
      " [ 2 21]]\n",
      "POS+BIGRAM\n",
      "\n",
      "Model Accuracy: 0.6428571428571429\n",
      "Train ROC AUC Score: 0.9999999999999999\n",
      "Test ROC AUC  Score: 0.6681922196796339\n",
      "{'recall': 0.2631578947368421, 'precision': 0.8333333333333334, 'roc': 0.6681922196796339}\n",
      "posbigram\n",
      "\n",
      "\n",
      "Confusion matrix, without normalization\n",
      "[[ 5 14]\n",
      " [ 1 22]]\n"
     ]
    },
    {
     "data": {
      "image/png": "[encoded data removed]",
      "text/plain": [
       "<Figure size 720x720 with 2 Axes>"
      ]
     },
     "metadata": {
      "needs_background": "light"
     },
     "output_type": "display_data"
    },
    {
     "data": {
      "image/png": "[encoded data removed]",
      "text/plain": [
       "<Figure size 720x720 with 2 Axes>"
      ]
     },
     "metadata": {
      "needs_background": "light"
     },
     "output_type": "display_data"
    },
    {
     "data": {
      "image/png": "[encoded data removed]",
      "text/plain": [
       "<Figure size 720x720 with 2 Axes>"
      ]
     },
     "metadata": {
      "needs_background": "light"
     },
     "output_type": "display_data"
    },
    {
     "data": {
      "image/png": "[encoded data removed]",
      "text/plain": [
       "<Figure size 720x720 with 2 Axes>"
      ]
     },
     "metadata": {
      "needs_background": "light"
     },
     "output_type": "display_data"
    },
    {
     "data": {
      "image/png": "[encoded data removed]",
      "text/plain": [
       "<Figure size 720x720 with 2 Axes>"
      ]
     },
     "metadata": {
      "needs_background": "light"
     },
     "output_type": "display_data"
    }
   ],
   "source": [
    "print(\"-------------\")\n",
    "print(\"RANDOM FOREST\")\n",
    "print(\"-------------\")\n",
    "experiment(\"BOW\",rf)\n",
    "experiment(\"BIGRAM\",rf)\n",
    "experiment(\"POS\",rf)\n",
    "experiment(\"posbow\",rf)\n",
    "experiment(\"posbigram\",rf)"
   ]
  },
  {
   "cell_type": "code",
   "execution_count": 59,
   "metadata": {},
   "outputs": [
    {
     "name": "stdout",
     "output_type": "stream",
     "text": [
      "-------------\n",
      "LR\n",
      "-------------\n",
      "BOW\n",
      "\n",
      "Model Accuracy: 0.7619047619047619\n",
      "Train ROC AUC Score: 0.9994162703949429\n",
      "Test ROC AUC  Score: 0.7208237986270023\n",
      "{'recall': 0.6842105263157895, 'precision': 0.7647058823529411, 'roc': 0.7208237986270023}\n",
      "BOW\n",
      "\n",
      "\n",
      "Confusion matrix, without normalization\n",
      "[[13  6]\n",
      " [ 4 19]]\n",
      "BIGRAM\n",
      "\n",
      "Model Accuracy: 0.5714285714285714\n",
      "Train ROC AUC Score: 1.0\n",
      "Test ROC AUC  Score: 0.6727688787185354\n",
      "{'recall': 0.05263157894736842, 'precision': 1.0, 'roc': 0.6727688787185354}\n",
      "BIGRAM\n",
      "\n",
      "\n",
      "Confusion matrix, without normalization\n",
      "[[ 1 18]\n",
      " [ 0 23]]\n",
      "POS\n",
      "\n",
      "Model Accuracy: 0.4523809523809524\n",
      "Train ROC AUC Score: 0.7471454198581965\n",
      "Test ROC AUC  Score: 0.38215102974828374\n",
      "{'recall': 0.3157894736842105, 'precision': 0.375, 'roc': 0.38215102974828374}\n",
      "POS\n",
      "\n",
      "\n",
      "Confusion matrix, without normalization\n",
      "[[ 6 13]\n",
      " [10 13]]\n",
      "POS+BOW\n",
      "\n",
      "Model Accuracy: 0.6666666666666666\n",
      "Train ROC AUC Score: 0.999487456932145\n",
      "Test ROC AUC  Score: 0.620137299771167\n",
      "{'recall': 0.5263157894736842, 'precision': 0.6666666666666666, 'roc': 0.620137299771167}\n",
      "posbow\n",
      "\n",
      "\n",
      "Confusion matrix, without normalization\n",
      "[[10  9]\n",
      " [ 5 18]]\n",
      "POS+BIGRAM\n",
      "\n",
      "Model Accuracy: 0.5714285714285714\n",
      "Train ROC AUC Score: 1.0\n",
      "Test ROC AUC  Score: 0.5720823798627003\n",
      "{'recall': 0.05263157894736842, 'precision': 1.0, 'roc': 0.5720823798627003}\n",
      "posbigram\n",
      "\n",
      "\n",
      "Confusion matrix, without normalization\n",
      "[[ 1 18]\n",
      " [ 0 23]]\n"
     ]
    },
    {
     "data": {
      "image/png": "[encoded data removed]",
      "text/plain": [
       "<Figure size 720x720 with 2 Axes>"
      ]
     },
     "metadata": {
      "needs_background": "light"
     },
     "output_type": "display_data"
    },
    {
     "data": {
      "image/png": "[encoded data removed]",
      "text/plain": [
       "<Figure size 720x720 with 2 Axes>"
      ]
     },
     "metadata": {
      "needs_background": "light"
     },
     "output_type": "display_data"
    },
    {
     "data": {
      "image/png": "[encoded data removed]",
      "text/plain": [
       "<Figure size 720x720 with 2 Axes>"
      ]
     },
     "metadata": {
      "needs_background": "light"
     },
     "output_type": "display_data"
    },
    {
     "data": {
      "image/png": "[encoded data removed]",
      "text/plain": [
       "<Figure size 720x720 with 2 Axes>"
      ]
     },
     "metadata": {
      "needs_background": "light"
     },
     "output_type": "display_data"
    },
    {
     "data": {
      "image/png": "[encoded data removed]",
      "text/plain": [
       "<Figure size 720x720 with 2 Axes>"
      ]
     },
     "metadata": {
      "needs_background": "light"
     },
     "output_type": "display_data"
    }
   ],
   "source": [
    "print(\"-------------\")\n",
    "print(\"LR\")\n",
    "print(\"-------------\")\n",
    "experiment(\"BOW\",lrc)\n",
    "experiment(\"BIGRAM\",lrc)\n",
    "experiment(\"POS\",lrc)\n",
    "experiment(\"posbow\",lrc)\n",
    "experiment(\"posbigram\",lrc)"
   ]
  },
  {
   "cell_type": "code",
   "execution_count": null,
   "metadata": {},
   "outputs": [],
   "source": [
    "df['predicted'] = None"
   ]
  },
  {
   "cell_type": "code",
   "execution_count": null,
   "metadata": {},
   "outputs": [],
   "source": [
    "df.iloc[test_idx, df.columns.get_loc('predicted')] = predictions"
   ]
  },
  {
   "cell_type": "code",
   "execution_count": null,
   "metadata": {},
   "outputs": [],
   "source": [
    "df.iloc[test_idx]"
   ]
  },
  {
   "cell_type": "code",
   "execution_count": null,
   "metadata": {},
   "outputs": [],
   "source": [
    "df.iloc[test_idx]['tweet']"
   ]
  },
  {
   "cell_type": "code",
   "execution_count": null,
   "metadata": {},
   "outputs": [],
   "source": [
    "print(len(bigram_vectorizer.get_feature_names()))\n",
    "\n",
    "l=bigram_vectorizer.get_feature_names()\n",
    "print(l[995])"
   ]
  },
  {
   "cell_type": "markdown",
   "metadata": {},
   "source": [
    "# random forest"
   ]
  },
  {
   "cell_type": "code",
   "execution_count": null,
   "metadata": {},
   "outputs": [],
   "source": [
    "model,test_x,test_y,y_train,train_X=rf.train(X,y)"
   ]
  },
  {
   "cell_type": "code",
   "execution_count": null,
   "metadata": {},
   "outputs": [],
   "source": [
    "rf.evaluate(model,test_x, test_y,y_train,train_X)"
   ]
  },
  {
   "cell_type": "markdown",
   "metadata": {},
   "source": [
    "# SVM"
   ]
  },
  {
   "cell_type": "code",
   "execution_count": 49,
   "metadata": {},
   "outputs": [],
   "source": [
    "svm=SVM()\n"
   ]
  },
  {
   "cell_type": "code",
   "execution_count": null,
   "metadata": {},
   "outputs": [],
   "source": [
    "\n",
    "# decision tree for feature importance on a regression problem\n",
    "from sklearn.datasets import make_regression\n",
    "from sklearn.tree import DecisionTreeRegressor\n",
    "from matplotlib import pyplot\n",
    "# # define dataset\n",
    "# X, y = make_regression(n_samples=1000, n_features=10, n_informative=5, random_state=1)\n",
    "# define the model\n",
    "# model = DecisionTreeRegressor()\n",
    "# # fit the model\n",
    "# model.fit(X, y)\n",
    "# get importance\n",
    "importance = model.feature_importances_\n",
    "l=bigram_vectorizer.get_feature_names()\n",
    "\n",
    "# summarize feature importance\n",
    "for i,v in enumerate(importance):\n",
    "    if v > 0.000:\n",
    "        print('Feature: %0d, Score: %.5f' % (i,v))\n",
    "        print(l[i])\n",
    "# plot feature importance\n",
    "pyplot.bar([x for x in range(len(importance))], importance)\n",
    "pyplot.show()"
   ]
  },
  {
   "cell_type": "code",
   "execution_count": null,
   "metadata": {},
   "outputs": [],
   "source": [
    "from sklearn.externals.six import StringIO  \n",
    "from IPython.display import Image \n",
    "from sklearn import tree\n",
    "\n",
    "import pydotplus\n",
    "# dotfile = open(\"dtree2.dot\", 'w')\n",
    "# tree.export_graphviz(clf, out_file = dotfile, feature_names = bigram_vectorizer.get_feature_names())\n",
    "# dotfile.close()\n",
    "\n",
    "# from sklearn.tree import export_graphviz\n",
    "# import pydotplus\n",
    "# dotfile = open(\"dtree2.dot\", 'w')\n",
    "# export_graphviz(clf, out_file=dot_data,  \n",
    "#                 filled=True, rounded=True,\n",
    "#                 special_characters=True)\n",
    "# graph,_,_,_= pydotplus.graph_from_dot_data(dot_data.getvalue())  \n",
    "# Image(graph.create_png())"
   ]
  },
  {
   "cell_type": "code",
   "execution_count": null,
   "metadata": {},
   "outputs": [],
   "source": [
    "from sklearn.tree import export_graphviz\n",
    "dot_data = tree.export_graphviz(clf,\n",
    "                                feature_names=bigram_vectorizer.get_feature_names())\n",
    "graph = pydotplus.graph_from_dot_data(dot_data)\n",
    "\n",
    "\n",
    "# graph.write_png('tree.png')"
   ]
  },
  {
   "cell_type": "code",
   "execution_count": null,
   "metadata": {},
   "outputs": [],
   "source": [
    "tree.plot_tree(clf)"
   ]
  },
  {
   "cell_type": "code",
   "execution_count": null,
   "metadata": {},
   "outputs": [],
   "source": [
    "import graphviz \n",
    "dot_data = tree.export_graphviz(clf, out_file=None, \n",
    "                      feature_names=bigram_vectorizer.get_feature_names(),  \n",
    "                     class_names=[\"Fake\",\"TRUE\"],  \n",
    "                      filled=True, rounded=True,  \n",
    "                     special_characters=True)"
   ]
  },
  {
   "cell_type": "code",
   "execution_count": null,
   "metadata": {},
   "outputs": [],
   "source": [
    "from sklearn.tree import DecisionTreeClassifier\n",
    "from sklearn import datasets\n",
    "from IPython.display import Image  \n",
    "from sklearn import tree\n",
    "import pydotplus"
   ]
  },
  {
   "cell_type": "code",
   "execution_count": null,
   "metadata": {},
   "outputs": [],
   "source": [
    "from sklearn.tree import export_graphviz\n",
    "export_graphviz(model, out_file='depth10.dot', \n",
    "                      feature_names=bigram_vectorizer.get_feature_names(),  \n",
    "                     class_names=[\"Fake\",\"TRUE\"],  \n",
    "                      filled=True, rounded=True,  \n",
    "                     special_characters=True)"
   ]
  },
  {
   "cell_type": "code",
   "execution_count": null,
   "metadata": {},
   "outputs": [],
   "source": [
    "!dot -T png depth10.dot -o depth10.png"
   ]
  },
  {
   "cell_type": "code",
   "execution_count": null,
   "metadata": {},
   "outputs": [],
   "source": [
    "from IPython.display import Image\n",
    "Image(filename = 'depth10.png')"
   ]
  },
  {
   "cell_type": "code",
   "execution_count": null,
   "metadata": {},
   "outputs": [],
   "source": [
    "# packages to import\n",
    "import numpy as np\n",
    "import pylab as pl\n",
    "from sklearn import svm\n",
    "from sklearn.utils import shuffle\n",
    "from sklearn.metrics import roc_curve, auc\n",
    "random_state = np.random.RandomState(0)"
   ]
  }
 ],
 "metadata": {
  "kernelspec": {
   "display_name": "Python 3",
   "language": "python",
   "name": "python3"
  },
  "language_info": {
   "codemirror_mode": {
    "name": "ipython",
    "version": 3
   },
   "file_extension": ".py",
   "mimetype": "text/x-python",
   "name": "python",
   "nbconvert_exporter": "python",
   "pygments_lexer": "ipython3",
   "version": "3.7.6"
  }
 },
 "nbformat": 4,
 "nbformat_minor": 4
}
